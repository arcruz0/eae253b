{
 "cells": [
  {
   "cell_type": "markdown",
   "metadata": {},
   "source": [
    "# 2018-08-28 (Martes)\n",
    "## Feedback borradores proyectos\n",
    "\n",
    "## Fechas reuniones\n",
    "\n",
    "- Lunes a Viernes, 8:30am en San Joaquín\n",
    "- Martes o Jueves, 6:45pm en San Joaquín\n",
    "- Miércoles 12 Sept, 8:30am a 10:30am en San Joaquín\n",
    "- Lunes a Viernes, 10am a 3pm, Metro Moneda\n",
    "\n"
   ]
  },
  {
   "cell_type": "markdown",
   "metadata": {},
   "source": [
    "\n",
    "## Jueves 30, entrega tarea 2\n",
    "\n",
    "--- \n",
    "\n",
    "## Ejercicio en clase\n",
    "\n",
    "Practica con listas y diccionarios\n",
    "\n",
    "https://open.kattis.com/problems/printingcosts/"
   ]
  },
  {
   "cell_type": "code",
   "execution_count": 2,
   "metadata": {
    "collapsed": true
   },
   "outputs": [],
   "source": [
    "#cargamos datos del ejercicio\n",
    "\n",
    "# diccionario con los costos por cada letra\n",
    "COSTS = {\n",
    "    ' ': 0      ,    '!':   9  ,      '\"':   6   ,     '#':  24      ,  '$': 29       , '%':  22,\n",
    "    '&':  24    ,    \"'\":   3  ,      '(':  12   ,     ')':  12  ,      '*':  17  ,      '+':  13,\n",
    "    ',':   7    ,    '-':   7  ,      '.':   4   ,     '/':  10   ,    '0':  22    ,    '1':  19,\n",
    "    '2':  22    ,    '3':  23  ,      '4':  21   ,     '5':  27   ,     '6':  26   ,     '7':  16,\n",
    "    '8':  23    ,    '9':  26  ,      ':':   8   ,     ';':  11   ,     '<':  10   ,     '=': 14,\n",
    "    \">\":  10    ,    '?':  15  ,      \"@\":  32   ,     \"A\":  24  ,     \"B\":  29   ,     'C':  20,\n",
    "    'D':  26    ,    'E':  26  ,      'F':  20   ,     'G':  25   ,     'H':  25   ,     'I':  18,\n",
    "    'J':  18    ,    'K':  21  ,      'L':  16   ,     'M':  28   ,     'N':  25   ,     'O':  26,\n",
    "    'P':  23    ,    'Q':  31  ,      'R':  28   ,     'S':  25   ,     'T':  16   ,     'U':  23,\n",
    "    'V':  19    ,    'W':  26  ,      'X':  18   ,     'Y':  14   ,     'Z':  22   ,     \"[\":  18,\n",
    "    '\\\\': 10    ,    ']':  18  ,       \"^\":  7   ,      \"_\":   8   ,     '`':   3   ,     'a':  23,\n",
    "    'b':  25    ,    'c':  17  ,      'd':  25   ,     'e':  23   ,     'f':  18   ,     'g':  30,\n",
    "    'h':  21    ,    'i':  15  ,      'j':  20   ,     'k':  21   ,     'l':  16   ,     'm':  22,\n",
    "    'n':  18    ,    'o':  20  ,      'p':  25   ,     'q':  25   ,     'r':  13   ,     's':  21,\n",
    "    't':  17    ,    'u':  17  ,      'v':  13   ,     'w':  19   ,     'x':  13   ,     'y':  24,\n",
    "    'z':  19    ,    '{':  18  ,      '|':  12   ,     '}':  18   ,     '~':   9   }\n",
    "\n",
    "# posibles lineas de input para probar\n",
    "linea1 = 'This is a short line.'\n",
    "linea2 = 'THIS IS A LONGER, MORE EXPENSIVE LINE.'\n",
    "linea3 = 'cuanto costara esta linea?'"
   ]
  },
  {
   "cell_type": "markdown",
   "metadata": {},
   "source": [
    "** Ejercicio: escriba un procedimiento que le permita calcular el costo de imprimir cada linea **"
   ]
  },
  {
   "cell_type": "code",
   "execution_count": 17,
   "metadata": {
    "collapsed": true
   },
   "outputs": [
    {
     "name": "stdout",
     "output_type": "stream",
     "text": [
      "16\n",
      "21\n",
      "15\n",
      "21\n",
      "0\n",
      "15\n",
      "21\n",
      "0\n",
      "23\n",
      "0\n",
      "21\n",
      "21\n",
      "20\n",
      "13\n",
      "17\n",
      "0\n",
      "16\n",
      "15\n",
      "18\n",
      "23\n",
      "4\n",
      "300\n",
      "16\n",
      "25\n",
      "18\n",
      "25\n",
      "0\n",
      "18\n",
      "25\n",
      "0\n",
      "24\n",
      "0\n",
      "16\n",
      "26\n",
      "25\n",
      "25\n",
      "26\n",
      "28\n",
      "7\n",
      "0\n",
      "28\n",
      "26\n",
      "28\n",
      "26\n",
      "0\n",
      "26\n",
      "18\n",
      "23\n",
      "26\n",
      "25\n",
      "25\n",
      "18\n",
      "19\n",
      "26\n",
      "0\n",
      "16\n",
      "18\n",
      "25\n",
      "26\n",
      "4\n",
      "707\n",
      "17\n",
      "17\n",
      "23\n",
      "18\n",
      "17\n",
      "20\n",
      "0\n",
      "17\n",
      "20\n",
      "21\n",
      "17\n",
      "23\n",
      "13\n",
      "23\n",
      "0\n",
      "23\n",
      "21\n",
      "17\n",
      "23\n",
      "0\n",
      "16\n",
      "15\n",
      "18\n",
      "23\n",
      "23\n",
      "15\n",
      "440\n",
      "440\n"
     ]
    }
   ],
   "source": [
    "### completar código para calcular el costo de imprimir una determinada línea\n",
    "\n",
    "\n",
    "for linea in [linea1, linea2, linea3]:\n",
    "    costo_total = 0\n",
    "\n",
    "    for letra in linea:\n",
    "        \n",
    "        #en este paso, tenemos una \"letra\". que hacemos con \"letra\"?\n",
    "\n",
    "        #buscamos su valor en la tabla de costos\n",
    "        costo_letra = COSTS[letra]\n",
    "        print(costo_letra)\n",
    "        \n",
    "        #despues sumamos ese valor a un \"total\"\n",
    "        costo_total = costo_total + costo_letra\n",
    "    \n",
    "    print(costo_total)\n",
    "\n",
    "#aqui ya estoy afuera del loop\n",
    "\n",
    "print(costo_total)"
   ]
  },
  {
   "cell_type": "markdown",
   "metadata": {},
   "source": [
    "En el procedimiento anterior, nos \"abstrajimos\" del cálculo del costo de una línea, para poder calcular el costo de varias líneas a la vez. Implícitamente, lo que hicimos fue definir una \"función\" que toma una línea y la procesa, entregando el costo correspondiente para esa línea.\n",
    "\n",
    "Esta idea de abstracción se materializa formalmente en los lenguajes de programación en lo que se llaman \"funciones\". \n",
    "\n",
    "En Python, una función se define con el comando ```def```. Veamos un ejemplo:"
   ]
  },
  {
   "cell_type": "code",
   "execution_count": 20,
   "metadata": {
    "collapsed": true
   },
   "outputs": [],
   "source": [
    "def costo_de_linea(linea):\n",
    "    \n",
    "    #proceso de linea\n",
    "\n",
    "    costo_total = 0\n",
    "\n",
    "    for letra in linea:\n",
    "        \n",
    "        #en este paso, tenemos una \"letra\". que hacemos con \"letra\"?\n",
    "\n",
    "        #buscamos su valor en la tabla de costos\n",
    "        costo_letra = COSTS[letra]\n",
    "        \n",
    "        #despues sumamos ese valor a un \"total\"\n",
    "        costo_total = costo_total + costo_letra\n",
    "    \n",
    "    return costo_total"
   ]
  },
  {
   "cell_type": "markdown",
   "metadata": {},
   "source": [
    "Ahora que tenemos definida nuestra función, podemos reemplazar el cálculo del costo de una línea, por el cálculo que hace la función:"
   ]
  },
  {
   "cell_type": "code",
   "execution_count": 21,
   "metadata": {},
   "outputs": [
    {
     "name": "stdout",
     "output_type": "stream",
     "text": [
      "300\n",
      "707\n",
      "440\n"
     ]
    }
   ],
   "source": [
    "\n",
    "for linea in [linea1, linea2, linea3]:\n",
    "    costo_linea = costo_de_linea(linea)\n",
    "    \n",
    "    print(costo_linea)\n",
    "    \n"
   ]
  },
  {
   "cell_type": "markdown",
   "metadata": {},
   "source": [
    "\n",
    "\n"
   ]
  }
 ],
 "metadata": {
  "anaconda-cloud": {},
  "kernelspec": {
   "display_name": "Python 3",
   "language": "python",
   "name": "python3"
  },
  "language_info": {
   "codemirror_mode": {
    "name": "ipython",
    "version": 3
   },
   "file_extension": ".py",
   "mimetype": "text/x-python",
   "name": "python",
   "nbconvert_exporter": "python",
   "pygments_lexer": "ipython3",
   "version": "3.6.3"
  }
 },
 "nbformat": 4,
 "nbformat_minor": 2
}
