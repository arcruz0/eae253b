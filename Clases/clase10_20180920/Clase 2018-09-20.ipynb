{
 "cells": [
  {
   "cell_type": "markdown",
   "metadata": {},
   "source": [
    "# 2018 - 09 - 20 (jueves)\n",
    "\n",
    "## Comentarios Tarea 2\n",
    "\n",
    "## 27 septiembre\n",
    "    - Propuesta proyecto\n",
    "## 4 octubre\n",
    "    - Tarea 3\n",
    "    - Presentación proyectos\n",
    "\n",
    "---\n",
    "\n",
    "## Algunos ejercicios en Pandas\n",
    "\n",
    "### 1. Cargue Casen 2017 y obtenga estadisticas básicas\n",
    "\n",
    "Link Casen \"small\": https://www.dropbox.com/s/jzsx4nccxfkf4nh/Casen%202017small.zip?dl=0"
   ]
  },
  {
   "cell_type": "code",
   "execution_count": 4,
   "metadata": {
    "collapsed": true
   },
   "outputs": [],
   "source": [
    "import pandas as pd\n",
    "\n",
    "df = pd.read_stata(r'C:\\Users\\carlo\\Sync\\Clase Data Science\\Datos\\casen_2017_stata\\Casen 2017small.dta')"
   ]
  },
  {
   "cell_type": "code",
   "execution_count": 5,
   "metadata": {},
   "outputs": [
    {
     "data": {
      "text/plain": [
       "Index(['folio', 'o', 'id_vivienda', 'hogar', 'region', 'provincia', 'comuna',\n",
       "       'zona', 'expr', 'expc',\n",
       "       ...\n",
       "       'hh_d_estado', 'hh_d_servbas', 'hh_d_entorno', 'hh_d_accesi',\n",
       "       'hh_d_medio', 'hh_d_appart', 'hh_d_tsocial', 'hh_d_seg',\n",
       "       'pobreza_multi_4d', 'pobreza_multi_5d'],\n",
       "      dtype='object', length=486)"
      ]
     },
     "execution_count": 5,
     "metadata": {},
     "output_type": "execute_result"
    }
   ],
   "source": [
    "df.columns"
   ]
  },
  {
   "cell_type": "code",
   "execution_count": 3,
   "metadata": {},
   "outputs": [
    {
     "data": {
      "text/plain": [
       "count    2.164390e+05\n",
       "mean     1.099658e+06\n",
       "std      1.434400e+06\n",
       "min      0.000000e+00\n",
       "25%      4.983330e+05\n",
       "50%      7.700000e+05\n",
       "75%      1.234167e+06\n",
       "max      8.905000e+07\n",
       "Name: ytoth, dtype: float64"
      ]
     },
     "execution_count": 3,
     "metadata": {},
     "output_type": "execute_result"
    }
   ],
   "source": [
    "df.ytoth.describe()"
   ]
  },
  {
   "cell_type": "markdown",
   "metadata": {},
   "source": [
    "### 2. Calcule el número de personas por region\n",
    "\n"
   ]
  },
  {
   "cell_type": "code",
   "execution_count": 6,
   "metadata": {},
   "outputs": [
    {
     "data": {
      "text/html": [
       "<div>\n",
       "<table border=\"1\" class=\"dataframe\">\n",
       "  <thead>\n",
       "    <tr style=\"text-align: right;\">\n",
       "      <th></th>\n",
       "      <th>folio</th>\n",
       "      <th>o</th>\n",
       "      <th>id_vivienda</th>\n",
       "      <th>hogar</th>\n",
       "      <th>region</th>\n",
       "      <th>provincia</th>\n",
       "      <th>comuna</th>\n",
       "      <th>zona</th>\n",
       "      <th>expr</th>\n",
       "      <th>expc</th>\n",
       "      <th>...</th>\n",
       "      <th>hh_d_estado</th>\n",
       "      <th>hh_d_servbas</th>\n",
       "      <th>hh_d_entorno</th>\n",
       "      <th>hh_d_accesi</th>\n",
       "      <th>hh_d_medio</th>\n",
       "      <th>hh_d_appart</th>\n",
       "      <th>hh_d_tsocial</th>\n",
       "      <th>hh_d_seg</th>\n",
       "      <th>pobreza_multi_4d</th>\n",
       "      <th>pobreza_multi_5d</th>\n",
       "    </tr>\n",
       "  </thead>\n",
       "  <tbody>\n",
       "    <tr>\n",
       "      <th>0</th>\n",
       "      <td>1.101100e+11</td>\n",
       "      <td>1.0</td>\n",
       "      <td>1.101100e+09</td>\n",
       "      <td>1.0</td>\n",
       "      <td>Región de Tarapacá</td>\n",
       "      <td>Iquique</td>\n",
       "      <td>Iquique</td>\n",
       "      <td>Urbano</td>\n",
       "      <td>39.0</td>\n",
       "      <td>33.0</td>\n",
       "      <td>...</td>\n",
       "      <td>0.0</td>\n",
       "      <td>1.0</td>\n",
       "      <td>1.0</td>\n",
       "      <td>0.0</td>\n",
       "      <td>1.0</td>\n",
       "      <td>0.0</td>\n",
       "      <td>0.0</td>\n",
       "      <td>1.0</td>\n",
       "      <td>NaN</td>\n",
       "      <td>NaN</td>\n",
       "    </tr>\n",
       "    <tr>\n",
       "      <th>1</th>\n",
       "      <td>1.101100e+11</td>\n",
       "      <td>1.0</td>\n",
       "      <td>1.101100e+09</td>\n",
       "      <td>1.0</td>\n",
       "      <td>Región de Tarapacá</td>\n",
       "      <td>Iquique</td>\n",
       "      <td>Iquique</td>\n",
       "      <td>Urbano</td>\n",
       "      <td>39.0</td>\n",
       "      <td>33.0</td>\n",
       "      <td>...</td>\n",
       "      <td>1.0</td>\n",
       "      <td>0.0</td>\n",
       "      <td>0.0</td>\n",
       "      <td>0.0</td>\n",
       "      <td>0.0</td>\n",
       "      <td>0.0</td>\n",
       "      <td>0.0</td>\n",
       "      <td>0.0</td>\n",
       "      <td>Pobre</td>\n",
       "      <td>Pobre</td>\n",
       "    </tr>\n",
       "    <tr>\n",
       "      <th>2</th>\n",
       "      <td>1.101100e+11</td>\n",
       "      <td>1.0</td>\n",
       "      <td>1.101100e+09</td>\n",
       "      <td>1.0</td>\n",
       "      <td>Región de Tarapacá</td>\n",
       "      <td>Iquique</td>\n",
       "      <td>Iquique</td>\n",
       "      <td>Urbano</td>\n",
       "      <td>39.0</td>\n",
       "      <td>33.0</td>\n",
       "      <td>...</td>\n",
       "      <td>1.0</td>\n",
       "      <td>0.0</td>\n",
       "      <td>1.0</td>\n",
       "      <td>0.0</td>\n",
       "      <td>1.0</td>\n",
       "      <td>0.0</td>\n",
       "      <td>1.0</td>\n",
       "      <td>1.0</td>\n",
       "      <td>NaN</td>\n",
       "      <td>NaN</td>\n",
       "    </tr>\n",
       "    <tr>\n",
       "      <th>3</th>\n",
       "      <td>1.101100e+11</td>\n",
       "      <td>2.0</td>\n",
       "      <td>1.101100e+09</td>\n",
       "      <td>1.0</td>\n",
       "      <td>Región de Tarapacá</td>\n",
       "      <td>Iquique</td>\n",
       "      <td>Iquique</td>\n",
       "      <td>Urbano</td>\n",
       "      <td>39.0</td>\n",
       "      <td>33.0</td>\n",
       "      <td>...</td>\n",
       "      <td>1.0</td>\n",
       "      <td>0.0</td>\n",
       "      <td>1.0</td>\n",
       "      <td>0.0</td>\n",
       "      <td>1.0</td>\n",
       "      <td>0.0</td>\n",
       "      <td>1.0</td>\n",
       "      <td>1.0</td>\n",
       "      <td>NaN</td>\n",
       "      <td>NaN</td>\n",
       "    </tr>\n",
       "    <tr>\n",
       "      <th>4</th>\n",
       "      <td>1.101100e+11</td>\n",
       "      <td>1.0</td>\n",
       "      <td>1.101100e+09</td>\n",
       "      <td>1.0</td>\n",
       "      <td>Región de Tarapacá</td>\n",
       "      <td>Iquique</td>\n",
       "      <td>Iquique</td>\n",
       "      <td>Urbano</td>\n",
       "      <td>39.0</td>\n",
       "      <td>33.0</td>\n",
       "      <td>...</td>\n",
       "      <td>1.0</td>\n",
       "      <td>1.0</td>\n",
       "      <td>1.0</td>\n",
       "      <td>0.0</td>\n",
       "      <td>1.0</td>\n",
       "      <td>NaN</td>\n",
       "      <td>1.0</td>\n",
       "      <td>0.0</td>\n",
       "      <td>No pobre</td>\n",
       "      <td>NaN</td>\n",
       "    </tr>\n",
       "  </tbody>\n",
       "</table>\n",
       "<p>5 rows × 486 columns</p>\n",
       "</div>"
      ],
      "text/plain": [
       "          folio    o   id_vivienda  hogar              region provincia  \\\n",
       "0  1.101100e+11  1.0  1.101100e+09    1.0  Región de Tarapacá   Iquique   \n",
       "1  1.101100e+11  1.0  1.101100e+09    1.0  Región de Tarapacá   Iquique   \n",
       "2  1.101100e+11  1.0  1.101100e+09    1.0  Región de Tarapacá   Iquique   \n",
       "3  1.101100e+11  2.0  1.101100e+09    1.0  Región de Tarapacá   Iquique   \n",
       "4  1.101100e+11  1.0  1.101100e+09    1.0  Región de Tarapacá   Iquique   \n",
       "\n",
       "    comuna    zona  expr  expc        ...         hh_d_estado  hh_d_servbas  \\\n",
       "0  Iquique  Urbano  39.0  33.0        ...                 0.0           1.0   \n",
       "1  Iquique  Urbano  39.0  33.0        ...                 1.0           0.0   \n",
       "2  Iquique  Urbano  39.0  33.0        ...                 1.0           0.0   \n",
       "3  Iquique  Urbano  39.0  33.0        ...                 1.0           0.0   \n",
       "4  Iquique  Urbano  39.0  33.0        ...                 1.0           1.0   \n",
       "\n",
       "   hh_d_entorno  hh_d_accesi  hh_d_medio  hh_d_appart  hh_d_tsocial  hh_d_seg  \\\n",
       "0           1.0          0.0         1.0          0.0           0.0       1.0   \n",
       "1           0.0          0.0         0.0          0.0           0.0       0.0   \n",
       "2           1.0          0.0         1.0          0.0           1.0       1.0   \n",
       "3           1.0          0.0         1.0          0.0           1.0       1.0   \n",
       "4           1.0          0.0         1.0          NaN           1.0       0.0   \n",
       "\n",
       "   pobreza_multi_4d  pobreza_multi_5d  \n",
       "0               NaN               NaN  \n",
       "1             Pobre             Pobre  \n",
       "2               NaN               NaN  \n",
       "3               NaN               NaN  \n",
       "4          No pobre               NaN  \n",
       "\n",
       "[5 rows x 486 columns]"
      ]
     },
     "execution_count": 6,
     "metadata": {},
     "output_type": "execute_result"
    }
   ],
   "source": [
    "#con esto, vemos una \"muestra\" de las filas\n",
    "df.head()"
   ]
  },
  {
   "cell_type": "code",
   "execution_count": 7,
   "metadata": {
    "collapsed": true
   },
   "outputs": [],
   "source": [
    "grupos_por_region = df.groupby(['region'])"
   ]
  },
  {
   "cell_type": "code",
   "execution_count": 8,
   "metadata": {},
   "outputs": [
    {
     "data": {
      "text/plain": [
       "<pandas.core.groupby.DataFrameGroupBy object at 0x000001A3B257F978>"
      ]
     },
     "execution_count": 8,
     "metadata": {},
     "output_type": "execute_result"
    }
   ],
   "source": [
    "grupos_por_region"
   ]
  },
  {
   "cell_type": "code",
   "execution_count": 17,
   "metadata": {
    "collapsed": true
   },
   "outputs": [],
   "source": [
    "por_region = grupos_por_region[['folio']].count()"
   ]
  },
  {
   "cell_type": "code",
   "execution_count": 18,
   "metadata": {},
   "outputs": [
    {
     "data": {
      "text/html": [
       "<div>\n",
       "<table border=\"1\" class=\"dataframe\">\n",
       "  <thead>\n",
       "    <tr style=\"text-align: right;\">\n",
       "      <th></th>\n",
       "      <th>folio</th>\n",
       "    </tr>\n",
       "    <tr>\n",
       "      <th>region</th>\n",
       "      <th></th>\n",
       "    </tr>\n",
       "  </thead>\n",
       "  <tbody>\n",
       "    <tr>\n",
       "      <th>Región de Tarapacá</th>\n",
       "      <td>10150</td>\n",
       "    </tr>\n",
       "    <tr>\n",
       "      <th>Región de Antofagasta</th>\n",
       "      <td>8510</td>\n",
       "    </tr>\n",
       "    <tr>\n",
       "      <th>Región de Atacama</th>\n",
       "      <td>6961</td>\n",
       "    </tr>\n",
       "    <tr>\n",
       "      <th>Región de Coquimbo</th>\n",
       "      <td>9952</td>\n",
       "    </tr>\n",
       "    <tr>\n",
       "      <th>Región de Valparaíso</th>\n",
       "      <td>19625</td>\n",
       "    </tr>\n",
       "    <tr>\n",
       "      <th>Región del Libertador Gral. Bernardo OHiggins</th>\n",
       "      <td>15862</td>\n",
       "    </tr>\n",
       "    <tr>\n",
       "      <th>Región del Maule</th>\n",
       "      <td>15208</td>\n",
       "    </tr>\n",
       "    <tr>\n",
       "      <th>Región del Biobío</th>\n",
       "      <td>21532</td>\n",
       "    </tr>\n",
       "    <tr>\n",
       "      <th>Región de La Araucanía</th>\n",
       "      <td>15481</td>\n",
       "    </tr>\n",
       "    <tr>\n",
       "      <th>Región de Los Lagos</th>\n",
       "      <td>12442</td>\n",
       "    </tr>\n",
       "    <tr>\n",
       "      <th>Región de Ayséndel Gral. Carlos Ibáñez del Campo</th>\n",
       "      <td>5045</td>\n",
       "    </tr>\n",
       "    <tr>\n",
       "      <th>Región de Magallanes y de la Antártica Chilena</th>\n",
       "      <td>6637</td>\n",
       "    </tr>\n",
       "    <tr>\n",
       "      <th>Región Metropolitana de Santiago</th>\n",
       "      <td>42601</td>\n",
       "    </tr>\n",
       "    <tr>\n",
       "      <th>Región de Los Ríos</th>\n",
       "      <td>10175</td>\n",
       "    </tr>\n",
       "    <tr>\n",
       "      <th>Región de Arica y Parinacota</th>\n",
       "      <td>7888</td>\n",
       "    </tr>\n",
       "    <tr>\n",
       "      <th>Región de Ñuble</th>\n",
       "      <td>8370</td>\n",
       "    </tr>\n",
       "  </tbody>\n",
       "</table>\n",
       "</div>"
      ],
      "text/plain": [
       "                                                  folio\n",
       "region                                                 \n",
       "Región de Tarapacá                                10150\n",
       "Región de Antofagasta                              8510\n",
       "Región de Atacama                                  6961\n",
       "Región de Coquimbo                                 9952\n",
       "Región de Valparaíso                              19625\n",
       "Región del Libertador Gral. Bernardo OHiggins    15862\n",
       "Región del Maule                                  15208\n",
       "Región del Biobío                                 21532\n",
       "Región de La Araucanía                            15481\n",
       "Región de Los Lagos                               12442\n",
       "Región de Ayséndel Gral. Carlos Ibáñez del Campo   5045\n",
       "Región de Magallanes y de la Antártica Chilena     6637\n",
       "Región Metropolitana de Santiago                  42601\n",
       "Región de Los Ríos                                10175\n",
       "Región de Arica y Parinacota                       7888\n",
       "Región de Ñuble                                    8370"
      ]
     },
     "execution_count": 18,
     "metadata": {},
     "output_type": "execute_result"
    }
   ],
   "source": [
    "#aqui tenemos un \"DataFrame\" por region, con el numero de personas\n",
    "por_region\n"
   ]
  },
  {
   "cell_type": "code",
   "execution_count": 16,
   "metadata": {},
   "outputs": [
    {
     "data": {
      "text/plain": [
       "pandas.core.series.Series"
      ]
     },
     "execution_count": 16,
     "metadata": {},
     "output_type": "execute_result"
    }
   ],
   "source": [
    "type(por_region)"
   ]
  },
  {
   "cell_type": "markdown",
   "metadata": {},
   "source": [
    "### 3. Haga un grafico circular con el número de personas por región"
   ]
  },
  {
   "cell_type": "code",
   "execution_count": 20,
   "metadata": {},
   "outputs": [
    {
     "data": {
      "image/png": "[encoded data removed]",
      "text/plain": [
       "<Figure size 432x288 with 1 Axes>"
      ]
     },
     "metadata": {},
     "output_type": "display_data"
    }
   ],
   "source": [
    "import matplotlib.pyplot as plt\n",
    "\n",
    "#aqui hacemos el grafico\n",
    "por_region.plot.pie(y='folio', legend=False)\n",
    "\n",
    "plt.show()"
   ]
  },
  {
   "cell_type": "markdown",
   "metadata": {},
   "source": [
    "### 4. Repita el gráfico anterior, considerando el factor de expansión regional"
   ]
  },
  {
   "cell_type": "code",
   "execution_count": 22,
   "metadata": {},
   "outputs": [],
   "source": [
    "#volvemos a ocupar el objeto \"groupby\"\n",
    "\n",
    "por_region_expr = grupos_por_region[['expr']].sum()"
   ]
  },
  {
   "cell_type": "code",
   "execution_count": 24,
   "metadata": {},
   "outputs": [
    {
     "data": {
      "text/html": [
       "<div>\n",
       "<table border=\"1\" class=\"dataframe\">\n",
       "  <thead>\n",
       "    <tr style=\"text-align: right;\">\n",
       "      <th></th>\n",
       "      <th>expr</th>\n",
       "    </tr>\n",
       "    <tr>\n",
       "      <th>region</th>\n",
       "      <th></th>\n",
       "    </tr>\n",
       "  </thead>\n",
       "  <tbody>\n",
       "    <tr>\n",
       "      <th>Región de Tarapacá</th>\n",
       "      <td>346917.0</td>\n",
       "    </tr>\n",
       "    <tr>\n",
       "      <th>Región de Antofagasta</th>\n",
       "      <td>586198.0</td>\n",
       "    </tr>\n",
       "    <tr>\n",
       "      <th>Región de Atacama</th>\n",
       "      <td>284814.0</td>\n",
       "    </tr>\n",
       "    <tr>\n",
       "      <th>Región de Coquimbo</th>\n",
       "      <td>775198.0</td>\n",
       "    </tr>\n",
       "    <tr>\n",
       "      <th>Región de Valparaíso</th>\n",
       "      <td>1856498.0</td>\n",
       "    </tr>\n",
       "    <tr>\n",
       "      <th>Región del Libertador Gral. Bernardo OHiggins</th>\n",
       "      <td>929632.0</td>\n",
       "    </tr>\n",
       "    <tr>\n",
       "      <th>Región del Maule</th>\n",
       "      <td>1047293.0</td>\n",
       "    </tr>\n",
       "    <tr>\n",
       "      <th>Región del Biobío</th>\n",
       "      <td>1625099.0</td>\n",
       "    </tr>\n",
       "    <tr>\n",
       "      <th>Región de La Araucanía</th>\n",
       "      <td>999730.0</td>\n",
       "    </tr>\n",
       "    <tr>\n",
       "      <th>Región de Los Lagos</th>\n",
       "      <td>882790.0</td>\n",
       "    </tr>\n",
       "    <tr>\n",
       "      <th>Región de Ayséndel Gral. Carlos Ibáñez del Campo</th>\n",
       "      <td>105156.0</td>\n",
       "    </tr>\n",
       "    <tr>\n",
       "      <th>Región de Magallanes y de la Antártica Chilena</th>\n",
       "      <td>151681.0</td>\n",
       "    </tr>\n",
       "    <tr>\n",
       "      <th>Región Metropolitana de Santiago</th>\n",
       "      <td>7223236.0</td>\n",
       "    </tr>\n",
       "    <tr>\n",
       "      <th>Región de Los Ríos</th>\n",
       "      <td>371358.0</td>\n",
       "    </tr>\n",
       "    <tr>\n",
       "      <th>Región de Arica y Parinacota</th>\n",
       "      <td>161015.0</td>\n",
       "    </tr>\n",
       "    <tr>\n",
       "      <th>Región de Ñuble</th>\n",
       "      <td>460799.0</td>\n",
       "    </tr>\n",
       "  </tbody>\n",
       "</table>\n",
       "</div>"
      ],
      "text/plain": [
       "                                                       expr\n",
       "region                                                     \n",
       "Región de Tarapacá                                 346917.0\n",
       "Región de Antofagasta                              586198.0\n",
       "Región de Atacama                                  284814.0\n",
       "Región de Coquimbo                                 775198.0\n",
       "Región de Valparaíso                              1856498.0\n",
       "Región del Libertador Gral. Bernardo OHiggins     929632.0\n",
       "Región del Maule                                  1047293.0\n",
       "Región del Biobío                                 1625099.0\n",
       "Región de La Araucanía                             999730.0\n",
       "Región de Los Lagos                                882790.0\n",
       "Región de Ayséndel Gral. Carlos Ibáñez del Campo   105156.0\n",
       "Región de Magallanes y de la Antártica Chilena     151681.0\n",
       "Región Metropolitana de Santiago                  7223236.0\n",
       "Región de Los Ríos                                 371358.0\n",
       "Región de Arica y Parinacota                       161015.0\n",
       "Región de Ñuble                                    460799.0"
      ]
     },
     "execution_count": 24,
     "metadata": {},
     "output_type": "execute_result"
    }
   ],
   "source": [
    "por_region_expr"
   ]
  },
  {
   "cell_type": "code",
   "execution_count": 23,
   "metadata": {},
   "outputs": [
    {
     "data": {
      "image/png": "[encoded data removed]",
      "text/plain": [
       "<Figure size 432x288 with 1 Axes>"
      ]
     },
     "metadata": {},
     "output_type": "display_data"
    }
   ],
   "source": [
    "por_region_expr.plot.pie(y='expr', legend=False)\n",
    "plt.show()"
   ]
  },
  {
   "cell_type": "markdown",
   "metadata": {},
   "source": [
    "### 5. ¿cuáles regiones están más o menos representadas? (ver ratio entre poblaciones)\n"
   ]
  },
  {
   "cell_type": "code",
   "execution_count": 30,
   "metadata": {},
   "outputs": [
    {
     "data": {
      "text/html": [
       "<div>\n",
       "<table border=\"1\" class=\"dataframe\">\n",
       "  <thead>\n",
       "    <tr style=\"text-align: right;\">\n",
       "      <th></th>\n",
       "      <th>folio</th>\n",
       "    </tr>\n",
       "    <tr>\n",
       "      <th>region</th>\n",
       "      <th></th>\n",
       "    </tr>\n",
       "  </thead>\n",
       "  <tbody>\n",
       "    <tr>\n",
       "      <th>Región de Tarapacá</th>\n",
       "      <td>10150</td>\n",
       "    </tr>\n",
       "    <tr>\n",
       "      <th>Región de Antofagasta</th>\n",
       "      <td>8510</td>\n",
       "    </tr>\n",
       "    <tr>\n",
       "      <th>Región de Atacama</th>\n",
       "      <td>6961</td>\n",
       "    </tr>\n",
       "    <tr>\n",
       "      <th>Región de Coquimbo</th>\n",
       "      <td>9952</td>\n",
       "    </tr>\n",
       "    <tr>\n",
       "      <th>Región de Valparaíso</th>\n",
       "      <td>19625</td>\n",
       "    </tr>\n",
       "    <tr>\n",
       "      <th>Región del Libertador Gral. Bernardo OHiggins</th>\n",
       "      <td>15862</td>\n",
       "    </tr>\n",
       "    <tr>\n",
       "      <th>Región del Maule</th>\n",
       "      <td>15208</td>\n",
       "    </tr>\n",
       "    <tr>\n",
       "      <th>Región del Biobío</th>\n",
       "      <td>21532</td>\n",
       "    </tr>\n",
       "    <tr>\n",
       "      <th>Región de La Araucanía</th>\n",
       "      <td>15481</td>\n",
       "    </tr>\n",
       "    <tr>\n",
       "      <th>Región de Los Lagos</th>\n",
       "      <td>12442</td>\n",
       "    </tr>\n",
       "    <tr>\n",
       "      <th>Región de Ayséndel Gral. Carlos Ibáñez del Campo</th>\n",
       "      <td>5045</td>\n",
       "    </tr>\n",
       "    <tr>\n",
       "      <th>Región de Magallanes y de la Antártica Chilena</th>\n",
       "      <td>6637</td>\n",
       "    </tr>\n",
       "    <tr>\n",
       "      <th>Región Metropolitana de Santiago</th>\n",
       "      <td>42601</td>\n",
       "    </tr>\n",
       "    <tr>\n",
       "      <th>Región de Los Ríos</th>\n",
       "      <td>10175</td>\n",
       "    </tr>\n",
       "    <tr>\n",
       "      <th>Región de Arica y Parinacota</th>\n",
       "      <td>7888</td>\n",
       "    </tr>\n",
       "    <tr>\n",
       "      <th>Región de Ñuble</th>\n",
       "      <td>8370</td>\n",
       "    </tr>\n",
       "  </tbody>\n",
       "</table>\n",
       "</div>"
      ],
      "text/plain": [
       "                                                  folio\n",
       "region                                                 \n",
       "Región de Tarapacá                                10150\n",
       "Región de Antofagasta                              8510\n",
       "Región de Atacama                                  6961\n",
       "Región de Coquimbo                                 9952\n",
       "Región de Valparaíso                              19625\n",
       "Región del Libertador Gral. Bernardo OHiggins    15862\n",
       "Región del Maule                                  15208\n",
       "Región del Biobío                                 21532\n",
       "Región de La Araucanía                            15481\n",
       "Región de Los Lagos                               12442\n",
       "Región de Ayséndel Gral. Carlos Ibáñez del Campo   5045\n",
       "Región de Magallanes y de la Antártica Chilena     6637\n",
       "Región Metropolitana de Santiago                  42601\n",
       "Región de Los Ríos                                10175\n",
       "Región de Arica y Parinacota                       7888\n",
       "Región de Ñuble                                    8370"
      ]
     },
     "execution_count": 30,
     "metadata": {},
     "output_type": "execute_result"
    }
   ],
   "source": [
    "por_region"
   ]
  },
  {
   "cell_type": "code",
   "execution_count": 26,
   "metadata": {},
   "outputs": [
    {
     "data": {
      "text/html": [
       "<div>\n",
       "<table border=\"1\" class=\"dataframe\">\n",
       "  <thead>\n",
       "    <tr style=\"text-align: right;\">\n",
       "      <th></th>\n",
       "      <th>expr</th>\n",
       "      <th>ratio</th>\n",
       "    </tr>\n",
       "    <tr>\n",
       "      <th>region</th>\n",
       "      <th></th>\n",
       "      <th></th>\n",
       "    </tr>\n",
       "  </thead>\n",
       "  <tbody>\n",
       "    <tr>\n",
       "      <th>Región Metropolitana de Santiago</th>\n",
       "      <td>7223236.0</td>\n",
       "      <td>169.555550</td>\n",
       "    </tr>\n",
       "    <tr>\n",
       "      <th>Región de Valparaíso</th>\n",
       "      <td>1856498.0</td>\n",
       "      <td>94.598624</td>\n",
       "    </tr>\n",
       "    <tr>\n",
       "      <th>Región de Coquimbo</th>\n",
       "      <td>775198.0</td>\n",
       "      <td>77.893690</td>\n",
       "    </tr>\n",
       "    <tr>\n",
       "      <th>Región del Biobío</th>\n",
       "      <td>1625099.0</td>\n",
       "      <td>75.473667</td>\n",
       "    </tr>\n",
       "    <tr>\n",
       "      <th>Región de Los Lagos</th>\n",
       "      <td>882790.0</td>\n",
       "      <td>70.952419</td>\n",
       "    </tr>\n",
       "    <tr>\n",
       "      <th>Región de Antofagasta</th>\n",
       "      <td>586198.0</td>\n",
       "      <td>68.883431</td>\n",
       "    </tr>\n",
       "    <tr>\n",
       "      <th>Región del Maule</th>\n",
       "      <td>1047293.0</td>\n",
       "      <td>68.864611</td>\n",
       "    </tr>\n",
       "    <tr>\n",
       "      <th>Región de La Araucanía</th>\n",
       "      <td>999730.0</td>\n",
       "      <td>64.577870</td>\n",
       "    </tr>\n",
       "    <tr>\n",
       "      <th>Región del Libertador Gral. Bernardo OHiggins</th>\n",
       "      <td>929632.0</td>\n",
       "      <td>58.607490</td>\n",
       "    </tr>\n",
       "    <tr>\n",
       "      <th>Región de Ñuble</th>\n",
       "      <td>460799.0</td>\n",
       "      <td>55.053644</td>\n",
       "    </tr>\n",
       "    <tr>\n",
       "      <th>Región de Atacama</th>\n",
       "      <td>284814.0</td>\n",
       "      <td>40.915673</td>\n",
       "    </tr>\n",
       "    <tr>\n",
       "      <th>Región de Los Ríos</th>\n",
       "      <td>371358.0</td>\n",
       "      <td>36.497101</td>\n",
       "    </tr>\n",
       "    <tr>\n",
       "      <th>Región de Tarapacá</th>\n",
       "      <td>346917.0</td>\n",
       "      <td>34.179015</td>\n",
       "    </tr>\n",
       "    <tr>\n",
       "      <th>Región de Magallanes y de la Antártica Chilena</th>\n",
       "      <td>151681.0</td>\n",
       "      <td>22.853850</td>\n",
       "    </tr>\n",
       "    <tr>\n",
       "      <th>Región de Ayséndel Gral. Carlos Ibáñez del Campo</th>\n",
       "      <td>105156.0</td>\n",
       "      <td>20.843608</td>\n",
       "    </tr>\n",
       "    <tr>\n",
       "      <th>Región de Arica y Parinacota</th>\n",
       "      <td>161015.0</td>\n",
       "      <td>20.412652</td>\n",
       "    </tr>\n",
       "  </tbody>\n",
       "</table>\n",
       "</div>"
      ],
      "text/plain": [
       "                                                       expr       ratio\n",
       "region                                                                 \n",
       "Región Metropolitana de Santiago                  7223236.0  169.555550\n",
       "Región de Valparaíso                              1856498.0   94.598624\n",
       "Región de Coquimbo                                 775198.0   77.893690\n",
       "Región del Biobío                                 1625099.0   75.473667\n",
       "Región de Los Lagos                                882790.0   70.952419\n",
       "Región de Antofagasta                              586198.0   68.883431\n",
       "Región del Maule                                  1047293.0   68.864611\n",
       "Región de La Araucanía                             999730.0   64.577870\n",
       "Región del Libertador Gral. Bernardo OHiggins     929632.0   58.607490\n",
       "Región de Ñuble                                    460799.0   55.053644\n",
       "Región de Atacama                                  284814.0   40.915673\n",
       "Región de Los Ríos                                 371358.0   36.497101\n",
       "Región de Tarapacá                                 346917.0   34.179015\n",
       "Región de Magallanes y de la Antártica Chilena     151681.0   22.853850\n",
       "Región de Ayséndel Gral. Carlos Ibáñez del Campo   105156.0   20.843608\n",
       "Región de Arica y Parinacota                       161015.0   20.412652"
      ]
     },
     "execution_count": 26,
     "metadata": {},
     "output_type": "execute_result"
    }
   ],
   "source": [
    "por_region_expr['ratio'] = por_region_expr.expr / por_region.folio\n",
    "\n",
    "por_region_expr.sort_values(by=['ratio'], ascending=False, inplace=True)\n",
    "\n",
    "por_region_expr"
   ]
  },
  {
   "cell_type": "markdown",
   "metadata": {},
   "source": [
    "### 5. Muestre un gráfico de barra, por región, con el porcentaje de mujeres de la región (usar factor exp regional)"
   ]
  },
  {
   "cell_type": "markdown",
   "metadata": {},
   "source": [
    "Detalle de variables:\n",
    "\n",
    "http://observatorio.ministeriodesarrollosocial.gob.cl/casen-multidimensional/casen/docs/Libro_de_Codigos_Casen_2017.pdf"
   ]
  },
  {
   "cell_type": "code",
   "execution_count": 27,
   "metadata": {},
   "outputs": [
    {
     "data": {
      "text/plain": [
       "count     216439\n",
       "unique         2\n",
       "top        Mujer\n",
       "freq      113117\n",
       "Name: sexo, dtype: object"
      ]
     },
     "execution_count": 27,
     "metadata": {},
     "output_type": "execute_result"
    }
   ],
   "source": [
    "df.sexo.describe()"
   ]
  },
  {
   "cell_type": "code",
   "execution_count": 28,
   "metadata": {},
   "outputs": [
    {
     "data": {
      "text/plain": [
       "[Mujer, Hombre]\n",
       "Categories (2, object): [Hombre < Mujer]"
      ]
     },
     "execution_count": 28,
     "metadata": {},
     "output_type": "execute_result"
    }
   ],
   "source": [
    "df.sexo.unique()"
   ]
  },
  {
   "cell_type": "code",
   "execution_count": 31,
   "metadata": {},
   "outputs": [
    {
     "data": {
      "text/html": [
       "<div>\n",
       "<table border=\"1\" class=\"dataframe\">\n",
       "  <thead>\n",
       "    <tr style=\"text-align: right;\">\n",
       "      <th></th>\n",
       "      <th>expr</th>\n",
       "      <th>mujer_aumentada</th>\n",
       "    </tr>\n",
       "    <tr>\n",
       "      <th>region</th>\n",
       "      <th></th>\n",
       "      <th></th>\n",
       "    </tr>\n",
       "  </thead>\n",
       "  <tbody>\n",
       "    <tr>\n",
       "      <th>Región de Tarapacá</th>\n",
       "      <td>346917.0</td>\n",
       "      <td>177810.0</td>\n",
       "    </tr>\n",
       "    <tr>\n",
       "      <th>Región de Antofagasta</th>\n",
       "      <td>586198.0</td>\n",
       "      <td>302290.0</td>\n",
       "    </tr>\n",
       "    <tr>\n",
       "      <th>Región de Atacama</th>\n",
       "      <td>284814.0</td>\n",
       "      <td>149403.0</td>\n",
       "    </tr>\n",
       "    <tr>\n",
       "      <th>Región de Coquimbo</th>\n",
       "      <td>775198.0</td>\n",
       "      <td>406945.0</td>\n",
       "    </tr>\n",
       "    <tr>\n",
       "      <th>Región de Valparaíso</th>\n",
       "      <td>1856498.0</td>\n",
       "      <td>990040.0</td>\n",
       "    </tr>\n",
       "    <tr>\n",
       "      <th>Región del Libertador Gral. Bernardo OHiggins</th>\n",
       "      <td>929632.0</td>\n",
       "      <td>484942.0</td>\n",
       "    </tr>\n",
       "    <tr>\n",
       "      <th>Región del Maule</th>\n",
       "      <td>1047293.0</td>\n",
       "      <td>540698.0</td>\n",
       "    </tr>\n",
       "    <tr>\n",
       "      <th>Región del Biobío</th>\n",
       "      <td>1625099.0</td>\n",
       "      <td>859657.0</td>\n",
       "    </tr>\n",
       "    <tr>\n",
       "      <th>Región de La Araucanía</th>\n",
       "      <td>999730.0</td>\n",
       "      <td>525050.0</td>\n",
       "    </tr>\n",
       "    <tr>\n",
       "      <th>Región de Los Lagos</th>\n",
       "      <td>882790.0</td>\n",
       "      <td>461455.0</td>\n",
       "    </tr>\n",
       "    <tr>\n",
       "      <th>Región de Ayséndel Gral. Carlos Ibáñez del Campo</th>\n",
       "      <td>105156.0</td>\n",
       "      <td>53771.0</td>\n",
       "    </tr>\n",
       "    <tr>\n",
       "      <th>Región de Magallanes y de la Antártica Chilena</th>\n",
       "      <td>151681.0</td>\n",
       "      <td>77748.0</td>\n",
       "    </tr>\n",
       "    <tr>\n",
       "      <th>Región Metropolitana de Santiago</th>\n",
       "      <td>7223236.0</td>\n",
       "      <td>3783039.0</td>\n",
       "    </tr>\n",
       "    <tr>\n",
       "      <th>Región de Los Ríos</th>\n",
       "      <td>371358.0</td>\n",
       "      <td>195978.0</td>\n",
       "    </tr>\n",
       "    <tr>\n",
       "      <th>Región de Arica y Parinacota</th>\n",
       "      <td>161015.0</td>\n",
       "      <td>82707.0</td>\n",
       "    </tr>\n",
       "    <tr>\n",
       "      <th>Región de Ñuble</th>\n",
       "      <td>460799.0</td>\n",
       "      <td>246170.0</td>\n",
       "    </tr>\n",
       "  </tbody>\n",
       "</table>\n",
       "</div>"
      ],
      "text/plain": [
       "                                                       expr  mujer_aumentada\n",
       "region                                                                      \n",
       "Región de Tarapacá                                 346917.0         177810.0\n",
       "Región de Antofagasta                              586198.0         302290.0\n",
       "Región de Atacama                                  284814.0         149403.0\n",
       "Región de Coquimbo                                 775198.0         406945.0\n",
       "Región de Valparaíso                              1856498.0         990040.0\n",
       "Región del Libertador Gral. Bernardo OHiggins     929632.0         484942.0\n",
       "Región del Maule                                  1047293.0         540698.0\n",
       "Región del Biobío                                 1625099.0         859657.0\n",
       "Región de La Araucanía                             999730.0         525050.0\n",
       "Región de Los Lagos                                882790.0         461455.0\n",
       "Región de Ayséndel Gral. Carlos Ibáñez del Campo   105156.0          53771.0\n",
       "Región de Magallanes y de la Antártica Chilena     151681.0          77748.0\n",
       "Región Metropolitana de Santiago                  7223236.0        3783039.0\n",
       "Región de Los Ríos                                 371358.0         195978.0\n",
       "Región de Arica y Parinacota                       161015.0          82707.0\n",
       "Región de Ñuble                                    460799.0         246170.0"
      ]
     },
     "execution_count": 31,
     "metadata": {},
     "output_type": "execute_result"
    }
   ],
   "source": [
    "#identificamos a las mujeres\n",
    "df['mujer'] = df.sexo == 'Mujer'\n",
    "\n",
    "#\"aumentamos\" segun factor de expansion\n",
    "df['mujer_aumentada'] = df.expr * df['mujer']\n",
    "\n",
    "#colapsamos por region\n",
    "grupo_por_region_mujeres = df.groupby(['region'])\n",
    "\n",
    "datos_por_region = grupo_por_region_mujeres[['expr', 'mujer_aumentada']].sum()\n",
    "\n",
    "datos_por_region"
   ]
  },
  {
   "cell_type": "code",
   "execution_count": 32,
   "metadata": {},
   "outputs": [
    {
     "data": {
      "image/png": "[encoded data removed]",
      "text/plain": [
       "<Figure size 432x288 with 1 Axes>"
      ]
     },
     "metadata": {},
     "output_type": "display_data"
    }
   ],
   "source": [
    "\n",
    "#calculamos porcentaje\n",
    "datos_por_region['Porcentaje Mujeres'] = (\n",
    "    datos_por_region.mujer_aumentada / datos_por_region.expr)\n",
    "\n",
    "#graficamos\n",
    "datos_por_region['Porcentaje Mujeres'].plot.bar()\n",
    "plt.show()"
   ]
  },
  {
   "cell_type": "code",
   "execution_count": 33,
   "metadata": {},
   "outputs": [
    {
     "data": {
      "image/png": "[encoded data removed]",
      "text/plain": [
       "<Figure size 432x288 with 1 Axes>"
      ]
     },
     "metadata": {},
     "output_type": "display_data"
    }
   ],
   "source": [
    "grafico_memoria = datos_por_region['Porcentaje Mujeres'].plot.bar()\n",
    "\n",
    "datos_por_region['num'] = 0.5\n",
    "\n",
    "datos_por_region.plot(y='num', ax=grafico_memoria)\n",
    "\n",
    "plt.show()"
   ]
  },
  {
   "cell_type": "code",
   "execution_count": null,
   "metadata": {},
   "outputs": [],
   "source": [
    "por_region_expr"
   ]
  },
  {
   "cell_type": "markdown",
   "metadata": {},
   "source": [
    "### 5. Propuesto: Qué regiones están sobre o sub representadas, respecto de los totales de población del Censo 2017?"
   ]
  },
  {
   "cell_type": "code",
   "execution_count": null,
   "metadata": {
    "collapsed": true
   },
   "outputs": [],
   "source": [
    "# calculamos porcentajes de población por region\n",
    "\n",
    "# por_region_expr['total_pob'] = sum(por_region_expr.pers_factor)\n",
    "\n",
    "# unimos con datos del Censo\n"
   ]
  }
 ],
 "metadata": {
  "anaconda-cloud": {},
  "kernelspec": {
   "display_name": "Python 3",
   "language": "python",
   "name": "python3"
  },
  "language_info": {
   "codemirror_mode": {
    "name": "ipython",
    "version": 3
   },
   "file_extension": ".py",
   "mimetype": "text/x-python",
   "name": "python",
   "nbconvert_exporter": "python",
   "pygments_lexer": "ipython3",
   "version": "3.6.6"
  }
 },
 "nbformat": 4,
 "nbformat_minor": 2
}
