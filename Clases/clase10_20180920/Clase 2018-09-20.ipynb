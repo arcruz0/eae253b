{
 "cells": [
  {
   "cell_type": "markdown",
   "metadata": {},
   "source": [
    "# 2018 - 09 - 20 (jueves)\n",
    "\n",
    "## Comentarios Tarea 2\n",
    "\n",
    "## 27 septiembre\n",
    "    - Propuesta proyecto\n",
    "## 4 octubre\n",
    "    - Tarea 3\n",
    "    - Presentación proyectos\n",
    "\n",
    "---\n",
    "\n",
    "## Algunos ejercicios en Pandas\n",
    "\n",
    "### 1. Cargue Casen 2017 y obtenga estadisticas básicas\n",
    "\n",
    "Link Casen \"small\": https://www.dropbox.com/s/jzsx4nccxfkf4nh/Casen%202017small.zip?dl=0"
   ]
  },
  {
   "cell_type": "code",
   "execution_count": 1,
   "metadata": {
    "collapsed": true
   },
   "outputs": [],
   "source": [
    "import pandas as pd\n",
    "\n",
    "df = pd.read_stata(r'C:\\Users\\carlo\\Sync\\Clase Data Science\\Datos\\casen_2017_stata\\Casen 2017small.dta')"
   ]
  },
  {
   "cell_type": "code",
   "execution_count": null,
   "metadata": {
    "collapsed": false
   },
   "outputs": [],
   "source": [
    "df.columns"
   ]
  },
  {
   "cell_type": "code",
   "execution_count": 3,
   "metadata": {
    "collapsed": false
   },
   "outputs": [
    {
     "data": {
      "text/plain": [
       "count    2.164390e+05\n",
       "mean     1.099658e+06\n",
       "std      1.434400e+06\n",
       "min      0.000000e+00\n",
       "25%      4.983330e+05\n",
       "50%      7.700000e+05\n",
       "75%      1.234167e+06\n",
       "max      8.905000e+07\n",
       "Name: ytoth, dtype: float64"
      ]
     },
     "execution_count": 3,
     "metadata": {},
     "output_type": "execute_result"
    }
   ],
   "source": [
    "df.ytoth.describe()"
   ]
  },
  {
   "cell_type": "markdown",
   "metadata": {},
   "source": [
    "### 2. Calcule el número de personas por region\n",
    "\n"
   ]
  },
  {
   "cell_type": "code",
   "execution_count": null,
   "metadata": {
    "collapsed": false
   },
   "outputs": [],
   "source": []
  },
  {
   "cell_type": "markdown",
   "metadata": {},
   "source": [
    "### 3. Haga un grafico circular con el número de personas por región"
   ]
  },
  {
   "cell_type": "code",
   "execution_count": null,
   "metadata": {
    "collapsed": false
   },
   "outputs": [],
   "source": [
    "import matplotlib.pyplot as plt\n",
    "\n",
    "por_region.plot.pie(y='persona', legend=False)\n",
    "\n",
    "plt.show()"
   ]
  },
  {
   "cell_type": "markdown",
   "metadata": {},
   "source": [
    "### 4. Repita el gráfico anterior, considerando el factor de expansión regional"
   ]
  },
  {
   "cell_type": "code",
   "execution_count": null,
   "metadata": {
    "collapsed": true
   },
   "outputs": [],
   "source": [
    "df['pers_factor'] = 1 * df['expr']\n"
   ]
  },
  {
   "cell_type": "code",
   "execution_count": null,
   "metadata": {
    "collapsed": false
   },
   "outputs": [],
   "source": [
    "por_region_expr.plot.pie(y='pers_factor', legend=False)\n",
    "plt.show()"
   ]
  },
  {
   "cell_type": "markdown",
   "metadata": {},
   "source": [
    "### 5. ¿cuáles regiones están más o menos representadas? (ver ratio entre poblaciones)\n"
   ]
  },
  {
   "cell_type": "code",
   "execution_count": null,
   "metadata": {
    "collapsed": false
   },
   "outputs": [],
   "source": [
    "# grouped = df.groupby('region')\n",
    "# por_region_expr = grouped[['persona', 'pers_factor']].sum()\n",
    "\n",
    "por_region_expr['ratio'] = por_region_expr.pers_factor / por_region.persona\n",
    "\n",
    "por_region_expr.sort_values(by=['ratio'], ascending=False, inplace=True)\n",
    "\n",
    "por_region_expr"
   ]
  },
  {
   "cell_type": "markdown",
   "metadata": {},
   "source": [
    "### 5. Muestre un gráfico de barra, por región, con el porcentaje de mujeres de la región (usar factor exp regional)"
   ]
  },
  {
   "cell_type": "markdown",
   "metadata": {},
   "source": [
    "Detalle de variables:\n",
    "\n",
    "http://observatorio.ministeriodesarrollosocial.gob.cl/casen-multidimensional/casen/docs/Libro_de_Codigos_Casen_2017.pdf"
   ]
  },
  {
   "cell_type": "code",
   "execution_count": null,
   "metadata": {
    "collapsed": false
   },
   "outputs": [],
   "source": [
    "df.sexo.describe()"
   ]
  },
  {
   "cell_type": "code",
   "execution_count": null,
   "metadata": {
    "collapsed": false
   },
   "outputs": [],
   "source": [
    "df.sexo.unique()"
   ]
  },
  {
   "cell_type": "code",
   "execution_count": null,
   "metadata": {
    "collapsed": false
   },
   "outputs": [],
   "source": [
    "#seleccionamos a las mujeres\n",
    "\n",
    "\n",
    "#\"aumentamos\" segun factor de expansion\n",
    "\n",
    "\n",
    "#colapsamos por region\n",
    "\n",
    "#calculamos porcentaje\n",
    "\n",
    "#graficamos\n",
    "\n",
    "por_region_expr['Porcentaje Mujeres'].plot.bar(y='pers_factor')\n",
    "plt.show()"
   ]
  },
  {
   "cell_type": "code",
   "execution_count": null,
   "metadata": {
    "collapsed": false
   },
   "outputs": [],
   "source": [
    "\n",
    "ax = por_region_expr['Porcentaje Mujeres'].plot.bar(y='pers_factor')\n",
    "\n",
    "por_region_expr['num'] = 0.5\n",
    "\n",
    "por_region_expr.plot(y='num', ax=ax)\n",
    "plt.show()"
   ]
  },
  {
   "cell_type": "code",
   "execution_count": null,
   "metadata": {
    "collapsed": false
   },
   "outputs": [],
   "source": [
    "por_region_expr"
   ]
  },
  {
   "cell_type": "markdown",
   "metadata": {},
   "source": [
    "### 5. Propuesto: Qué regiones están sobre o sub representadas, respecto de los totales de población del Censo 2017?"
   ]
  },
  {
   "cell_type": "code",
   "execution_count": null,
   "metadata": {
    "collapsed": true
   },
   "outputs": [],
   "source": [
    "# calculamos porcentajes de población por region\n",
    "\n",
    "# por_region_expr['total_pob'] = sum(por_region_expr.pers_factor)\n",
    "\n",
    "# unimos con datos del Censo\n"
   ]
  }
 ],
 "metadata": {
  "anaconda-cloud": {},
  "kernelspec": {
   "display_name": "Python [default]",
   "language": "python",
   "name": "python3"
  },
  "language_info": {
   "codemirror_mode": {
    "name": "ipython",
    "version": 3
   },
   "file_extension": ".py",
   "mimetype": "text/x-python",
   "name": "python",
   "nbconvert_exporter": "python",
   "pygments_lexer": "ipython3",
   "version": "3.5.5"
  }
 },
 "nbformat": 4,
 "nbformat_minor": 2
}
