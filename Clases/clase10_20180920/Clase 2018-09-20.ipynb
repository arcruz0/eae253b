{
 "cells": [
  {
   "cell_type": "markdown",
   "metadata": {},
   "source": [
    "# 2018 - 09 - 20 (jueves)\n",
    "\n",
    "## 27 septiembre\n",
    "    - Propuesta proyecto\n",
    "## 4 octubre\n",
    "    - Tarea 3\n",
    "    - Presentación proyectos\n",
    "\n",
    "---\n",
    "\n",
    "## Algunos ejercicios en Pandas\n",
    "\n",
    "### 1. Cargue Casen y obtenga estadisticas básicas"
   ]
  },
  {
   "cell_type": "code",
   "execution_count": 1,
   "metadata": {},
   "outputs": [],
   "source": [
    "import pandas as pd\n",
    "\n",
    "df = pd.read_stata(r'C:\\Users\\calvarad\\Sync\\Clase Data Science\\Datos\\casen_2017_stata\\Casen 2017.dta', convert_categoricals=False)"
   ]
  },
  {
   "cell_type": "code",
   "execution_count": null,
   "metadata": {},
   "outputs": [],
   "source": [
    "df.columns"
   ]
  },
  {
   "cell_type": "code",
   "execution_count": null,
   "metadata": {},
   "outputs": [],
   "source": [
    "df.describe"
   ]
  },
  {
   "cell_type": "markdown",
   "metadata": {},
   "source": [
    "### 2. Calcule el número de personas por region\n",
    "\n"
   ]
  },
  {
   "cell_type": "code",
   "execution_count": 33,
   "metadata": {},
   "outputs": [
    {
     "data": {
      "text/html": [
       "<div>\n",
       "<style scoped>\n",
       "    .dataframe tbody tr th:only-of-type {\n",
       "        vertical-align: middle;\n",
       "    }\n",
       "\n",
       "    .dataframe tbody tr th {\n",
       "        vertical-align: top;\n",
       "    }\n",
       "\n",
       "    .dataframe thead th {\n",
       "        text-align: right;\n",
       "    }\n",
       "</style>\n",
       "<table border=\"1\" class=\"dataframe\">\n",
       "  <thead>\n",
       "    <tr style=\"text-align: right;\">\n",
       "      <th></th>\n",
       "      <th>persona</th>\n",
       "    </tr>\n",
       "    <tr>\n",
       "      <th>region</th>\n",
       "      <th></th>\n",
       "    </tr>\n",
       "  </thead>\n",
       "  <tbody>\n",
       "    <tr>\n",
       "      <th>1.0</th>\n",
       "      <td>10150</td>\n",
       "    </tr>\n",
       "    <tr>\n",
       "      <th>2.0</th>\n",
       "      <td>8510</td>\n",
       "    </tr>\n",
       "    <tr>\n",
       "      <th>3.0</th>\n",
       "      <td>6961</td>\n",
       "    </tr>\n",
       "    <tr>\n",
       "      <th>4.0</th>\n",
       "      <td>9952</td>\n",
       "    </tr>\n",
       "    <tr>\n",
       "      <th>5.0</th>\n",
       "      <td>19625</td>\n",
       "    </tr>\n",
       "    <tr>\n",
       "      <th>6.0</th>\n",
       "      <td>15862</td>\n",
       "    </tr>\n",
       "    <tr>\n",
       "      <th>7.0</th>\n",
       "      <td>15208</td>\n",
       "    </tr>\n",
       "    <tr>\n",
       "      <th>8.0</th>\n",
       "      <td>21532</td>\n",
       "    </tr>\n",
       "    <tr>\n",
       "      <th>9.0</th>\n",
       "      <td>15481</td>\n",
       "    </tr>\n",
       "    <tr>\n",
       "      <th>10.0</th>\n",
       "      <td>12442</td>\n",
       "    </tr>\n",
       "    <tr>\n",
       "      <th>11.0</th>\n",
       "      <td>5045</td>\n",
       "    </tr>\n",
       "    <tr>\n",
       "      <th>12.0</th>\n",
       "      <td>6637</td>\n",
       "    </tr>\n",
       "    <tr>\n",
       "      <th>13.0</th>\n",
       "      <td>42601</td>\n",
       "    </tr>\n",
       "    <tr>\n",
       "      <th>14.0</th>\n",
       "      <td>10175</td>\n",
       "    </tr>\n",
       "    <tr>\n",
       "      <th>15.0</th>\n",
       "      <td>7888</td>\n",
       "    </tr>\n",
       "    <tr>\n",
       "      <th>16.0</th>\n",
       "      <td>8370</td>\n",
       "    </tr>\n",
       "  </tbody>\n",
       "</table>\n",
       "</div>"
      ],
      "text/plain": [
       "        persona\n",
       "region         \n",
       "1.0       10150\n",
       "2.0        8510\n",
       "3.0        6961\n",
       "4.0        9952\n",
       "5.0       19625\n",
       "6.0       15862\n",
       "7.0       15208\n",
       "8.0       21532\n",
       "9.0       15481\n",
       "10.0      12442\n",
       "11.0       5045\n",
       "12.0       6637\n",
       "13.0      42601\n",
       "14.0      10175\n",
       "15.0       7888\n",
       "16.0       8370"
      ]
     },
     "execution_count": 33,
     "metadata": {},
     "output_type": "execute_result"
    }
   ],
   "source": [
    "df['persona'] = 1\n",
    "grouped = df.groupby('region')\n",
    "\n",
    "por_region = grouped[['persona']].sum()\n",
    "\n",
    "por_region"
   ]
  },
  {
   "cell_type": "markdown",
   "metadata": {},
   "source": [
    "### 3. Haga un grafico circular con el número de personas por región"
   ]
  },
  {
   "cell_type": "code",
   "execution_count": 35,
   "metadata": {},
   "outputs": [
    {
     "data": {
      "image/png": "[encoded data removed]",
      "text/plain": [
       "<Figure size 432x288 with 1 Axes>"
      ]
     },
     "metadata": {},
     "output_type": "display_data"
    }
   ],
   "source": [
    "import matplotlib.pyplot as plt\n",
    "\n",
    "por_region.plot.pie(y='persona', legend=False)\n",
    "\n",
    "plt.show()"
   ]
  },
  {
   "cell_type": "markdown",
   "metadata": {},
   "source": [
    "### 4. Repita el gráfico anterior, considerando el factor de expansión regional"
   ]
  },
  {
   "cell_type": "code",
   "execution_count": 36,
   "metadata": {
    "collapsed": true
   },
   "outputs": [],
   "source": [
    "df['pers_factor'] = 1 * df['expr']\n",
    "grouped = df.groupby('region')\n",
    "\n",
    "por_region_expr = grouped[['pers_factor']].sum()"
   ]
  },
  {
   "cell_type": "code",
   "execution_count": 38,
   "metadata": {},
   "outputs": [
    {
     "data": {
      "image/png": "[encoded data removed]",
      "text/plain": [
       "<Figure size 432x288 with 1 Axes>"
      ]
     },
     "metadata": {},
     "output_type": "display_data"
    }
   ],
   "source": [
    "por_region_expr.plot.pie(y='pers_factor', legend=False)\n",
    "plt.show()"
   ]
  },
  {
   "cell_type": "markdown",
   "metadata": {},
   "source": [
    "### 5. ¿cuáles regiones están más o menos representadas? (ver ratio entre poblaciones)\n"
   ]
  },
  {
   "cell_type": "code",
   "execution_count": 39,
   "metadata": {},
   "outputs": [
    {
     "data": {
      "text/html": [
       "<div>\n",
       "<style scoped>\n",
       "    .dataframe tbody tr th:only-of-type {\n",
       "        vertical-align: middle;\n",
       "    }\n",
       "\n",
       "    .dataframe tbody tr th {\n",
       "        vertical-align: top;\n",
       "    }\n",
       "\n",
       "    .dataframe thead th {\n",
       "        text-align: right;\n",
       "    }\n",
       "</style>\n",
       "<table border=\"1\" class=\"dataframe\">\n",
       "  <thead>\n",
       "    <tr style=\"text-align: right;\">\n",
       "      <th></th>\n",
       "      <th>pers_factor</th>\n",
       "      <th>ratio</th>\n",
       "    </tr>\n",
       "    <tr>\n",
       "      <th>region</th>\n",
       "      <th></th>\n",
       "      <th></th>\n",
       "    </tr>\n",
       "  </thead>\n",
       "  <tbody>\n",
       "    <tr>\n",
       "      <th>13.0</th>\n",
       "      <td>7223236.0</td>\n",
       "      <td>169.555550</td>\n",
       "    </tr>\n",
       "    <tr>\n",
       "      <th>5.0</th>\n",
       "      <td>1856498.0</td>\n",
       "      <td>94.598624</td>\n",
       "    </tr>\n",
       "    <tr>\n",
       "      <th>4.0</th>\n",
       "      <td>775198.0</td>\n",
       "      <td>77.893690</td>\n",
       "    </tr>\n",
       "    <tr>\n",
       "      <th>8.0</th>\n",
       "      <td>1625099.0</td>\n",
       "      <td>75.473667</td>\n",
       "    </tr>\n",
       "    <tr>\n",
       "      <th>10.0</th>\n",
       "      <td>882790.0</td>\n",
       "      <td>70.952419</td>\n",
       "    </tr>\n",
       "    <tr>\n",
       "      <th>2.0</th>\n",
       "      <td>586198.0</td>\n",
       "      <td>68.883431</td>\n",
       "    </tr>\n",
       "    <tr>\n",
       "      <th>7.0</th>\n",
       "      <td>1047293.0</td>\n",
       "      <td>68.864611</td>\n",
       "    </tr>\n",
       "    <tr>\n",
       "      <th>9.0</th>\n",
       "      <td>999730.0</td>\n",
       "      <td>64.577870</td>\n",
       "    </tr>\n",
       "    <tr>\n",
       "      <th>6.0</th>\n",
       "      <td>929632.0</td>\n",
       "      <td>58.607490</td>\n",
       "    </tr>\n",
       "    <tr>\n",
       "      <th>16.0</th>\n",
       "      <td>460799.0</td>\n",
       "      <td>55.053644</td>\n",
       "    </tr>\n",
       "    <tr>\n",
       "      <th>3.0</th>\n",
       "      <td>284814.0</td>\n",
       "      <td>40.915673</td>\n",
       "    </tr>\n",
       "    <tr>\n",
       "      <th>14.0</th>\n",
       "      <td>371358.0</td>\n",
       "      <td>36.497101</td>\n",
       "    </tr>\n",
       "    <tr>\n",
       "      <th>1.0</th>\n",
       "      <td>346917.0</td>\n",
       "      <td>34.179015</td>\n",
       "    </tr>\n",
       "    <tr>\n",
       "      <th>12.0</th>\n",
       "      <td>151681.0</td>\n",
       "      <td>22.853850</td>\n",
       "    </tr>\n",
       "    <tr>\n",
       "      <th>11.0</th>\n",
       "      <td>105156.0</td>\n",
       "      <td>20.843608</td>\n",
       "    </tr>\n",
       "    <tr>\n",
       "      <th>15.0</th>\n",
       "      <td>161015.0</td>\n",
       "      <td>20.412652</td>\n",
       "    </tr>\n",
       "  </tbody>\n",
       "</table>\n",
       "</div>"
      ],
      "text/plain": [
       "        pers_factor       ratio\n",
       "region                         \n",
       "13.0      7223236.0  169.555550\n",
       "5.0       1856498.0   94.598624\n",
       "4.0        775198.0   77.893690\n",
       "8.0       1625099.0   75.473667\n",
       "10.0       882790.0   70.952419\n",
       "2.0        586198.0   68.883431\n",
       "7.0       1047293.0   68.864611\n",
       "9.0        999730.0   64.577870\n",
       "6.0        929632.0   58.607490\n",
       "16.0       460799.0   55.053644\n",
       "3.0        284814.0   40.915673\n",
       "14.0       371358.0   36.497101\n",
       "1.0        346917.0   34.179015\n",
       "12.0       151681.0   22.853850\n",
       "11.0       105156.0   20.843608\n",
       "15.0       161015.0   20.412652"
      ]
     },
     "execution_count": 39,
     "metadata": {},
     "output_type": "execute_result"
    }
   ],
   "source": [
    "# grouped = df.groupby('region')\n",
    "# por_region_expr = grouped[['persona', 'pers_factor']].sum()\n",
    "\n",
    "por_region_expr['ratio'] = por_region_expr.pers_factor / por_region.persona\n",
    "\n",
    "por_region_expr.sort_values(by=['ratio'], ascending=False, inplace=True)\n",
    "\n",
    "por_region_expr"
   ]
  },
  {
   "cell_type": "markdown",
   "metadata": {},
   "source": [
    "### 5. Muestre un gráfico de barra, por región, con el porcentaje de mujeres de la región (usar factor exp regional)"
   ]
  },
  {
   "cell_type": "markdown",
   "metadata": {},
   "source": [
    "Primero, necesitamos saber qué variable identifica el sexo de las personas..\n",
    "\n",
    "De la documentación de la Casen 2017, se puede ver lo siguiente:\n",
    "\n",
    "| numero | etiqueta | observaciones |\n",
    "|---|---|---|---|\n",
    "| 1 | Hombre | 103.322|\n",
    "|2 | Mujer | 113.117\n",
    "| | Total | 216.439 \n",
    "\n",
    "Detalle:\n",
    "\n",
    "http://observatorio.ministeriodesarrollosocial.gob.cl/casen-multidimensional/casen/docs/Libro_de_Codigos_Casen_2017.pdf"
   ]
  },
  {
   "cell_type": "code",
   "execution_count": 11,
   "metadata": {},
   "outputs": [
    {
     "data": {
      "image/png": "[encoded data removed]",
      "text/plain": [
       "<Figure size 432x288 with 1 Axes>"
      ]
     },
     "metadata": {},
     "output_type": "display_data"
    }
   ],
   "source": [
    "#seleccionamos a las mujeres\n",
    "\n",
    "df['mujer'] = df['sexo'] == 2\n",
    "\n",
    "#\"aumentamos\" segun factor de expansion\n",
    "\n",
    "df['mujer_exp'] = df.mujer * df.expr\n",
    "\n",
    "#colapsamos por region\n",
    "group_por_region = df.groupby('region')\n",
    "\n",
    "por_region_expr = grouped[['mujer_exp', 'pers_factor']].sum()\n",
    "\n",
    "#calculamos porcentaje\n",
    "por_region_expr['Porcentaje Mujeres'] = por_region_expr.mujer_exp / por_region_expr.pers_factor\n",
    "\n",
    "#graficamos\n",
    "\n",
    "por_region_expr['Porcentaje Mujeres'].plot.bar(y='pers_factor')\n",
    "plt.show()"
   ]
  },
  {
   "cell_type": "code",
   "execution_count": 16,
   "metadata": {},
   "outputs": [
    {
     "data": {
      "image/png": "[encoded data removed]",
      "text/plain": [
       "<Figure size 432x288 with 1 Axes>"
      ]
     },
     "metadata": {},
     "output_type": "display_data"
    }
   ],
   "source": [
    "\n",
    "ax = por_region_expr['Porcentaje Mujeres'].plot.bar(y='pers_factor')\n",
    "\n",
    "por_region_expr['num'] = 0.5\n",
    "\n",
    "por_region_expr.plot(y='num', ax=ax)\n",
    "plt.show()"
   ]
  },
  {
   "cell_type": "code",
   "execution_count": 17,
   "metadata": {},
   "outputs": [
    {
     "data": {
      "text/html": [
       "<div>\n",
       "<style scoped>\n",
       "    .dataframe tbody tr th:only-of-type {\n",
       "        vertical-align: middle;\n",
       "    }\n",
       "\n",
       "    .dataframe tbody tr th {\n",
       "        vertical-align: top;\n",
       "    }\n",
       "\n",
       "    .dataframe thead th {\n",
       "        text-align: right;\n",
       "    }\n",
       "</style>\n",
       "<table border=\"1\" class=\"dataframe\">\n",
       "  <thead>\n",
       "    <tr style=\"text-align: right;\">\n",
       "      <th></th>\n",
       "      <th>mujer_exp</th>\n",
       "      <th>pers_factor</th>\n",
       "      <th>Porcentaje Mujeres</th>\n",
       "      <th>num</th>\n",
       "    </tr>\n",
       "    <tr>\n",
       "      <th>region</th>\n",
       "      <th></th>\n",
       "      <th></th>\n",
       "      <th></th>\n",
       "      <th></th>\n",
       "    </tr>\n",
       "  </thead>\n",
       "  <tbody>\n",
       "    <tr>\n",
       "      <th>1.0</th>\n",
       "      <td>177810.0</td>\n",
       "      <td>346917.0</td>\n",
       "      <td>0.512543</td>\n",
       "      <td>0.5</td>\n",
       "    </tr>\n",
       "    <tr>\n",
       "      <th>2.0</th>\n",
       "      <td>302290.0</td>\n",
       "      <td>586198.0</td>\n",
       "      <td>0.515679</td>\n",
       "      <td>0.5</td>\n",
       "    </tr>\n",
       "    <tr>\n",
       "      <th>3.0</th>\n",
       "      <td>149403.0</td>\n",
       "      <td>284814.0</td>\n",
       "      <td>0.524563</td>\n",
       "      <td>0.5</td>\n",
       "    </tr>\n",
       "    <tr>\n",
       "      <th>4.0</th>\n",
       "      <td>406945.0</td>\n",
       "      <td>775198.0</td>\n",
       "      <td>0.524956</td>\n",
       "      <td>0.5</td>\n",
       "    </tr>\n",
       "    <tr>\n",
       "      <th>5.0</th>\n",
       "      <td>990040.0</td>\n",
       "      <td>1856498.0</td>\n",
       "      <td>0.533284</td>\n",
       "      <td>0.5</td>\n",
       "    </tr>\n",
       "    <tr>\n",
       "      <th>6.0</th>\n",
       "      <td>484942.0</td>\n",
       "      <td>929632.0</td>\n",
       "      <td>0.521649</td>\n",
       "      <td>0.5</td>\n",
       "    </tr>\n",
       "    <tr>\n",
       "      <th>7.0</th>\n",
       "      <td>540698.0</td>\n",
       "      <td>1047293.0</td>\n",
       "      <td>0.516281</td>\n",
       "      <td>0.5</td>\n",
       "    </tr>\n",
       "    <tr>\n",
       "      <th>8.0</th>\n",
       "      <td>859657.0</td>\n",
       "      <td>1625099.0</td>\n",
       "      <td>0.528987</td>\n",
       "      <td>0.5</td>\n",
       "    </tr>\n",
       "    <tr>\n",
       "      <th>9.0</th>\n",
       "      <td>525050.0</td>\n",
       "      <td>999730.0</td>\n",
       "      <td>0.525192</td>\n",
       "      <td>0.5</td>\n",
       "    </tr>\n",
       "    <tr>\n",
       "      <th>10.0</th>\n",
       "      <td>461455.0</td>\n",
       "      <td>882790.0</td>\n",
       "      <td>0.522723</td>\n",
       "      <td>0.5</td>\n",
       "    </tr>\n",
       "    <tr>\n",
       "      <th>11.0</th>\n",
       "      <td>53771.0</td>\n",
       "      <td>105156.0</td>\n",
       "      <td>0.511345</td>\n",
       "      <td>0.5</td>\n",
       "    </tr>\n",
       "    <tr>\n",
       "      <th>12.0</th>\n",
       "      <td>77748.0</td>\n",
       "      <td>151681.0</td>\n",
       "      <td>0.512576</td>\n",
       "      <td>0.5</td>\n",
       "    </tr>\n",
       "    <tr>\n",
       "      <th>13.0</th>\n",
       "      <td>3783039.0</td>\n",
       "      <td>7223236.0</td>\n",
       "      <td>0.523732</td>\n",
       "      <td>0.5</td>\n",
       "    </tr>\n",
       "    <tr>\n",
       "      <th>14.0</th>\n",
       "      <td>195978.0</td>\n",
       "      <td>371358.0</td>\n",
       "      <td>0.527733</td>\n",
       "      <td>0.5</td>\n",
       "    </tr>\n",
       "    <tr>\n",
       "      <th>15.0</th>\n",
       "      <td>82707.0</td>\n",
       "      <td>161015.0</td>\n",
       "      <td>0.513660</td>\n",
       "      <td>0.5</td>\n",
       "    </tr>\n",
       "    <tr>\n",
       "      <th>16.0</th>\n",
       "      <td>246170.0</td>\n",
       "      <td>460799.0</td>\n",
       "      <td>0.534224</td>\n",
       "      <td>0.5</td>\n",
       "    </tr>\n",
       "  </tbody>\n",
       "</table>\n",
       "</div>"
      ],
      "text/plain": [
       "        mujer_exp  pers_factor  Porcentaje Mujeres  num\n",
       "region                                                 \n",
       "1.0      177810.0     346917.0            0.512543  0.5\n",
       "2.0      302290.0     586198.0            0.515679  0.5\n",
       "3.0      149403.0     284814.0            0.524563  0.5\n",
       "4.0      406945.0     775198.0            0.524956  0.5\n",
       "5.0      990040.0    1856498.0            0.533284  0.5\n",
       "6.0      484942.0     929632.0            0.521649  0.5\n",
       "7.0      540698.0    1047293.0            0.516281  0.5\n",
       "8.0      859657.0    1625099.0            0.528987  0.5\n",
       "9.0      525050.0     999730.0            0.525192  0.5\n",
       "10.0     461455.0     882790.0            0.522723  0.5\n",
       "11.0      53771.0     105156.0            0.511345  0.5\n",
       "12.0      77748.0     151681.0            0.512576  0.5\n",
       "13.0    3783039.0    7223236.0            0.523732  0.5\n",
       "14.0     195978.0     371358.0            0.527733  0.5\n",
       "15.0      82707.0     161015.0            0.513660  0.5\n",
       "16.0     246170.0     460799.0            0.534224  0.5"
      ]
     },
     "execution_count": 17,
     "metadata": {},
     "output_type": "execute_result"
    }
   ],
   "source": [
    "por_region_expr"
   ]
  },
  {
   "cell_type": "markdown",
   "metadata": {},
   "source": [
    "### 5. Propuesto: Qué regiones están sobre o sub representadas, respecto de los totales de población del Censo 2017?"
   ]
  },
  {
   "cell_type": "code",
   "execution_count": null,
   "metadata": {
    "collapsed": true
   },
   "outputs": [],
   "source": [
    "# calculamos porcentajes de población por region\n",
    "\n",
    "# por_region_expr['total_pob'] = sum(por_region_expr.pers_factor)\n",
    "\n",
    "# unimos con datos del Censo\n"
   ]
  }
 ],
 "metadata": {
  "kernelspec": {
   "display_name": "Python 3",
   "language": "python",
   "name": "python3"
  },
  "language_info": {
   "codemirror_mode": {
    "name": "ipython",
    "version": 3
   },
   "file_extension": ".py",
   "mimetype": "text/x-python",
   "name": "python",
   "nbconvert_exporter": "python",
   "pygments_lexer": "ipython3",
   "version": "3.6.6"
  }
 },
 "nbformat": 4,
 "nbformat_minor": 2
}
