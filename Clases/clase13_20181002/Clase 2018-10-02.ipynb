{
 "cells": [
  {
   "cell_type": "markdown",
   "metadata": {},
   "source": [
    "# 2018-10-02\n",
    "\n",
    "---\n"
   ]
  },
  {
   "cell_type": "markdown",
   "metadata": {},
   "source": [
    "### Antes de partir"
   ]
  },
  {
   "cell_type": "markdown",
   "metadata": {},
   "source": [
    "Base de datos ejemplo (misma clases anteriores). Descargar aqui si no la tienen: https://www.dropbox.com/s/tejs4qpkp06q3ka/data_sql.db?dl=0"
   ]
  },
  {
   "cell_type": "markdown",
   "metadata": {},
   "source": [
    "Primero, cargamos informacion relevante para la clase:\n"
   ]
  },
  {
   "cell_type": "code",
   "execution_count": 3,
   "metadata": {
    "collapsed": true
   },
   "outputs": [],
   "source": [
    "#conexion 1: leer archivo sqlite3\n",
    "\n",
    "#cargo librerias\n",
    "import pandas as pd\n",
    "import sqlite3\n",
    "\n",
    "#cargamos funcion \"display\", para ver los DataFrame de pandas formateados\n",
    "from IPython.display import display\n",
    "\n",
    "#leo los datos\n",
    "db_path = 'data_sql.db'\n",
    "\n",
    "#creo conexion\n",
    "db_conn = sqlite3.connect(db_path)\n"
   ]
  },
  {
   "cell_type": "code",
   "execution_count": 7,
   "metadata": {
    "collapsed": true
   },
   "outputs": [],
   "source": [
    "#cargo datos del servidor\n",
    "\n",
    "import pandas as pd\n",
    "\n",
    "#en este ejemplo, el servidor de datos es MySQL, por lo que usamos \n",
    "#libreria pymysql para administrar la conexion\n",
    "import pymysql.cursors\n",
    "\n",
    "#cargamos funcion \"display\", para ver los DataFrame de pandas formateados\n",
    "from IPython.display import display\n",
    "\n",
    "#datos de conexion al servidor (muy similar a lo que es un \"path\")\n",
    "host = '190.107.176.7'\n",
    "user = 'reportej_alum'\n",
    "passwd = 'clave_alumno2018'\n",
    "database = 'reportej_eae253b'\n",
    "\n",
    "# Creamos una conexion a la base de datos\n",
    "casen_connection = pymysql.connect(host=host,\n",
    "                             user=user,\n",
    "                             password=passwd,\n",
    "                             db=database,)"
   ]
  },
  {
   "cell_type": "markdown",
   "metadata": {},
   "source": [
    "### Ejemplo 1. ¿cómo saber las tablas que hay en la base de datos?\n",
    "\n",
    "- SQLite3: SELECT * FROM sqlite_master;\n",
    "\n",
    "- pyMySQL: SHOW TABLES\n"
   ]
  },
  {
   "cell_type": "code",
   "execution_count": null,
   "metadata": {
    "collapsed": true
   },
   "outputs": [],
   "source": [
    "#lista de tablas de base de datos en sqlite3\n",
    "query = '''\n",
    "    SELECT * FROM sqlite_master;\n",
    "'''\n",
    "\n",
    "df_cuenta = pd.read_sql(query, db_conn)\n",
    "\n",
    "display(df_cuenta)"
   ]
  },
  {
   "cell_type": "code",
   "execution_count": 11,
   "metadata": {
    "collapsed": false
   },
   "outputs": [
    {
     "data": {
      "text/html": [
       "<div>\n",
       "<table border=\"1\" class=\"dataframe\">\n",
       "  <thead>\n",
       "    <tr style=\"text-align: right;\">\n",
       "      <th></th>\n",
       "      <th>Tables_in_reportej_eae253b</th>\n",
       "    </tr>\n",
       "  </thead>\n",
       "  <tbody>\n",
       "    <tr>\n",
       "      <th>0</th>\n",
       "      <td>casen2015</td>\n",
       "    </tr>\n",
       "    <tr>\n",
       "      <th>1</th>\n",
       "      <td>casen2017</td>\n",
       "    </tr>\n",
       "  </tbody>\n",
       "</table>\n",
       "</div>"
      ],
      "text/plain": [
       "  Tables_in_reportej_eae253b\n",
       "0                  casen2015\n",
       "1                  casen2017"
      ]
     },
     "metadata": {},
     "output_type": "display_data"
    }
   ],
   "source": [
    "#lista de tablas de base de datos en mysql\n",
    "\n",
    "query = '''\n",
    "    show tables\n",
    "'''\n",
    "\n",
    "df_cuenta = pd.read_sql(query, casen_connection)\n",
    "\n",
    "display(df_cuenta)"
   ]
  },
  {
   "cell_type": "markdown",
   "metadata": {},
   "source": [
    "### Ejemplo 1. informacion basica de casen"
   ]
  },
  {
   "cell_type": "code",
   "execution_count": 8,
   "metadata": {
    "collapsed": false
   },
   "outputs": [
    {
     "data": {
      "text/html": [
       "<div>\n",
       "<table border=\"1\" class=\"dataframe\">\n",
       "  <thead>\n",
       "    <tr style=\"text-align: right;\">\n",
       "      <th></th>\n",
       "      <th>count(*)</th>\n",
       "    </tr>\n",
       "  </thead>\n",
       "  <tbody>\n",
       "    <tr>\n",
       "      <th>0</th>\n",
       "      <td>266968</td>\n",
       "    </tr>\n",
       "  </tbody>\n",
       "</table>\n",
       "</div>"
      ],
      "text/plain": [
       "   count(*)\n",
       "0    266968"
      ]
     },
     "metadata": {},
     "output_type": "display_data"
    }
   ],
   "source": [
    "# definimos la query que queremos ejecutar. En este caso, saber cuantas filas\n",
    "# tiene la base de datos\n",
    "query = '''\n",
    "    select count(*)\n",
    "    from casen2015\n",
    "'''\n",
    "\n",
    "df_cuenta = pd.read_sql(query, casen_connection)\n",
    "\n",
    "display(df_cuenta)"
   ]
  },
  {
   "cell_type": "markdown",
   "metadata": {},
   "source": [
    "### SQL Injection"
   ]
  },
  {
   "cell_type": "code",
   "execution_count": 25,
   "metadata": {
    "collapsed": false
   },
   "outputs": [
    {
     "data": {
      "text/html": [
       "<div>\n",
       "<table border=\"1\" class=\"dataframe\">\n",
       "  <thead>\n",
       "    <tr style=\"text-align: right;\">\n",
       "      <th></th>\n",
       "      <th>year</th>\n",
       "      <th>nombre</th>\n",
       "    </tr>\n",
       "  </thead>\n",
       "  <tbody>\n",
       "    <tr>\n",
       "      <th>0</th>\n",
       "      <td>2010</td>\n",
       "      <td>Segundo</td>\n",
       "    </tr>\n",
       "    <tr>\n",
       "      <th>1</th>\n",
       "      <td>2010</td>\n",
       "      <td>Tercero</td>\n",
       "    </tr>\n",
       "    <tr>\n",
       "      <th>2</th>\n",
       "      <td>2011</td>\n",
       "      <td>Primero</td>\n",
       "    </tr>\n",
       "    <tr>\n",
       "      <th>3</th>\n",
       "      <td>2011</td>\n",
       "      <td>Tercero</td>\n",
       "    </tr>\n",
       "    <tr>\n",
       "      <th>4</th>\n",
       "      <td>2011</td>\n",
       "      <td>Cuarto</td>\n",
       "    </tr>\n",
       "  </tbody>\n",
       "</table>\n",
       "</div>"
      ],
      "text/plain": [
       "   year   nombre\n",
       "0  2010  Segundo\n",
       "1  2010  Tercero\n",
       "2  2011  Primero\n",
       "3  2011  Tercero\n",
       "4  2011   Cuarto"
      ]
     },
     "metadata": {},
     "output_type": "display_data"
    }
   ],
   "source": [
    "sql_query = '''\n",
    "    SELECT year, nombre\n",
    "    FROM mis_datos\n",
    "        INNER JOIN tabla_nombres USING (quarter)\n",
    "    WHERE valor > ?\n",
    "'''\n",
    "\n",
    "data = pd.read_sql(sql_query, db_conn, params=(3,))\n",
    "display(data)"
   ]
  },
  {
   "cell_type": "code",
   "execution_count": 22,
   "metadata": {
    "collapsed": false
   },
   "outputs": [
    {
     "data": {
      "text/html": [
       "<div>\n",
       "<table border=\"1\" class=\"dataframe\">\n",
       "  <thead>\n",
       "    <tr style=\"text-align: right;\">\n",
       "      <th></th>\n",
       "      <th>region</th>\n",
       "      <th>count(*)</th>\n",
       "    </tr>\n",
       "  </thead>\n",
       "  <tbody>\n",
       "    <tr>\n",
       "      <th>0</th>\n",
       "      <td>13.0</td>\n",
       "      <td>42601</td>\n",
       "    </tr>\n",
       "  </tbody>\n",
       "</table>\n",
       "</div>"
      ],
      "text/plain": [
       "   region  count(*)\n",
       "0    13.0     42601"
      ]
     },
     "metadata": {},
     "output_type": "display_data"
    }
   ],
   "source": [
    "#seleccionando year y nombre trimestre, para casos con valor > X\n",
    "\n",
    "sql_query = '''\n",
    "    SELECT region, count(*)\n",
    "    FROM casen2017\n",
    "    WHERE region = %s\n",
    "    GROUP BY region\n",
    "'''\n",
    "\n",
    "region_selected = 13\n",
    "#, params=[region_selected,]\n",
    "data = pd.read_sql(sql_query, casen_connection, params=(13,))\n",
    "\n",
    "display(data)"
   ]
  },
  {
   "cell_type": "code",
   "execution_count": null,
   "metadata": {
    "collapsed": true
   },
   "outputs": [],
   "source": []
  },
  {
   "cell_type": "markdown",
   "metadata": {},
   "source": [
    "### Otras operaciones: crear variables en SQL\n"
   ]
  },
  {
   "cell_type": "code",
   "execution_count": null,
   "metadata": {
    "collapsed": true
   },
   "outputs": [],
   "source": []
  },
  {
   "cell_type": "code",
   "execution_count": null,
   "metadata": {
    "collapsed": true
   },
   "outputs": [],
   "source": []
  },
  {
   "cell_type": "code",
   "execution_count": null,
   "metadata": {
    "collapsed": true
   },
   "outputs": [],
   "source": []
  },
  {
   "cell_type": "markdown",
   "metadata": {},
   "source": [
    "### Otras operaciones: unir bases de datos (\"append\" de Stata, o \"concatenate\" de pandas)"
   ]
  },
  {
   "cell_type": "markdown",
   "metadata": {},
   "source": [
    "Para hacer esto, en SQL existe la sentencia \"UNION\". Existen dos modalidades comunmente\n",
    "- UNION\n",
    "- UNION ALL: no elimina filas duplicadas"
   ]
  },
  {
   "cell_type": "code",
   "execution_count": null,
   "metadata": {
    "collapsed": true
   },
   "outputs": [],
   "source": []
  },
  {
   "cell_type": "code",
   "execution_count": null,
   "metadata": {
    "collapsed": true
   },
   "outputs": [],
   "source": []
  },
  {
   "cell_type": "code",
   "execution_count": null,
   "metadata": {
    "collapsed": true
   },
   "outputs": [],
   "source": []
  },
  {
   "cell_type": "markdown",
   "metadata": {},
   "source": [
    "### Otras operaciones: usar \"subqueries\""
   ]
  },
  {
   "cell_type": "code",
   "execution_count": null,
   "metadata": {
    "collapsed": true
   },
   "outputs": [],
   "source": []
  },
  {
   "cell_type": "code",
   "execution_count": null,
   "metadata": {
    "collapsed": true
   },
   "outputs": [],
   "source": []
  },
  {
   "cell_type": "code",
   "execution_count": null,
   "metadata": {
    "collapsed": true
   },
   "outputs": [],
   "source": []
  }
 ],
 "metadata": {
  "anaconda-cloud": {},
  "kernelspec": {
   "display_name": "Python [conda env:Anaconda3]",
   "language": "python",
   "name": "conda-env-Anaconda3-py"
  },
  "language_info": {
   "codemirror_mode": {
    "name": "ipython",
    "version": 3
   },
   "file_extension": ".py",
   "mimetype": "text/x-python",
   "name": "python",
   "nbconvert_exporter": "python",
   "pygments_lexer": "ipython3",
   "version": "3.5.5"
  }
 },
 "nbformat": 4,
 "nbformat_minor": 2
}
