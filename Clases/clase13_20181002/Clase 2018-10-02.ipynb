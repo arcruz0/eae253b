{
 "cells": [
  {
   "cell_type": "markdown",
   "metadata": {},
   "source": [
    "# 2018-10-02 (martes)\n",
    "\n",
    "### Presentaciones\n",
    "\n",
    "### Tarea 3\n",
    "\n",
    "---\n"
   ]
  },
  {
   "cell_type": "markdown",
   "metadata": {},
   "source": [
    "### Antes de partir"
   ]
  },
  {
   "cell_type": "markdown",
   "metadata": {},
   "source": [
    "Primero, cargamos informacion relevante para la clase:\n"
   ]
  },
  {
   "cell_type": "code",
   "execution_count": 1,
   "metadata": {
    "collapsed": true
   },
   "outputs": [],
   "source": [
    "#conexion 1: leer archivo sqlite3\n",
    "\n",
    "#cargo librerias\n",
    "import pandas as pd\n",
    "import sqlite3\n",
    "\n",
    "#cargamos funcion \"display\", para ver los DataFrame de pandas formateados\n",
    "from IPython.display import display\n",
    "\n",
    "#leo los datos\n",
    "db_path = 'data_sql.db'\n",
    "\n",
    "#creo conexion\n",
    "db_conn = sqlite3.connect(db_path)\n"
   ]
  },
  {
   "cell_type": "code",
   "execution_count": null,
   "metadata": {},
   "outputs": [],
   "source": [
    "#cargo datos del servidor\n",
    "\n",
    "#en este ejemplo, el servidor de datos es MySQL, por lo que usamos \n",
    "#libreria pymysql para administrar la conexion\n",
    "import pymysql.cursors\n",
    "\n",
    "#datos de conexion al servidor (muy similar a lo que es un \"path\")\n",
    "host = '190.107.176.7'\n",
    "user = 'reportej_alum'\n",
    "passwd = 'clave_alumno2018'\n",
    "database = 'reportej_eae253b'\n",
    "\n",
    "# Creamos una conexion a la base de datos\n",
    "casen_connection = pymysql.connect(host=host,\n",
    "                             user=user,\n",
    "                             password=passwd,\n",
    "                             db=database,)"
   ]
  },
  {
   "cell_type": "markdown",
   "metadata": {},
   "source": [
    "### Ejemplo 1. ¿cómo saber las tablas que hay en la base de datos?\n",
    "\n",
    "- SQLite3: SELECT * FROM sqlite_master;\n",
    "\n",
    "- pyMySQL: SHOW TABLES\n"
   ]
  },
  {
   "cell_type": "code",
   "execution_count": 2,
   "metadata": {},
   "outputs": [
    {
     "data": {
      "text/html": [
       "<div>\n",
       "<style scoped>\n",
       "    .dataframe tbody tr th:only-of-type {\n",
       "        vertical-align: middle;\n",
       "    }\n",
       "\n",
       "    .dataframe tbody tr th {\n",
       "        vertical-align: top;\n",
       "    }\n",
       "\n",
       "    .dataframe thead th {\n",
       "        text-align: right;\n",
       "    }\n",
       "</style>\n",
       "<table border=\"1\" class=\"dataframe\">\n",
       "  <thead>\n",
       "    <tr style=\"text-align: right;\">\n",
       "      <th></th>\n",
       "      <th>type</th>\n",
       "      <th>name</th>\n",
       "      <th>tbl_name</th>\n",
       "      <th>rootpage</th>\n",
       "      <th>sql</th>\n",
       "    </tr>\n",
       "  </thead>\n",
       "  <tbody>\n",
       "    <tr>\n",
       "      <th>0</th>\n",
       "      <td>table</td>\n",
       "      <td>mis_datos</td>\n",
       "      <td>mis_datos</td>\n",
       "      <td>2</td>\n",
       "      <td>CREATE TABLE \"mis_datos\" (\\n\"index\" INTEGER,\\n...</td>\n",
       "    </tr>\n",
       "    <tr>\n",
       "      <th>1</th>\n",
       "      <td>index</td>\n",
       "      <td>ix_mis_datos_index</td>\n",
       "      <td>mis_datos</td>\n",
       "      <td>3</td>\n",
       "      <td>CREATE INDEX \"ix_mis_datos_index\"ON \"mis_datos...</td>\n",
       "    </tr>\n",
       "    <tr>\n",
       "      <th>2</th>\n",
       "      <td>table</td>\n",
       "      <td>tabla_nombres</td>\n",
       "      <td>tabla_nombres</td>\n",
       "      <td>4</td>\n",
       "      <td>CREATE TABLE \"tabla_nombres\" (\\n\"index\" INTEGE...</td>\n",
       "    </tr>\n",
       "    <tr>\n",
       "      <th>3</th>\n",
       "      <td>index</td>\n",
       "      <td>ix_tabla_nombres_index</td>\n",
       "      <td>tabla_nombres</td>\n",
       "      <td>5</td>\n",
       "      <td>CREATE INDEX \"ix_tabla_nombres_index\"ON \"tabla...</td>\n",
       "    </tr>\n",
       "  </tbody>\n",
       "</table>\n",
       "</div>"
      ],
      "text/plain": [
       "    type                    name       tbl_name  rootpage  \\\n",
       "0  table               mis_datos      mis_datos         2   \n",
       "1  index      ix_mis_datos_index      mis_datos         3   \n",
       "2  table           tabla_nombres  tabla_nombres         4   \n",
       "3  index  ix_tabla_nombres_index  tabla_nombres         5   \n",
       "\n",
       "                                                 sql  \n",
       "0  CREATE TABLE \"mis_datos\" (\\n\"index\" INTEGER,\\n...  \n",
       "1  CREATE INDEX \"ix_mis_datos_index\"ON \"mis_datos...  \n",
       "2  CREATE TABLE \"tabla_nombres\" (\\n\"index\" INTEGE...  \n",
       "3  CREATE INDEX \"ix_tabla_nombres_index\"ON \"tabla...  "
      ]
     },
     "metadata": {},
     "output_type": "display_data"
    }
   ],
   "source": [
    "#lista de tablas de base de datos en sqlite3\n",
    "query = '''\n",
    "    SELECT * FROM sqlite_master;\n",
    "'''\n",
    "\n",
    "df_cuenta = pd.read_sql(query, db_conn)\n",
    "\n",
    "display(df_cuenta)"
   ]
  },
  {
   "cell_type": "code",
   "execution_count": null,
   "metadata": {},
   "outputs": [],
   "source": [
    "#lista de tablas de base de datos en mysql\n",
    "\n",
    "query = '''\n",
    "    SHOW TABLES\n",
    "'''\n",
    "\n",
    "df_cuenta = pd.read_sql(query, casen_connection)\n",
    "\n",
    "display(df_cuenta)"
   ]
  },
  {
   "cell_type": "markdown",
   "metadata": {},
   "source": [
    "### Ejemplo 1. informacion basica de casen\n",
    "\n",
    "¿qué hace la siguiente query?"
   ]
  },
  {
   "cell_type": "code",
   "execution_count": null,
   "metadata": {},
   "outputs": [],
   "source": [
    "query = '''\n",
    "    select region, count(*)\n",
    "    from casen2015\n",
    "    group by region\n",
    "'''\n",
    "\n",
    "df_cuenta = pd.read_sql(query, casen_connection)\n",
    "\n",
    "display(df_cuenta)"
   ]
  },
  {
   "cell_type": "markdown",
   "metadata": {},
   "source": [
    "### Ejemplo 2. SQL Injection"
   ]
  },
  {
   "cell_type": "code",
   "execution_count": null,
   "metadata": {},
   "outputs": [],
   "source": [
    "#seleccionando year y nombre trimestre, para casos con valor > X\n",
    "\n",
    "sql_query = '''\n",
    "    SELECT region, count(*)\n",
    "    FROM casen2017\n",
    "    WHERE region = %s\n",
    "    GROUP BY region\n",
    "'''\n",
    "\n",
    "region_selected = 13\n",
    "#, params=[region_selected,]\n",
    "data = pd.read_sql(sql_query, casen_connection, params=(13,))\n",
    "\n",
    "display(data)"
   ]
  },
  {
   "cell_type": "code",
   "execution_count": null,
   "metadata": {
    "collapsed": true
   },
   "outputs": [],
   "source": []
  },
  {
   "cell_type": "markdown",
   "metadata": {},
   "source": [
    "### Otras operaciones: crear variables en SQL\n"
   ]
  },
  {
   "cell_type": "code",
   "execution_count": null,
   "metadata": {
    "collapsed": true
   },
   "outputs": [],
   "source": []
  },
  {
   "cell_type": "code",
   "execution_count": null,
   "metadata": {
    "collapsed": true
   },
   "outputs": [],
   "source": []
  },
  {
   "cell_type": "code",
   "execution_count": null,
   "metadata": {
    "collapsed": true
   },
   "outputs": [],
   "source": []
  },
  {
   "cell_type": "markdown",
   "metadata": {},
   "source": [
    "### Otras operaciones: unir bases de datos (\"append\" de Stata, o \"concatenate\" de pandas)"
   ]
  },
  {
   "cell_type": "markdown",
   "metadata": {},
   "source": [
    "Para hacer esto, en SQL existe la sentencia \"UNION\". Existen dos modalidades comunmente\n",
    "- UNION\n",
    "- UNION ALL: no elimina filas duplicadas"
   ]
  },
  {
   "cell_type": "code",
   "execution_count": null,
   "metadata": {
    "collapsed": true
   },
   "outputs": [],
   "source": []
  },
  {
   "cell_type": "code",
   "execution_count": null,
   "metadata": {
    "collapsed": true
   },
   "outputs": [],
   "source": []
  },
  {
   "cell_type": "code",
   "execution_count": null,
   "metadata": {
    "collapsed": true
   },
   "outputs": [],
   "source": []
  },
  {
   "cell_type": "markdown",
   "metadata": {},
   "source": [
    "### Otras operaciones: usar Subqueries\n",
    "\n",
    "¿qué hace la siguiente query?"
   ]
  },
  {
   "cell_type": "code",
   "execution_count": null,
   "metadata": {
    "collapsed": true
   },
   "outputs": [],
   "source": [
    "query = '''\n",
    "    SELECT *\n",
    "    FROM (\n",
    "        select region, count(*) as poblacion\n",
    "        from casen2015\n",
    "        group by region\n",
    "    )\n",
    "    WHERE POBLACION > 1000000\n",
    "'''\n",
    "\n",
    "df_cuenta = pd.read_sql(query, casen_connection)\n",
    "\n",
    "display(df_cuenta)"
   ]
  },
  {
   "cell_type": "markdown",
   "metadata": {},
   "source": [
    "### Ejercicio: ¿cómo obtendríamos el número de personas por región, para cada Casen?"
   ]
  }
 ],
 "metadata": {
  "anaconda-cloud": {},
  "kernelspec": {
   "display_name": "Python 3",
   "language": "python",
   "name": "python3"
  },
  "language_info": {
   "codemirror_mode": {
    "name": "ipython",
    "version": 3
   },
   "file_extension": ".py",
   "mimetype": "text/x-python",
   "name": "python",
   "nbconvert_exporter": "python",
   "pygments_lexer": "ipython3",
   "version": "3.6.6"
  }
 },
 "nbformat": 4,
 "nbformat_minor": 2
}
