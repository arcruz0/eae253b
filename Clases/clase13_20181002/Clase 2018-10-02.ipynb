{
 "cells": [
  {
   "cell_type": "markdown",
   "metadata": {},
   "source": [
    "# 2018-10-02 (martes)\n",
    "\n",
    "### Presentaciones\n",
    "\n",
    "### Tarea 3\n",
    "\n",
    "---\n"
   ]
  },
  {
   "cell_type": "markdown",
   "metadata": {},
   "source": [
    "### Antes de partir"
   ]
  },
  {
   "cell_type": "markdown",
   "metadata": {},
   "source": [
    "Primero, cargamos informacion relevante para la clase:\n"
   ]
  },
  {
   "cell_type": "code",
   "execution_count": 1,
   "metadata": {
    "collapsed": true
   },
   "outputs": [],
   "source": [
    "#conexion 1: leer archivo sqlite3\n",
    "\n",
    "#cargo librerias\n",
    "import pandas as pd\n",
    "import sqlite3\n",
    "\n",
    "#cargamos funcion \"display\", para ver los DataFrame de pandas formateados\n",
    "from IPython.display import display\n",
    "\n",
    "#leo los datos\n",
    "db_path = 'data_sql.db'\n",
    "\n",
    "#creo conexion\n",
    "db_conn = sqlite3.connect(db_path)\n"
   ]
  },
  {
   "cell_type": "code",
   "execution_count": 2,
   "metadata": {
    "collapsed": true
   },
   "outputs": [],
   "source": [
    "#cargo datos del servidor\n",
    "\n",
    "#en este ejemplo, el servidor de datos es MySQL, por lo que usamos \n",
    "#libreria pymysql para administrar la conexion\n",
    "import pymysql.cursors\n",
    "\n",
    "#datos de conexion al servidor (muy similar a lo que es un \"path\")\n",
    "host = '190.107.176.7'\n",
    "user = 'reportej_alum'\n",
    "passwd = 'clave_alumno2018'\n",
    "database = 'reportej_eae253b'\n",
    "\n",
    "# Creamos una conexion a la base de datos\n",
    "casen_connection = pymysql.connect(host=host,\n",
    "                             user=user,\n",
    "                             password=passwd,\n",
    "                             db=database,)"
   ]
  },
  {
   "cell_type": "markdown",
   "metadata": {},
   "source": [
    "### Ejemplo 1. ¿cómo saber las tablas que hay en la base de datos?\n",
    "\n",
    "- SQLite3: SELECT * FROM sqlite_master;\n",
    "\n",
    "- pyMySQL: SHOW TABLES\n"
   ]
  },
  {
   "cell_type": "code",
   "execution_count": 3,
   "metadata": {
    "collapsed": false
   },
   "outputs": [
    {
     "data": {
      "text/html": [
       "<div>\n",
       "<table border=\"1\" class=\"dataframe\">\n",
       "  <thead>\n",
       "    <tr style=\"text-align: right;\">\n",
       "      <th></th>\n",
       "      <th>type</th>\n",
       "      <th>name</th>\n",
       "      <th>tbl_name</th>\n",
       "      <th>rootpage</th>\n",
       "      <th>sql</th>\n",
       "    </tr>\n",
       "  </thead>\n",
       "  <tbody>\n",
       "    <tr>\n",
       "      <th>0</th>\n",
       "      <td>table</td>\n",
       "      <td>mis_datos</td>\n",
       "      <td>mis_datos</td>\n",
       "      <td>2</td>\n",
       "      <td>CREATE TABLE \"mis_datos\" (\\n\"index\" INTEGER,\\n...</td>\n",
       "    </tr>\n",
       "    <tr>\n",
       "      <th>1</th>\n",
       "      <td>index</td>\n",
       "      <td>ix_mis_datos_index</td>\n",
       "      <td>mis_datos</td>\n",
       "      <td>3</td>\n",
       "      <td>CREATE INDEX \"ix_mis_datos_index\"ON \"mis_datos...</td>\n",
       "    </tr>\n",
       "    <tr>\n",
       "      <th>2</th>\n",
       "      <td>table</td>\n",
       "      <td>tabla_nombres</td>\n",
       "      <td>tabla_nombres</td>\n",
       "      <td>4</td>\n",
       "      <td>CREATE TABLE \"tabla_nombres\" (\\n\"index\" INTEGE...</td>\n",
       "    </tr>\n",
       "    <tr>\n",
       "      <th>3</th>\n",
       "      <td>index</td>\n",
       "      <td>ix_tabla_nombres_index</td>\n",
       "      <td>tabla_nombres</td>\n",
       "      <td>5</td>\n",
       "      <td>CREATE INDEX \"ix_tabla_nombres_index\"ON \"tabla...</td>\n",
       "    </tr>\n",
       "  </tbody>\n",
       "</table>\n",
       "</div>"
      ],
      "text/plain": [
       "    type                    name       tbl_name  rootpage  \\\n",
       "0  table               mis_datos      mis_datos         2   \n",
       "1  index      ix_mis_datos_index      mis_datos         3   \n",
       "2  table           tabla_nombres  tabla_nombres         4   \n",
       "3  index  ix_tabla_nombres_index  tabla_nombres         5   \n",
       "\n",
       "                                                 sql  \n",
       "0  CREATE TABLE \"mis_datos\" (\\n\"index\" INTEGER,\\n...  \n",
       "1  CREATE INDEX \"ix_mis_datos_index\"ON \"mis_datos...  \n",
       "2  CREATE TABLE \"tabla_nombres\" (\\n\"index\" INTEGE...  \n",
       "3  CREATE INDEX \"ix_tabla_nombres_index\"ON \"tabla...  "
      ]
     },
     "metadata": {},
     "output_type": "display_data"
    }
   ],
   "source": [
    "#lista de tablas de base de datos en sqlite3\n",
    "query = '''\n",
    "    SELECT * FROM sqlite_master;\n",
    "'''\n",
    "\n",
    "df_cuenta = pd.read_sql(query, db_conn)\n",
    "\n",
    "display(df_cuenta)"
   ]
  },
  {
   "cell_type": "code",
   "execution_count": 4,
   "metadata": {
    "collapsed": false
   },
   "outputs": [
    {
     "data": {
      "text/html": [
       "<div>\n",
       "<table border=\"1\" class=\"dataframe\">\n",
       "  <thead>\n",
       "    <tr style=\"text-align: right;\">\n",
       "      <th></th>\n",
       "      <th>Tables_in_reportej_eae253b</th>\n",
       "    </tr>\n",
       "  </thead>\n",
       "  <tbody>\n",
       "    <tr>\n",
       "      <th>0</th>\n",
       "      <td>casen2015</td>\n",
       "    </tr>\n",
       "    <tr>\n",
       "      <th>1</th>\n",
       "      <td>casen2017</td>\n",
       "    </tr>\n",
       "  </tbody>\n",
       "</table>\n",
       "</div>"
      ],
      "text/plain": [
       "  Tables_in_reportej_eae253b\n",
       "0                  casen2015\n",
       "1                  casen2017"
      ]
     },
     "metadata": {},
     "output_type": "display_data"
    }
   ],
   "source": [
    "#lista de tablas de base de datos en mysql\n",
    "\n",
    "query = '''\n",
    "    SHOW TABLES\n",
    "'''\n",
    "\n",
    "df_cuenta = pd.read_sql(query, casen_connection)\n",
    "\n",
    "display(df_cuenta)"
   ]
  },
  {
   "cell_type": "markdown",
   "metadata": {},
   "source": [
    "### Ejemplo 1: informacion basica de encuesta Casen\n",
    "\n",
    "¿qué hace la siguiente query?"
   ]
  },
  {
   "cell_type": "code",
   "execution_count": 5,
   "metadata": {
    "collapsed": false
   },
   "outputs": [
    {
     "data": {
      "text/html": [
       "<div>\n",
       "<table border=\"1\" class=\"dataframe\">\n",
       "  <thead>\n",
       "    <tr style=\"text-align: right;\">\n",
       "      <th></th>\n",
       "      <th>region</th>\n",
       "      <th>count(*)</th>\n",
       "    </tr>\n",
       "  </thead>\n",
       "  <tbody>\n",
       "    <tr>\n",
       "      <th>0</th>\n",
       "      <td>1</td>\n",
       "      <td>8458</td>\n",
       "    </tr>\n",
       "    <tr>\n",
       "      <th>1</th>\n",
       "      <td>2</td>\n",
       "      <td>6655</td>\n",
       "    </tr>\n",
       "    <tr>\n",
       "      <th>2</th>\n",
       "      <td>3</td>\n",
       "      <td>13819</td>\n",
       "    </tr>\n",
       "    <tr>\n",
       "      <th>3</th>\n",
       "      <td>4</td>\n",
       "      <td>12464</td>\n",
       "    </tr>\n",
       "    <tr>\n",
       "      <th>4</th>\n",
       "      <td>5</td>\n",
       "      <td>27998</td>\n",
       "    </tr>\n",
       "    <tr>\n",
       "      <th>5</th>\n",
       "      <td>6</td>\n",
       "      <td>22805</td>\n",
       "    </tr>\n",
       "    <tr>\n",
       "      <th>6</th>\n",
       "      <td>7</td>\n",
       "      <td>17330</td>\n",
       "    </tr>\n",
       "    <tr>\n",
       "      <th>7</th>\n",
       "      <td>8</td>\n",
       "      <td>36098</td>\n",
       "    </tr>\n",
       "    <tr>\n",
       "      <th>8</th>\n",
       "      <td>9</td>\n",
       "      <td>22042</td>\n",
       "    </tr>\n",
       "    <tr>\n",
       "      <th>9</th>\n",
       "      <td>10</td>\n",
       "      <td>19386</td>\n",
       "    </tr>\n",
       "    <tr>\n",
       "      <th>10</th>\n",
       "      <td>11</td>\n",
       "      <td>3353</td>\n",
       "    </tr>\n",
       "    <tr>\n",
       "      <th>11</th>\n",
       "      <td>12</td>\n",
       "      <td>5247</td>\n",
       "    </tr>\n",
       "    <tr>\n",
       "      <th>12</th>\n",
       "      <td>13</td>\n",
       "      <td>58142</td>\n",
       "    </tr>\n",
       "    <tr>\n",
       "      <th>13</th>\n",
       "      <td>14</td>\n",
       "      <td>10454</td>\n",
       "    </tr>\n",
       "    <tr>\n",
       "      <th>14</th>\n",
       "      <td>15</td>\n",
       "      <td>2717</td>\n",
       "    </tr>\n",
       "  </tbody>\n",
       "</table>\n",
       "</div>"
      ],
      "text/plain": [
       "    region  count(*)\n",
       "0        1      8458\n",
       "1        2      6655\n",
       "2        3     13819\n",
       "3        4     12464\n",
       "4        5     27998\n",
       "5        6     22805\n",
       "6        7     17330\n",
       "7        8     36098\n",
       "8        9     22042\n",
       "9       10     19386\n",
       "10      11      3353\n",
       "11      12      5247\n",
       "12      13     58142\n",
       "13      14     10454\n",
       "14      15      2717"
      ]
     },
     "metadata": {},
     "output_type": "display_data"
    }
   ],
   "source": [
    "query = '''\n",
    "    select region, count(*)\n",
    "    from casen2015\n",
    "    group by region\n",
    "'''\n",
    "\n",
    "df_cuenta = pd.read_sql(query, casen_connection)\n",
    "\n",
    "display(df_cuenta)"
   ]
  },
  {
   "cell_type": "code",
   "execution_count": null,
   "metadata": {
    "collapsed": true
   },
   "outputs": [],
   "source": []
  },
  {
   "cell_type": "markdown",
   "metadata": {},
   "source": [
    "##### Ejercicio: calcule el número de personas por región, usando el factor de expansión regional (expr)"
   ]
  },
  {
   "cell_type": "code",
   "execution_count": 6,
   "metadata": {
    "collapsed": false
   },
   "outputs": [
    {
     "data": {
      "text/html": [
       "<div>\n",
       "<table border=\"1\" class=\"dataframe\">\n",
       "  <thead>\n",
       "    <tr style=\"text-align: right;\">\n",
       "      <th></th>\n",
       "      <th>region</th>\n",
       "      <th>sum(expr)</th>\n",
       "    </tr>\n",
       "  </thead>\n",
       "  <tbody>\n",
       "    <tr>\n",
       "      <th>0</th>\n",
       "      <td>1</td>\n",
       "      <td>326966.0</td>\n",
       "    </tr>\n",
       "    <tr>\n",
       "      <th>1</th>\n",
       "      <td>2</td>\n",
       "      <td>574413.0</td>\n",
       "    </tr>\n",
       "    <tr>\n",
       "      <th>2</th>\n",
       "      <td>3</td>\n",
       "      <td>281153.0</td>\n",
       "    </tr>\n",
       "    <tr>\n",
       "      <th>3</th>\n",
       "      <td>4</td>\n",
       "      <td>758108.0</td>\n",
       "    </tr>\n",
       "    <tr>\n",
       "      <th>4</th>\n",
       "      <td>5</td>\n",
       "      <td>1824098.0</td>\n",
       "    </tr>\n",
       "    <tr>\n",
       "      <th>5</th>\n",
       "      <td>6</td>\n",
       "      <td>914682.0</td>\n",
       "    </tr>\n",
       "    <tr>\n",
       "      <th>6</th>\n",
       "      <td>7</td>\n",
       "      <td>1032683.0</td>\n",
       "    </tr>\n",
       "    <tr>\n",
       "      <th>7</th>\n",
       "      <td>8</td>\n",
       "      <td>2067335.0</td>\n",
       "    </tr>\n",
       "    <tr>\n",
       "      <th>8</th>\n",
       "      <td>9</td>\n",
       "      <td>983653.0</td>\n",
       "    </tr>\n",
       "    <tr>\n",
       "      <th>9</th>\n",
       "      <td>10</td>\n",
       "      <td>863439.0</td>\n",
       "    </tr>\n",
       "    <tr>\n",
       "      <th>10</th>\n",
       "      <td>11</td>\n",
       "      <td>103207.0</td>\n",
       "    </tr>\n",
       "    <tr>\n",
       "      <th>11</th>\n",
       "      <td>12</td>\n",
       "      <td>150675.0</td>\n",
       "    </tr>\n",
       "    <tr>\n",
       "      <th>12</th>\n",
       "      <td>13</td>\n",
       "      <td>7134812.0</td>\n",
       "    </tr>\n",
       "    <tr>\n",
       "      <th>13</th>\n",
       "      <td>14</td>\n",
       "      <td>369488.0</td>\n",
       "    </tr>\n",
       "    <tr>\n",
       "      <th>14</th>\n",
       "      <td>15</td>\n",
       "      <td>167793.0</td>\n",
       "    </tr>\n",
       "  </tbody>\n",
       "</table>\n",
       "</div>"
      ],
      "text/plain": [
       "    region  sum(expr)\n",
       "0        1   326966.0\n",
       "1        2   574413.0\n",
       "2        3   281153.0\n",
       "3        4   758108.0\n",
       "4        5  1824098.0\n",
       "5        6   914682.0\n",
       "6        7  1032683.0\n",
       "7        8  2067335.0\n",
       "8        9   983653.0\n",
       "9       10   863439.0\n",
       "10      11   103207.0\n",
       "11      12   150675.0\n",
       "12      13  7134812.0\n",
       "13      14   369488.0\n",
       "14      15   167793.0"
      ]
     },
     "metadata": {},
     "output_type": "display_data"
    }
   ],
   "source": [
    "query = '''\n",
    "\n",
    "'''\n",
    "\n",
    "df_cuenta = pd.read_sql(query, casen_connection)\n",
    "\n",
    "display(df_cuenta)"
   ]
  },
  {
   "cell_type": "markdown",
   "metadata": {},
   "source": [
    "### Ejemplo 2: SQL Injection"
   ]
  },
  {
   "cell_type": "code",
   "execution_count": 8,
   "metadata": {
    "collapsed": false
   },
   "outputs": [
    {
     "data": {
      "text/html": [
       "<div>\n",
       "<table border=\"1\" class=\"dataframe\">\n",
       "  <thead>\n",
       "    <tr style=\"text-align: right;\">\n",
       "      <th></th>\n",
       "      <th>region</th>\n",
       "      <th>personas</th>\n",
       "    </tr>\n",
       "  </thead>\n",
       "  <tbody>\n",
       "    <tr>\n",
       "      <th>0</th>\n",
       "      <td>13.0</td>\n",
       "      <td>7223236.0</td>\n",
       "    </tr>\n",
       "  </tbody>\n",
       "</table>\n",
       "</div>"
      ],
      "text/plain": [
       "   region   personas\n",
       "0    13.0  7223236.0"
      ]
     },
     "metadata": {},
     "output_type": "display_data"
    }
   ],
   "source": [
    "#calcule el número de personas de la región metropolitana\n",
    "\n",
    "sql_query = '''\n",
    "    SELECT region, sum(expr) as personas\n",
    "    FROM casen2017\n",
    "    WHERE region = 13\n",
    "    GROUP BY region\n",
    "'''\n",
    "\n",
    "data = pd.read_sql(sql_query, casen_connection)\n",
    "\n",
    "display(data)"
   ]
  },
  {
   "cell_type": "markdown",
   "metadata": {},
   "source": [
    "\"SQL injection\" nos permite ingresar parámetros desde \"afuera\" de SQL:"
   ]
  },
  {
   "cell_type": "code",
   "execution_count": null,
   "metadata": {
    "collapsed": true
   },
   "outputs": [],
   "source": [
    "sql_query = '''\n",
    "    SELECT region, count(*)\n",
    "    FROM casen2017\n",
    "    WHERE region = %s\n",
    "    GROUP BY region\n",
    "'''\n",
    "\n",
    "region_selected = 13\n",
    "\n",
    "#, params=[region_selected,]\n",
    "data = pd.read_sql(sql_query, casen_connection, params=(13,))\n",
    "\n",
    "display(data)"
   ]
  },
  {
   "cell_type": "markdown",
   "metadata": {},
   "source": [
    "### Ejemplo 3: usar Subqueries\n",
    "\n",
    "¿qué hace la siguiente query?"
   ]
  },
  {
   "cell_type": "code",
   "execution_count": null,
   "metadata": {
    "collapsed": true
   },
   "outputs": [],
   "source": [
    "query = '''\n",
    "    SELECT *\n",
    "    FROM (\n",
    "        select region, count(*) as poblacion\n",
    "        from casen2015\n",
    "        group by region\n",
    "    )\n",
    "    WHERE POBLACION > 1000000\n",
    "'''\n",
    "\n",
    "df_cuenta = pd.read_sql(query, casen_connection)\n",
    "\n",
    "display(df_cuenta)"
   ]
  },
  {
   "cell_type": "markdown",
   "metadata": {},
   "source": [
    "### Otras operaciones: crear variables en SQL\n",
    "\n",
    "Calcule el ingreso promedio de la región (usar variable ytot)"
   ]
  },
  {
   "cell_type": "code",
   "execution_count": 12,
   "metadata": {
    "collapsed": false
   },
   "outputs": [
    {
     "data": {
      "text/html": [
       "<div>\n",
       "<table border=\"1\" class=\"dataframe\">\n",
       "  <thead>\n",
       "    <tr style=\"text-align: right;\">\n",
       "      <th></th>\n",
       "      <th>region</th>\n",
       "      <th>y_prom</th>\n",
       "      <th>promy</th>\n",
       "    </tr>\n",
       "  </thead>\n",
       "  <tbody>\n",
       "    <tr>\n",
       "      <th>0</th>\n",
       "      <td>1</td>\n",
       "      <td>236046.367309</td>\n",
       "      <td>400980.151576</td>\n",
       "    </tr>\n",
       "    <tr>\n",
       "      <th>1</th>\n",
       "      <td>2</td>\n",
       "      <td>271448.659232</td>\n",
       "      <td>491963.732894</td>\n",
       "    </tr>\n",
       "    <tr>\n",
       "      <th>2</th>\n",
       "      <td>3</td>\n",
       "      <td>260854.067121</td>\n",
       "      <td>416974.245639</td>\n",
       "    </tr>\n",
       "    <tr>\n",
       "      <th>3</th>\n",
       "      <td>4</td>\n",
       "      <td>202797.761068</td>\n",
       "      <td>316314.765855</td>\n",
       "    </tr>\n",
       "    <tr>\n",
       "      <th>4</th>\n",
       "      <td>5</td>\n",
       "      <td>218433.590050</td>\n",
       "      <td>339440.731211</td>\n",
       "    </tr>\n",
       "    <tr>\n",
       "      <th>5</th>\n",
       "      <td>6</td>\n",
       "      <td>201514.585454</td>\n",
       "      <td>308322.047722</td>\n",
       "    </tr>\n",
       "    <tr>\n",
       "      <th>6</th>\n",
       "      <td>7</td>\n",
       "      <td>180604.489262</td>\n",
       "      <td>249293.173947</td>\n",
       "    </tr>\n",
       "    <tr>\n",
       "      <th>7</th>\n",
       "      <td>8</td>\n",
       "      <td>178191.565013</td>\n",
       "      <td>262877.890957</td>\n",
       "    </tr>\n",
       "    <tr>\n",
       "      <th>8</th>\n",
       "      <td>9</td>\n",
       "      <td>172216.631991</td>\n",
       "      <td>236569.799473</td>\n",
       "    </tr>\n",
       "    <tr>\n",
       "      <th>9</th>\n",
       "      <td>10</td>\n",
       "      <td>185758.990548</td>\n",
       "      <td>260592.212951</td>\n",
       "    </tr>\n",
       "    <tr>\n",
       "      <th>10</th>\n",
       "      <td>11</td>\n",
       "      <td>274885.697886</td>\n",
       "      <td>391210.418086</td>\n",
       "    </tr>\n",
       "    <tr>\n",
       "      <th>11</th>\n",
       "      <td>12</td>\n",
       "      <td>308448.660336</td>\n",
       "      <td>475449.506692</td>\n",
       "    </tr>\n",
       "    <tr>\n",
       "      <th>12</th>\n",
       "      <td>13</td>\n",
       "      <td>337887.771013</td>\n",
       "      <td>525462.614872</td>\n",
       "    </tr>\n",
       "    <tr>\n",
       "      <th>13</th>\n",
       "      <td>14</td>\n",
       "      <td>182284.882095</td>\n",
       "      <td>249196.568252</td>\n",
       "    </tr>\n",
       "    <tr>\n",
       "      <th>14</th>\n",
       "      <td>15</td>\n",
       "      <td>200635.223115</td>\n",
       "      <td>308329.129640</td>\n",
       "    </tr>\n",
       "  </tbody>\n",
       "</table>\n",
       "</div>"
      ],
      "text/plain": [
       "    region         y_prom          promy\n",
       "0        1  236046.367309  400980.151576\n",
       "1        2  271448.659232  491963.732894\n",
       "2        3  260854.067121  416974.245639\n",
       "3        4  202797.761068  316314.765855\n",
       "4        5  218433.590050  339440.731211\n",
       "5        6  201514.585454  308322.047722\n",
       "6        7  180604.489262  249293.173947\n",
       "7        8  178191.565013  262877.890957\n",
       "8        9  172216.631991  236569.799473\n",
       "9       10  185758.990548  260592.212951\n",
       "10      11  274885.697886  391210.418086\n",
       "11      12  308448.660336  475449.506692\n",
       "12      13  337887.771013  525462.614872\n",
       "13      14  182284.882095  249196.568252\n",
       "14      15  200635.223115  308329.129640"
      ]
     },
     "metadata": {},
     "output_type": "display_data"
    }
   ],
   "source": [
    "query = '''\n",
    "    SELECT region, sumay/poblacion as y_prom, promy\n",
    "    FROM (\n",
    "        select region, count(*) as poblacion, sum(ytot) as sumay, avg(ytot) as promy\n",
    "        from casen2015\n",
    "        group by region\n",
    "    ) as a\n",
    "\n",
    "'''\n",
    "\n",
    "df_cuenta = pd.read_sql(query, casen_connection)\n",
    "\n",
    "display(df_cuenta)"
   ]
  },
  {
   "cell_type": "code",
   "execution_count": null,
   "metadata": {
    "collapsed": true
   },
   "outputs": [],
   "source": [
    "Ahora, usando factor de expansión regional:"
   ]
  },
  {
   "cell_type": "code",
   "execution_count": null,
   "metadata": {
    "collapsed": true
   },
   "outputs": [],
   "source": []
  },
  {
   "cell_type": "markdown",
   "metadata": {},
   "source": [
    "### Otras operaciones: unir bases de datos (\"append\" de Stata, o \"concatenate\" de pandas)"
   ]
  },
  {
   "cell_type": "markdown",
   "metadata": {},
   "source": [
    "Para hacer esto, en SQL existe la sentencia \"UNION\". Existen dos modalidades comunmente\n",
    "- UNION\n",
    "- UNION ALL: no elimina filas duplicadas"
   ]
  },
  {
   "cell_type": "code",
   "execution_count": null,
   "metadata": {
    "collapsed": true
   },
   "outputs": [],
   "source": []
  },
  {
   "cell_type": "code",
   "execution_count": null,
   "metadata": {
    "collapsed": true
   },
   "outputs": [],
   "source": []
  },
  {
   "cell_type": "code",
   "execution_count": null,
   "metadata": {
    "collapsed": true
   },
   "outputs": [],
   "source": []
  },
  {
   "cell_type": "markdown",
   "metadata": {},
   "source": [
    "### Ejercicio: ¿cómo obtendríamos el número de personas por región, para cada Casen?"
   ]
  }
 ],
 "metadata": {
  "anaconda-cloud": {},
  "kernelspec": {
   "display_name": "Python [default]",
   "language": "python",
   "name": "python3"
  },
  "language_info": {
   "codemirror_mode": {
    "name": "ipython",
    "version": 3
   },
   "file_extension": ".py",
   "mimetype": "text/x-python",
   "name": "python",
   "nbconvert_exporter": "python",
   "pygments_lexer": "ipython3",
   "version": "3.5.5"
  }
 },
 "nbformat": 4,
 "nbformat_minor": 2
}
