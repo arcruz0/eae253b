{
 "cells": [
  {
   "cell_type": "markdown",
   "metadata": {},
   "source": [
    "# 2018-08-23 (Jueves)\n",
    "\n",
    "## Entrega propuesta proyecto\n",
    "\n",
    "Propuesta formal se entregará a través de repositorio privado del grupo\n",
    "\n",
    "## Tarea 2, entrega jueves 30 (subir códigos y PDF/markdown a repositorio privado)\n",
    "\n",
    "Incluso si Kattis no acepta código, subirlo igual a Git\n",
    "\n",
    "\n",
    "---\n",
    "\n",
    "\n",
    "\n"
   ]
  },
  {
   "cell_type": "code",
   "execution_count": 15,
   "metadata": {},
   "outputs": [
    {
     "name": "stdout",
     "output_type": "stream",
     "text": [
      "[('MAURICIO HERNÁN', '19732761-8'), ('MATÍAS', '18935035-K'), ('MAURICIO JAIR', '19828661-3'), ('MARIA ANTONIA', '19672788-4'), ('DAVID ROLANDO', '95404-7'), ('RAMÓN ALBERTO', '95506-K'), ('GONZALO ALONSO', '19133672-0'), ('CAMILA CONSTANZA', '19741184-8'), ('AURELIEN', '95521-3'), ('VICENTE', '19080962-5'), ('NICOLAS RODRIGO', '19636956-2'), ('MIGUEL ANGEL', '95657-0'), ('MARTIN', '19685544-0'), ('GABRIELA GUADALUPE', '95707-0'), ('NICOLAS', '19635591-K'), ('PAULO ALEJANDRO', '19688168-9'), ('GERARDO JOSÉ', '95526-4'), ('ALINE PAZ', '19792621-K')]\n"
     ]
    }
   ],
   "source": [
    "#datos de ejemplo para la clase\n",
    "\n",
    "#leemos archivo de otra carpeta\n",
    "archivo = open('../clase04_20180821/nombres.txt', 'r', encoding='utf-8')\n",
    "\n",
    "cols = archivo.readline()\n",
    "\n",
    "data_nombres = []\n",
    "for line in archivo:\n",
    "    num, rut, ape, nom, cur = line.strip().split('\\t')\n",
    "    data_nombres.append((nom, rut))\n",
    "\n",
    "archivo.close()\n",
    "\n",
    "print(data_nombres)"
   ]
  },
  {
   "cell_type": "markdown",
   "metadata": {},
   "source": [
    "## Listas (continuación)\n",
    "\n",
    "##### List comprehension\n",
    "\n",
    "Otra herramienta muy utilizada con listas es lo que se llama \"list comprehension\". Esta es una particularidad incluida en Python (generalmente no encontrada en otros lenguajes) que nos permite crear listas derivadas de procesos iterativos.\n",
    "\n",
    "\"list comprehension\" quiere decir que, dentro de una lista, podemos incluir una instrucción a Python para crear la lista.\n",
    "\n",
    "Por ejemplo, supongamos que tenemos una base de datos con los nombres del curso, y queremos crear una lista con los nombres que comienzan con la letra \"A\". ¿cómo lo haríamos? "
   ]
  },
  {
   "cell_type": "code",
   "execution_count": 2,
   "metadata": {},
   "outputs": [
    {
     "name": "stdout",
     "output_type": "stream",
     "text": [
      "nombres que comienzan con A\n",
      "['AURELIEN', 'ALINE PAZ']\n"
     ]
    }
   ],
   "source": [
    "nombres_con_a = []\n",
    "\n",
    "for nombre in data_nombres:\n",
    "    if nombre.startswith('A'):\n",
    "        nombres_con_a.append(nombre)\n",
    "\n",
    "print('nombres que comienzan con A')\n",
    "print(nombres_con_a)"
   ]
  },
  {
   "cell_type": "code",
   "execution_count": 6,
   "metadata": {},
   "outputs": [
    {
     "name": "stdout",
     "output_type": "stream",
     "text": [
      "nombres que comienzan con A\n",
      "[('AURELIEN', 8), ('ALINE PAZ', 9)]\n"
     ]
    }
   ],
   "source": [
    "#con list comprehension:\n",
    "\n",
    "nombres_con_a = [(nombre, len(nombre)) for nombre in data_nombres if nombre.startswith('A')]\n",
    "\n",
    "print('nombres que comienzan con A')\n",
    "print(nombres_con_a)"
   ]
  },
  {
   "cell_type": "markdown",
   "metadata": {},
   "source": [
    "**Quiz: y si queremos los nombres \"capitalized\"?**"
   ]
  },
  {
   "cell_type": "markdown",
   "metadata": {},
   "source": [
    "### Tuplas\n",
    "\n",
    "Son similares a las listas, pero no permiten modificacion de sus elementos. "
   ]
  },
  {
   "cell_type": "code",
   "execution_count": 7,
   "metadata": {},
   "outputs": [
    {
     "name": "stdout",
     "output_type": "stream",
     "text": [
      "([2, 3], [4, 5], 9)\n",
      "([4, 5], 9)\n"
     ]
    }
   ],
   "source": [
    "a = [2, 3]\n",
    "\n",
    "t = (a, [4, 5], 9)\n",
    "\n",
    "print(t)\n",
    "\n",
    "print(t[1:])"
   ]
  },
  {
   "cell_type": "code",
   "execution_count": 11,
   "metadata": {},
   "outputs": [
    {
     "data": {
      "text/plain": [
       "[2, 4]"
      ]
     },
     "execution_count": 11,
     "metadata": {},
     "output_type": "execute_result"
    }
   ],
   "source": [
    "a[1] = 4\n",
    "a"
   ]
  },
  {
   "cell_type": "code",
   "execution_count": 12,
   "metadata": {},
   "outputs": [
    {
     "data": {
      "text/plain": [
       "([2, 4], [4, 5], 9)"
      ]
     },
     "execution_count": 12,
     "metadata": {},
     "output_type": "execute_result"
    }
   ],
   "source": [
    "t"
   ]
  },
  {
   "cell_type": "markdown",
   "metadata": {
    "collapsed": true
   },
   "source": [
    "Uno de los usos genericos de tuplas es para guardar informacion que no queremos sea modificada, o que queremos se mantenga \"junta\" a lo largo de nuestros codigos. Por ejemplo:"
   ]
  },
  {
   "cell_type": "code",
   "execution_count": null,
   "metadata": {
    "collapsed": true
   },
   "outputs": [],
   "source": []
  },
  {
   "cell_type": "code",
   "execution_count": 26,
   "metadata": {},
   "outputs": [
    {
     "name": "stdout",
     "output_type": "stream",
     "text": [
      "('050004', '19732761-8', 'MAURICIO HERNÁN', 'ABURTO ABURTO')\n",
      "('050004', '18935035-K', 'MATÍAS', 'ALDUNATE BARROS')\n",
      "('050004', '19828661-3', 'MAURICIO JAIR', 'BARRERA ABARCA')\n",
      "('050004', '19672788-4', 'MARIA ANTONIA', 'BULNES ZAÑARTU')\n",
      "('000301', '95404-7', 'DAVID ROLANDO', 'CORNEJO ARIAS')\n",
      "('000301', '95506-K', 'RAMÓN ALBERTO', 'ESCOBAR MADRID')\n",
      "('050004', '19133672-0', 'GONZALO ALONSO', 'GARCIA HOFFMANN')\n",
      "('050004', '19741184-8', 'CAMILA CONSTANZA', 'HURTADO CONTRERAS')\n",
      "('000302', '95521-3', 'AURELIEN', 'KASKE')\n",
      "('050004', '19080962-5', 'VICENTE', 'MARISCAL BRESLER')\n",
      "('050004', '19636956-2', 'NICOLAS RODRIGO', 'PASTEN PARDO')\n",
      "('000302', '95657-0', 'MIGUEL ANGEL', 'QUINTERO MARTINEZ')\n",
      "('050004', '19685544-0', 'MARTIN', 'RAFOLS VALENZUELA')\n",
      "('000301', '95707-0', 'GABRIELA GUADALUPE', 'REYES MAGAÑA')\n",
      "('050004', '19635591-K', 'NICOLAS', 'RODRIGUEZ ARNOLDS')\n",
      "('050004', '19688168-9', 'PAULO ALEJANDRO', 'ROSALES CORREA')\n",
      "('000302', '95526-4', 'GERARDO JOSÉ', 'SEMINARIO LA TORRE')\n",
      "('050004', '19792621-K', 'ALINE PAZ', 'VINESES MEDINA')\n"
     ]
    }
   ],
   "source": [
    "#leemos archivo de otra carpeta\n",
    "archivo = open('../clase04_20180821/nombres.txt', 'r', encoding='utf-8')\n",
    "\n",
    "cols = archivo.readline()\n",
    "\n",
    "data_nombres = []\n",
    "\n",
    "for line in archivo:\n",
    "    num, rut, apellido, nombre, curr = line.strip().split('\\t')\n",
    "    \n",
    "    data_nombres.append( (curr, rut, nombre, apellido) )\n",
    "\n",
    "archivo.close()\n",
    "\n",
    "for data in data_nombres:\n",
    "    print(data)"
   ]
  },
  {
   "cell_type": "code",
   "execution_count": 31,
   "metadata": {},
   "outputs": [
    {
     "name": "stdout",
     "output_type": "stream",
     "text": [
      "['050004', '000301', '000302']\n",
      "[('050004', 12), ('000301', 3), ('000302', 3)]\n"
     ]
    }
   ],
   "source": [
    "curriculos = []\n",
    "\n",
    "for cur, rut, nom, ape in data_nombres:\n",
    "    if cur in curriculos:\n",
    "        pass\n",
    "    else:\n",
    "        curriculos.append(cur)\n",
    "\n",
    "print(curriculos)\n",
    "\n",
    "lista_contadores = []\n",
    "\n",
    "for cur_guardado in curriculos:\n",
    "    i = 0\n",
    "    for cur, rut, nom, ape in data_nombres:\n",
    "        if cur == cur_guardado:\n",
    "            i = i + 1\n",
    "            \n",
    "    lista_contadores.append((cur_guardado, i))\n",
    "\n",
    "print(lista_contadores)"
   ]
  },
  {
   "cell_type": "code",
   "execution_count": 28,
   "metadata": {},
   "outputs": [
    {
     "data": {
      "text/plain": [
       "[0, 0, 0]"
      ]
     },
     "execution_count": 28,
     "metadata": {},
     "output_type": "execute_result"
    }
   ],
   "source": [
    "\n",
    "lista_contadores = [0]*len(curriculos)\n",
    "lista_contadores"
   ]
  },
  {
   "cell_type": "code",
   "execution_count": null,
   "metadata": {},
   "outputs": [],
   "source": [
    "for rut_alumno, nombre_alumno, apellido_alumno in data_nombres:\n",
    "    \n",
    "    if 'AU' in nombre_alumno:\n",
    "        print(rut_alumno, nombre_alumno, apellido_alumno)"
   ]
  },
  {
   "cell_type": "code",
   "execution_count": 17,
   "metadata": {},
   "outputs": [
    {
     "ename": "TypeError",
     "evalue": "'tuple' object does not support item assignment",
     "output_type": "error",
     "traceback": [
      "\u001b[0;31m---------------------------------------------------------------------------\u001b[0m",
      "\u001b[0;31mTypeError\u001b[0m                                 Traceback (most recent call last)",
      "\u001b[0;32m<ipython-input-17-41479d08e98f>\u001b[0m in \u001b[0;36m<module>\u001b[0;34m()\u001b[0m\n\u001b[1;32m      1\u001b[0m \u001b[1;32mfor\u001b[0m \u001b[0mdata\u001b[0m \u001b[1;32min\u001b[0m \u001b[0mdata_nombres\u001b[0m\u001b[1;33m:\u001b[0m\u001b[1;33m\u001b[0m\u001b[0m\n\u001b[0;32m----> 2\u001b[0;31m     \u001b[0mdata\u001b[0m\u001b[1;33m[\u001b[0m\u001b[1;36m1\u001b[0m\u001b[1;33m]\u001b[0m \u001b[1;33m=\u001b[0m \u001b[0mdata\u001b[0m\u001b[1;33m[\u001b[0m\u001b[1;36m1\u001b[0m\u001b[1;33m]\u001b[0m\u001b[1;33m.\u001b[0m\u001b[0mlower\u001b[0m\u001b[1;33m(\u001b[0m\u001b[1;33m)\u001b[0m\u001b[1;33m\u001b[0m\u001b[0m\n\u001b[0m\u001b[1;32m      3\u001b[0m \u001b[1;33m\u001b[0m\u001b[0m\n\u001b[1;32m      4\u001b[0m \u001b[1;33m\u001b[0m\u001b[0m\n\u001b[1;32m      5\u001b[0m \u001b[0mprint\u001b[0m\u001b[1;33m(\u001b[0m\u001b[0mdata_nombres\u001b[0m\u001b[1;33m)\u001b[0m\u001b[1;33m\u001b[0m\u001b[0m\n",
      "\u001b[0;31mTypeError\u001b[0m: 'tuple' object does not support item assignment"
     ]
    }
   ],
   "source": [
    "for data in data_nombres:\n",
    "    data[1] = data[1].lower()\n",
    "\n",
    "\n",
    "print(data_nombres)"
   ]
  },
  {
   "cell_type": "markdown",
   "metadata": {},
   "source": [
    "### Strings y listas\n",
    "\n",
    "Ya vimos strings anteriormente. Solo queria mencionar aqui que la implimentación de strings en Python (y en otros lenguajes) es muy similar a la implementación de listas.\n",
    "\n",
    "Por eso en Python podemos hacer \"slicing\" sobre strings de la misma manera que lo hacemos sobre listas. Pero hay otras operaciones que no están permitidas (como cambiar items). En ese sentido, son más parecidos a tuplas.\n"
   ]
  },
  {
   "cell_type": "code",
   "execution_count": 20,
   "metadata": {},
   "outputs": [
    {
     "name": "stdout",
     "output_type": "stream",
     "text": [
      "Hola como estas\n",
      "Hela ceme estas\n"
     ]
    }
   ],
   "source": [
    "s = 'Hola como estas'\n",
    "\n",
    "s[3:9]\n",
    "\n",
    "\n",
    "a = s\n",
    "\n",
    "s = s.replace('o', 'e')\n",
    "\n",
    "print(a)\n",
    "print(s)\n"
   ]
  },
  {
   "cell_type": "markdown",
   "metadata": {},
   "source": [
    "La siguiente es una función de variables string, que se utiliza con listas:\n",
    "- str.join(l1): une los elementos de l1 con el string determinado"
   ]
  },
  {
   "cell_type": "code",
   "execution_count": null,
   "metadata": {},
   "outputs": [],
   "source": [
    "print('h'.join(l2))"
   ]
  },
  {
   "cell_type": "markdown",
   "metadata": {},
   "source": [
    "## Diccionarios\n",
    "\n",
    "Los diccionarios son estructuras de datos que también están indexadas (como las listas están de 0 a N-1), pero el índice en los diccionarios no necesariamente sigue un orden definido."
   ]
  },
  {
   "cell_type": "code",
   "execution_count": 38,
   "metadata": {},
   "outputs": [
    {
     "name": "stdout",
     "output_type": "stream",
     "text": [
      "{'diego': 4, 'juan': 8, 'pedro': 'hola', 49: 'hola2', 'maria': 7, 'elisa': 8}\n"
     ]
    }
   ],
   "source": [
    "d = {'maria': 7 , \n",
    "     'juan': 8, \n",
    "     'elisa': 8, \n",
    "     'diego': 4, \n",
    "     'pedro': 'hola',\n",
    "    49 : 'hola2'}\n",
    "\n",
    "print(d)\n"
   ]
  },
  {
   "cell_type": "code",
   "execution_count": 43,
   "metadata": {
    "collapsed": true
   },
   "outputs": [],
   "source": [
    "d['nico'] = 7"
   ]
  },
  {
   "cell_type": "code",
   "execution_count": 44,
   "metadata": {},
   "outputs": [
    {
     "data": {
      "text/plain": [
       "{'diego': 4,\n",
       " 'juan': 8,\n",
       " 'pedro': 'hola',\n",
       " 49: 'hola2',\n",
       " 'maria': 7,\n",
       " 'elisa': 8,\n",
       " 'nico': 7,\n",
       " 'miguel': 0}"
      ]
     },
     "execution_count": 44,
     "metadata": {},
     "output_type": "execute_result"
    }
   ],
   "source": [
    "d"
   ]
  },
  {
   "cell_type": "code",
   "execution_count": 39,
   "metadata": {},
   "outputs": [
    {
     "data": {
      "text/plain": [
       "'hola2'"
      ]
     },
     "execution_count": 39,
     "metadata": {},
     "output_type": "execute_result"
    }
   ],
   "source": [
    "d[49]"
   ]
  },
  {
   "cell_type": "code",
   "execution_count": 35,
   "metadata": {},
   "outputs": [
    {
     "data": {
      "text/plain": [
       "5"
      ]
     },
     "execution_count": 35,
     "metadata": {},
     "output_type": "execute_result"
    }
   ],
   "source": [
    "len(d)"
   ]
  },
  {
   "cell_type": "markdown",
   "metadata": {},
   "source": [
    "La gran ventaja de usar diccionarios es que nos permite encontrar valores que no tienen un orden lógico, de una manera rápida"
   ]
  },
  {
   "cell_type": "code",
   "execution_count": null,
   "metadata": {},
   "outputs": [],
   "source": [
    "# busqueda de datos con listas:\n",
    "\n",
    "data = [('juan', 5), ('maria', 6), ('pedro', 3), ('sofia', 7)]\n",
    "\n",
    "#cual es la nota de pedro?\n",
    "\n",
    "nom_buscado = 'pedro'\n",
    "\n",
    "for nombre, nota in data:\n",
    "    if nombre == nom_buscado:\n",
    "        print(nota)\n",
    "        "
   ]
  },
  {
   "cell_type": "code",
   "execution_count": null,
   "metadata": {},
   "outputs": [],
   "source": [
    "# busqueda con diccionarios\n",
    "\n",
    "data = {'juan': 5, 'maria': 6, 'pedro': 3, 'sofia': 7}\n",
    "\n",
    "print(data[nom_buscado])"
   ]
  },
  {
   "cell_type": "markdown",
   "metadata": {},
   "source": [
    "** Ejercicio: buscar número de estudiantes por currículo **"
   ]
  },
  {
   "cell_type": "code",
   "execution_count": 46,
   "metadata": {},
   "outputs": [
    {
     "name": "stdout",
     "output_type": "stream",
     "text": [
      "{'000302': 3, '000301': 3, '050004': 12}\n"
     ]
    }
   ],
   "source": [
    "curriculos = {}\n",
    "\n",
    "for cur, rut, nom, ape in data_nombres:\n",
    "    \n",
    "    if cur not in curriculos:\n",
    "        curriculos[cur] = 1\n",
    "    else:\n",
    "        curriculos[cur] = curriculos[cur] + 1\n",
    "        \n",
    "print(curriculos)"
   ]
  },
  {
   "cell_type": "markdown",
   "metadata": {},
   "source": [
    "qué podemos usar cómo índices (keys)? --> cualquier cosa que sea inmutable (o sea, no podemos usar listas), y \"hashable\"\n",
    "\n",
    "en español, se recomienda usar strings, números o tuplas "
   ]
  },
  {
   "cell_type": "code",
   "execution_count": null,
   "metadata": {},
   "outputs": [],
   "source": [
    "# cuidado con ocupar floats...\n",
    "\n",
    "diccionario = {}\n",
    "\n",
    "diccionario[1-0.9] = 'datos valiosos'\n",
    "\n",
    "print(diccionario[0.1])"
   ]
  }
 ],
 "metadata": {
  "anaconda-cloud": {},
  "kernelspec": {
   "display_name": "Python 3",
   "language": "python",
   "name": "python3"
  },
  "language_info": {
   "codemirror_mode": {
    "name": "ipython",
    "version": 3
   },
   "file_extension": ".py",
   "mimetype": "text/x-python",
   "name": "python",
   "nbconvert_exporter": "python",
   "pygments_lexer": "ipython3",
   "version": "3.6.6"
  }
 },
 "nbformat": 4,
 "nbformat_minor": 2
}
