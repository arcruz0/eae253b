{
 "cells": [
  {
   "cell_type": "markdown",
   "metadata": {},
   "source": [
    "# 2018-09-06 (Jueves)\n",
    "\n",
    "## Descarga datos Casen 2017\n",
    "\n",
    "http://observatorio.ministeriodesarrollosocial.gob.cl/casen-multidimensional/casen/basedatos.php\n",
    "\n",
    "## Tarea 3, entrega 4 de octubre\n",
    "\n",
    "## NLP -- revisar clase pasada\n",
    "\n",
    "---\n",
    "\n",
    "## Que estamos haciendo?\n"
   ]
  },
  {
   "cell_type": "markdown",
   "metadata": {},
   "source": [
    "## Bases de datos\n",
    "\n",
    "Lo que usualmente entendemos por \"base de datos\" es un objeto que tiene filas (registros) y columnas (variables). Cada fila, en este paradigma, es un conjunto de información referida a algún registro único.\n",
    "\n",
    "Existen bases de datos más complejas, que nos permiten almacenar y administrar datos basados en relaciones de distintos tipos de registros (\"Relational Model\"). En las siguientes clases veremos un poco más sobre esto."
   ]
  },
  {
   "cell_type": "markdown",
   "metadata": {
    "collapsed": true
   },
   "source": [
    "### Bases de datos en Python\n",
    "\n",
    "Ya trabajamos con algunas estructuras de datos básicas en python (listas, tuplas, diccionarios), pero dichas estructuras no nos permiten realizar operaciones que comúnmente quisieramos hacer con los datos, por ejemplo:\n",
    "- Análisis de subconjuntos de datos\n",
    "- Estadísticas o tablas resúmen\n",
    "- Gráficos\n",
    "\n",
    "Para facilitar lo anterior, utilizaremos una librería muy potente de Python llamada \"Pandas\"."
   ]
  },
  {
   "cell_type": "markdown",
   "metadata": {},
   "source": [
    "## Pandas"
   ]
  },
  {
   "cell_type": "code",
   "execution_count": 2,
   "metadata": {},
   "outputs": [
    {
     "data": {
      "text/html": [
       "<div>\n",
       "<style scoped>\n",
       "    .dataframe tbody tr th:only-of-type {\n",
       "        vertical-align: middle;\n",
       "    }\n",
       "\n",
       "    .dataframe tbody tr th {\n",
       "        vertical-align: top;\n",
       "    }\n",
       "\n",
       "    .dataframe thead th {\n",
       "        text-align: right;\n",
       "    }\n",
       "</style>\n",
       "<table border=\"1\" class=\"dataframe\">\n",
       "  <thead>\n",
       "    <tr style=\"text-align: right;\">\n",
       "      <th></th>\n",
       "      <th>0</th>\n",
       "      <th>1</th>\n",
       "      <th>2</th>\n",
       "    </tr>\n",
       "  </thead>\n",
       "  <tbody>\n",
       "    <tr>\n",
       "      <th>0</th>\n",
       "      <td>10</td>\n",
       "      <td>20</td>\n",
       "      <td>15</td>\n",
       "    </tr>\n",
       "    <tr>\n",
       "      <th>1</th>\n",
       "      <td>30</td>\n",
       "      <td>40</td>\n",
       "      <td>5</td>\n",
       "    </tr>\n",
       "  </tbody>\n",
       "</table>\n",
       "</div>"
      ],
      "text/plain": [
       "    0   1   2\n",
       "0  10  20  15\n",
       "1  30  40   5"
      ]
     },
     "execution_count": 2,
     "metadata": {},
     "output_type": "execute_result"
    }
   ],
   "source": [
    "#importamos la librería pandas, asignandole el nombre \"pd\", sólo para facilitar el uso de la librería\n",
    "import pandas as pd\n",
    "\n",
    "df = pd.DataFrame([(10, 20, 15), (30, 40, 5)])\n",
    "\n",
    "df\n"
   ]
  },
  {
   "cell_type": "code",
   "execution_count": 3,
   "metadata": {},
   "outputs": [
    {
     "name": "stdout",
     "output_type": "stream",
     "text": [
      "Este dataframe tiene\n",
      "2 filas\n",
      "3 columnas\n"
     ]
    }
   ],
   "source": [
    "print('Este dataframe tiene')\n",
    "\n",
    "print(len(df), 'filas')\n",
    "\n",
    "print(len(df.columns), 'columnas')\n"
   ]
  },
  {
   "cell_type": "code",
   "execution_count": 4,
   "metadata": {},
   "outputs": [
    {
     "name": "stdout",
     "output_type": "stream",
     "text": [
      "    0   1   2\n",
      "0  10  20  15\n",
      "1  30  40   5\n"
     ]
    },
    {
     "data": {
      "text/html": [
       "<div>\n",
       "<style scoped>\n",
       "    .dataframe tbody tr th:only-of-type {\n",
       "        vertical-align: middle;\n",
       "    }\n",
       "\n",
       "    .dataframe tbody tr th {\n",
       "        vertical-align: top;\n",
       "    }\n",
       "\n",
       "    .dataframe thead th {\n",
       "        text-align: right;\n",
       "    }\n",
       "</style>\n",
       "<table border=\"1\" class=\"dataframe\">\n",
       "  <thead>\n",
       "    <tr style=\"text-align: right;\">\n",
       "      <th></th>\n",
       "      <th>0</th>\n",
       "      <th>1</th>\n",
       "      <th>2</th>\n",
       "    </tr>\n",
       "  </thead>\n",
       "  <tbody>\n",
       "    <tr>\n",
       "      <th>0</th>\n",
       "      <td>10</td>\n",
       "      <td>20</td>\n",
       "      <td>15</td>\n",
       "    </tr>\n",
       "    <tr>\n",
       "      <th>1</th>\n",
       "      <td>30</td>\n",
       "      <td>40</td>\n",
       "      <td>5</td>\n",
       "    </tr>\n",
       "  </tbody>\n",
       "</table>\n",
       "</div>"
      ],
      "text/plain": [
       "    0   1   2\n",
       "0  10  20  15\n",
       "1  30  40   5"
      ]
     },
     "metadata": {},
     "output_type": "display_data"
    }
   ],
   "source": [
    "# para poder \"imprimir\" un dataframe, es mejor ocupar \"display\"\n",
    "\n",
    "print(df)\n",
    "\n",
    "from IPython.display import display\n",
    "\n",
    "display(df)"
   ]
  },
  {
   "cell_type": "markdown",
   "metadata": {},
   "source": [
    "## Objetos importantes de la librería Pandas\n",
    "\n",
    "### 1. \"Series\"\n",
    "\n",
    "Es la \"base de datos\" más simple de Pandas. Una serie puede ser entendida como un vector de datos (1 dimensión). En general no trabajamos directamente con objetos \"Series\", sino que accedemos a ellos a través de \"DataFrames\".\n",
    "\n",
    "\n",
    "### 2. \"DataFrame\"\n",
    "\n",
    "Un objeto más potente de datos son los \"DataFrame\". Este objeto es muy similar a lo que entendemos nosotros por \"base de datos\", donde tenemos N filas y K columnas. Cada columna en este objeto es un objeto \"Serie\".\n",
    "\n",
    "Para realizar operaciones sobre las columnas:\n",
    "- En ciertos casos, lo podremos hacer para muchas columnas de un DataFrame\n",
    "- Podemos hacerlo columna por columna, trabajando con atributos y métodos disponibles en el objeto \"Serie\".\n",
    "\n",
    "*Documentación sobre atributos y métodos de DataFrames: https://pandas.pydata.org/pandas-docs/stable/generated/pandas.DataFrame.html*\n",
    "\n",
    "*Documentación sobre atributos y métodos de Series: https://pandas.pydata.org/pandas-docs/stable/generated/pandas.Series.html*\n",
    "\n",
    "\n",
    "### 3. \"GroupBy\"\n",
    "\n",
    "Un objeto \"GroupBy\" es un objeto \"intermedio\", que construimos desde una base de datos \"desagrupada\" y nos permite crear bases de datos \"agrupadas\", según las reglas agrupación que definamos.\n",
    "\n",
    "Documentación completa aquí: http://pandas.pydata.org/pandas-docs/stable/groupby.html\n",
    "\n",
    "Funciones disponibles: http://pandas.pydata.org/pandas-docs/stable/api.html?highlight=groupby#groupby\n",
    "\n",
    "### 4. \"MultiIndex\"\n",
    "\n",
    "Este es un objeto un poco más complejo de datos, donde los índices, tanto de filas como de columnas, pueden tener múltiples \"niveles\". No utilizaremos este objeto por ahora."
   ]
  },
  {
   "cell_type": "markdown",
   "metadata": {},
   "source": [
    "## Ejemplo 1. Carga de datos desde Stata\n",
    "\n",
    "Lea los datos de la Casen 2017, y calcule el promedio (simple) de ingreso del hogar (ytoth).\n",
    "\n",
    "** Antes de comenzar **\n",
    "\n",
    "- Funciones para leer datos:\n",
    "    - read_stata: https://pandas.pydata.org/pandas-docs/stable/generated/pandas.read_stata.html\n",
    "    - read_excel: https://pandas.pydata.org/pandas-docs/stable/generated/pandas.read_excel.html\n",
    "    - read_csv: https://pandas.pydata.org/pandas-docs/stable/generated/pandas.read_csv.html\n",
    "    - read_sql: https://pandas.pydata.org/pandas-docs/stable/generated/pandas.read_sql.html\n"
   ]
  },
  {
   "cell_type": "code",
   "execution_count": 11,
   "metadata": {
    "collapsed": true
   },
   "outputs": [],
   "source": [
    "# lectura información: función \"read_stata\"\n",
    "\n",
    "#lectura desde Stata es lenta...\n",
    "df_casen = pd.read_stata(r'C:\\Users\\calvarad\\Sync\\Clase Data Science\\Datos\\casen_2017_stata\\Casen 2017.dta', convert_categoricals=False)"
   ]
  },
  {
   "cell_type": "code",
   "execution_count": 7,
   "metadata": {},
   "outputs": [
    {
     "data": {
      "text/plain": [
       "1099657.9843651098"
      ]
     },
     "execution_count": 7,
     "metadata": {},
     "output_type": "execute_result"
    }
   ],
   "source": [
    "# podemos acceder a las columnas del dataframe como si fueran \"atributos\" del DataFrame\n",
    "ingreso = \n",
    "\n",
    "ingreso.mean()"
   ]
  },
  {
   "cell_type": "markdown",
   "metadata": {},
   "source": [
    "** Quiz: que tipo de objeto es \"ingreso\" **"
   ]
  },
  {
   "cell_type": "markdown",
   "metadata": {},
   "source": [
    "## Ejemplo 2. Creación de un DataFrame desde Python\n",
    "\n",
    "Carguemos los datos de lista de alumnos (clase X) y guardemoslos en un DataFrame"
   ]
  },
  {
   "cell_type": "code",
   "execution_count": 5,
   "metadata": {},
   "outputs": [
    {
     "name": "stdout",
     "output_type": "stream",
     "text": [
      "('1', '19732761-8', 'ABURTO ABURTO', 'MAURICIO HERNÁN', '050004')\n",
      "('2', '18935035-K', 'ALDUNATE BARROS', 'MATÍAS', '050004')\n",
      "('3', '19828661-3', 'BARRERA ABARCA', 'MAURICIO JAIR', '050004')\n",
      "('4', '19672788-4', 'BULNES ZAÑARTU', 'MARIA ANTONIA', '050004')\n",
      "('5', '95404-7', 'CORNEJO ARIAS', 'DAVID ROLANDO', '000301')\n",
      "('6', '95506-K', 'ESCOBAR MADRID', 'RAMÓN ALBERTO', '000301')\n",
      "('7', '19133672-0', 'GARCIA HOFFMANN', 'GONZALO ALONSO', '050004')\n",
      "('8', '19741184-8', 'HURTADO CONTRERAS', 'CAMILA CONSTANZA', '050004')\n",
      "('9', '95521-3', 'KASKE', 'AURELIEN', '000302')\n",
      "('10', '19080962-5', 'MARISCAL BRESLER', 'VICENTE', '050004')\n",
      "('11', '19636956-2', 'PASTEN PARDO', 'NICOLAS RODRIGO', '050004')\n",
      "('12', '95657-0', 'QUINTERO MARTINEZ', 'MIGUEL ANGEL', '000302')\n",
      "('13', '19685544-0', 'RAFOLS VALENZUELA', 'MARTIN', '050004')\n",
      "('14', '95707-0', 'REYES MAGAÑA', 'GABRIELA GUADALUPE', '000301')\n",
      "('15', '19635591-K', 'RODRIGUEZ ARNOLDS', 'NICOLAS', '050004')\n",
      "('16', '19688168-9', 'ROSALES CORREA', 'PAULO ALEJANDRO', '050004')\n",
      "('17', '95526-4', 'SEMINARIO LA TORRE', 'GERARDO JOSÉ', '000302')\n",
      "('18', '19792621-K', 'VINESES MEDINA', 'ALINE PAZ', '050004')\n"
     ]
    }
   ],
   "source": [
    "# codigo copiado desde clase 4 (lee lista de alumnos del curso)\n",
    "\n",
    "#leemos archivo de otra carpeta\n",
    "archivo = open('../clase4_20180821/nombres.txt', 'r', encoding='utf-8')\n",
    "\n",
    "cols = archivo.readline()\n",
    "\n",
    "data_nombres = []\n",
    "for line in archivo:\n",
    "    num, rut, ape, nom, cur = line.strip().split('\\t')\n",
    "    data_nombres.append((num, rut, ape, nom, cur))\n",
    "\n",
    "archivo.close()\n",
    "\n",
    "for tupla in data_nombres:\n",
    "    print(tupla)\n"
   ]
  },
  {
   "cell_type": "code",
   "execution_count": null,
   "metadata": {
    "collapsed": true
   },
   "outputs": [],
   "source": [
    "#pero mejor ocupemos pandas!\n",
    "\n",
    "df_nombres = pd.DataFrame(data_nombres)\n",
    "df_nombres"
   ]
  },
  {
   "cell_type": "markdown",
   "metadata": {},
   "source": [
    "## Ejemplo 3. Manipulacion basica de DataFrames"
   ]
  },
  {
   "cell_type": "code",
   "execution_count": 8,
   "metadata": {},
   "outputs": [
    {
     "data": {
      "text/html": [
       "<div>\n",
       "<table border=\"1\" class=\"dataframe\">\n",
       "  <thead>\n",
       "    <tr style=\"text-align: right;\">\n",
       "      <th></th>\n",
       "      <th>folio</th>\n",
       "      <th>o</th>\n",
       "      <th>id_vivienda</th>\n",
       "      <th>hogar</th>\n",
       "      <th>region</th>\n",
       "      <th>provincia</th>\n",
       "      <th>comuna</th>\n",
       "      <th>zona</th>\n",
       "      <th>expr</th>\n",
       "      <th>expc</th>\n",
       "      <th>...</th>\n",
       "      <th>hh_d_estado</th>\n",
       "      <th>hh_d_servbas</th>\n",
       "      <th>hh_d_entorno</th>\n",
       "      <th>hh_d_accesi</th>\n",
       "      <th>hh_d_medio</th>\n",
       "      <th>hh_d_appart</th>\n",
       "      <th>hh_d_tsocial</th>\n",
       "      <th>hh_d_seg</th>\n",
       "      <th>pobreza_multi_4d</th>\n",
       "      <th>pobreza_multi_5d</th>\n",
       "    </tr>\n",
       "  </thead>\n",
       "  <tbody>\n",
       "    <tr>\n",
       "      <th>1</th>\n",
       "      <td>1.101100e+11</td>\n",
       "      <td>1.0</td>\n",
       "      <td>1.101100e+09</td>\n",
       "      <td>1.0</td>\n",
       "      <td>1.0</td>\n",
       "      <td>11.0</td>\n",
       "      <td>1101.0</td>\n",
       "      <td>1.0</td>\n",
       "      <td>39.0</td>\n",
       "      <td>33.0</td>\n",
       "      <td>...</td>\n",
       "      <td>1.0</td>\n",
       "      <td>0.0</td>\n",
       "      <td>0.0</td>\n",
       "      <td>0.0</td>\n",
       "      <td>0.0</td>\n",
       "      <td>0.0</td>\n",
       "      <td>0.0</td>\n",
       "      <td>0.0</td>\n",
       "      <td>1.0</td>\n",
       "      <td>1.0</td>\n",
       "    </tr>\n",
       "    <tr>\n",
       "      <th>2</th>\n",
       "      <td>1.101100e+11</td>\n",
       "      <td>1.0</td>\n",
       "      <td>1.101100e+09</td>\n",
       "      <td>1.0</td>\n",
       "      <td>1.0</td>\n",
       "      <td>11.0</td>\n",
       "      <td>1101.0</td>\n",
       "      <td>1.0</td>\n",
       "      <td>39.0</td>\n",
       "      <td>33.0</td>\n",
       "      <td>...</td>\n",
       "      <td>1.0</td>\n",
       "      <td>0.0</td>\n",
       "      <td>1.0</td>\n",
       "      <td>0.0</td>\n",
       "      <td>1.0</td>\n",
       "      <td>0.0</td>\n",
       "      <td>1.0</td>\n",
       "      <td>1.0</td>\n",
       "      <td>NaN</td>\n",
       "      <td>NaN</td>\n",
       "    </tr>\n",
       "  </tbody>\n",
       "</table>\n",
       "<p>2 rows × 804 columns</p>\n",
       "</div>"
      ],
      "text/plain": [
       "          folio    o   id_vivienda  hogar  region  provincia  comuna  zona  \\\n",
       "1  1.101100e+11  1.0  1.101100e+09    1.0     1.0       11.0  1101.0   1.0   \n",
       "2  1.101100e+11  1.0  1.101100e+09    1.0     1.0       11.0  1101.0   1.0   \n",
       "\n",
       "   expr  expc        ...         hh_d_estado  hh_d_servbas  hh_d_entorno  \\\n",
       "1  39.0  33.0        ...                 1.0           0.0           0.0   \n",
       "2  39.0  33.0        ...                 1.0           0.0           1.0   \n",
       "\n",
       "   hh_d_accesi  hh_d_medio  hh_d_appart  hh_d_tsocial  hh_d_seg  \\\n",
       "1          0.0         0.0          0.0           0.0       0.0   \n",
       "2          0.0         1.0          0.0           1.0       1.0   \n",
       "\n",
       "   pobreza_multi_4d  pobreza_multi_5d  \n",
       "1               1.0               1.0  \n",
       "2               NaN               NaN  \n",
       "\n",
       "[2 rows x 804 columns]"
      ]
     },
     "execution_count": 8,
     "metadata": {},
     "output_type": "execute_result"
    }
   ],
   "source": [
    "#seleccionar ciertas filas, segun numero de fila\n",
    "\n",
    "df_casen[1:3]\n",
    "\n"
   ]
  },
  {
   "cell_type": "code",
   "execution_count": 25,
   "metadata": {},
   "outputs": [
    {
     "data": {
      "text/html": [
       "<div>\n",
       "<table border=\"1\" class=\"dataframe\">\n",
       "  <thead>\n",
       "    <tr style=\"text-align: right;\">\n",
       "      <th></th>\n",
       "      <th>folio</th>\n",
       "      <th>o</th>\n",
       "      <th>id_vivienda</th>\n",
       "      <th>hogar</th>\n",
       "      <th>region</th>\n",
       "      <th>provincia</th>\n",
       "      <th>comuna</th>\n",
       "      <th>zona</th>\n",
       "      <th>expr</th>\n",
       "      <th>expc</th>\n",
       "      <th>...</th>\n",
       "      <th>hh_d_estado</th>\n",
       "      <th>hh_d_servbas</th>\n",
       "      <th>hh_d_entorno</th>\n",
       "      <th>hh_d_accesi</th>\n",
       "      <th>hh_d_medio</th>\n",
       "      <th>hh_d_appart</th>\n",
       "      <th>hh_d_tsocial</th>\n",
       "      <th>hh_d_seg</th>\n",
       "      <th>pobreza_multi_4d</th>\n",
       "      <th>pobreza_multi_5d</th>\n",
       "    </tr>\n",
       "  </thead>\n",
       "  <tbody>\n",
       "    <tr>\n",
       "      <th>1</th>\n",
       "      <td>1.101100e+11</td>\n",
       "      <td>1.0</td>\n",
       "      <td>1.101100e+09</td>\n",
       "      <td>1.0</td>\n",
       "      <td>1.0</td>\n",
       "      <td>11.0</td>\n",
       "      <td>1101.0</td>\n",
       "      <td>1.0</td>\n",
       "      <td>39.0</td>\n",
       "      <td>33.0</td>\n",
       "      <td>...</td>\n",
       "      <td>1.0</td>\n",
       "      <td>0.0</td>\n",
       "      <td>0.0</td>\n",
       "      <td>0.0</td>\n",
       "      <td>0.0</td>\n",
       "      <td>0.0</td>\n",
       "      <td>0.0</td>\n",
       "      <td>0.0</td>\n",
       "      <td>1.0</td>\n",
       "      <td>1.0</td>\n",
       "    </tr>\n",
       "    <tr>\n",
       "      <th>2</th>\n",
       "      <td>1.101100e+11</td>\n",
       "      <td>1.0</td>\n",
       "      <td>1.101100e+09</td>\n",
       "      <td>1.0</td>\n",
       "      <td>1.0</td>\n",
       "      <td>11.0</td>\n",
       "      <td>1101.0</td>\n",
       "      <td>1.0</td>\n",
       "      <td>39.0</td>\n",
       "      <td>33.0</td>\n",
       "      <td>...</td>\n",
       "      <td>1.0</td>\n",
       "      <td>0.0</td>\n",
       "      <td>1.0</td>\n",
       "      <td>0.0</td>\n",
       "      <td>1.0</td>\n",
       "      <td>0.0</td>\n",
       "      <td>1.0</td>\n",
       "      <td>1.0</td>\n",
       "      <td>NaN</td>\n",
       "      <td>NaN</td>\n",
       "    </tr>\n",
       "  </tbody>\n",
       "</table>\n",
       "<p>2 rows × 804 columns</p>\n",
       "</div>"
      ],
      "text/plain": [
       "          folio    o   id_vivienda  hogar  region  provincia  comuna  zona  \\\n",
       "1  1.101100e+11  1.0  1.101100e+09    1.0     1.0       11.0  1101.0   1.0   \n",
       "2  1.101100e+11  1.0  1.101100e+09    1.0     1.0       11.0  1101.0   1.0   \n",
       "\n",
       "   expr  expc        ...         hh_d_estado  hh_d_servbas  hh_d_entorno  \\\n",
       "1  39.0  33.0        ...                 1.0           0.0           0.0   \n",
       "2  39.0  33.0        ...                 1.0           0.0           1.0   \n",
       "\n",
       "   hh_d_accesi  hh_d_medio  hh_d_appart  hh_d_tsocial  hh_d_seg  \\\n",
       "1          0.0         0.0          0.0           0.0       0.0   \n",
       "2          0.0         1.0          0.0           1.0       1.0   \n",
       "\n",
       "   pobreza_multi_4d  pobreza_multi_5d  \n",
       "1               1.0               1.0  \n",
       "2               NaN               NaN  \n",
       "\n",
       "[2 rows x 804 columns]"
      ]
     },
     "execution_count": 25,
     "metadata": {},
     "output_type": "execute_result"
    }
   ],
   "source": [
    "#tambien podemos usar la funcion \"iloc\"\n",
    "\n",
    "df_casen.iloc[1:3]"
   ]
  },
  {
   "cell_type": "code",
   "execution_count": 12,
   "metadata": {},
   "outputs": [
    {
     "data": {
      "text/html": [
       "<div>\n",
       "<table border=\"1\" class=\"dataframe\">\n",
       "  <thead>\n",
       "    <tr style=\"text-align: right;\">\n",
       "      <th></th>\n",
       "      <th>o</th>\n",
       "      <th>id_vivienda</th>\n",
       "    </tr>\n",
       "  </thead>\n",
       "  <tbody>\n",
       "    <tr>\n",
       "      <th>0</th>\n",
       "      <td>1.0</td>\n",
       "      <td>1.101100e+09</td>\n",
       "    </tr>\n",
       "    <tr>\n",
       "      <th>1</th>\n",
       "      <td>1.0</td>\n",
       "      <td>1.101100e+09</td>\n",
       "    </tr>\n",
       "    <tr>\n",
       "      <th>2</th>\n",
       "      <td>1.0</td>\n",
       "      <td>1.101100e+09</td>\n",
       "    </tr>\n",
       "    <tr>\n",
       "      <th>3</th>\n",
       "      <td>2.0</td>\n",
       "      <td>1.101100e+09</td>\n",
       "    </tr>\n",
       "    <tr>\n",
       "      <th>4</th>\n",
       "      <td>1.0</td>\n",
       "      <td>1.101100e+09</td>\n",
       "    </tr>\n",
       "    <tr>\n",
       "      <th>5</th>\n",
       "      <td>2.0</td>\n",
       "      <td>1.101100e+09</td>\n",
       "    </tr>\n",
       "    <tr>\n",
       "      <th>6</th>\n",
       "      <td>3.0</td>\n",
       "      <td>1.101100e+09</td>\n",
       "    </tr>\n",
       "    <tr>\n",
       "      <th>7</th>\n",
       "      <td>1.0</td>\n",
       "      <td>1.101100e+09</td>\n",
       "    </tr>\n",
       "    <tr>\n",
       "      <th>8</th>\n",
       "      <td>2.0</td>\n",
       "      <td>1.101100e+09</td>\n",
       "    </tr>\n",
       "    <tr>\n",
       "      <th>9</th>\n",
       "      <td>1.0</td>\n",
       "      <td>1.101100e+09</td>\n",
       "    </tr>\n",
       "    <tr>\n",
       "      <th>10</th>\n",
       "      <td>2.0</td>\n",
       "      <td>1.101100e+09</td>\n",
       "    </tr>\n",
       "    <tr>\n",
       "      <th>11</th>\n",
       "      <td>3.0</td>\n",
       "      <td>1.101100e+09</td>\n",
       "    </tr>\n",
       "    <tr>\n",
       "      <th>12</th>\n",
       "      <td>4.0</td>\n",
       "      <td>1.101100e+09</td>\n",
       "    </tr>\n",
       "    <tr>\n",
       "      <th>13</th>\n",
       "      <td>1.0</td>\n",
       "      <td>1.101100e+09</td>\n",
       "    </tr>\n",
       "    <tr>\n",
       "      <th>14</th>\n",
       "      <td>2.0</td>\n",
       "      <td>1.101100e+09</td>\n",
       "    </tr>\n",
       "    <tr>\n",
       "      <th>15</th>\n",
       "      <td>3.0</td>\n",
       "      <td>1.101100e+09</td>\n",
       "    </tr>\n",
       "    <tr>\n",
       "      <th>16</th>\n",
       "      <td>1.0</td>\n",
       "      <td>1.101100e+09</td>\n",
       "    </tr>\n",
       "    <tr>\n",
       "      <th>17</th>\n",
       "      <td>1.0</td>\n",
       "      <td>1.101100e+09</td>\n",
       "    </tr>\n",
       "    <tr>\n",
       "      <th>18</th>\n",
       "      <td>2.0</td>\n",
       "      <td>1.101100e+09</td>\n",
       "    </tr>\n",
       "    <tr>\n",
       "      <th>19</th>\n",
       "      <td>1.0</td>\n",
       "      <td>1.101100e+09</td>\n",
       "    </tr>\n",
       "    <tr>\n",
       "      <th>20</th>\n",
       "      <td>1.0</td>\n",
       "      <td>1.101100e+09</td>\n",
       "    </tr>\n",
       "    <tr>\n",
       "      <th>21</th>\n",
       "      <td>2.0</td>\n",
       "      <td>1.101100e+09</td>\n",
       "    </tr>\n",
       "    <tr>\n",
       "      <th>22</th>\n",
       "      <td>3.0</td>\n",
       "      <td>1.101100e+09</td>\n",
       "    </tr>\n",
       "    <tr>\n",
       "      <th>23</th>\n",
       "      <td>4.0</td>\n",
       "      <td>1.101100e+09</td>\n",
       "    </tr>\n",
       "    <tr>\n",
       "      <th>24</th>\n",
       "      <td>5.0</td>\n",
       "      <td>1.101100e+09</td>\n",
       "    </tr>\n",
       "    <tr>\n",
       "      <th>25</th>\n",
       "      <td>6.0</td>\n",
       "      <td>1.101100e+09</td>\n",
       "    </tr>\n",
       "    <tr>\n",
       "      <th>26</th>\n",
       "      <td>1.0</td>\n",
       "      <td>1.101100e+09</td>\n",
       "    </tr>\n",
       "    <tr>\n",
       "      <th>27</th>\n",
       "      <td>1.0</td>\n",
       "      <td>1.101100e+09</td>\n",
       "    </tr>\n",
       "    <tr>\n",
       "      <th>28</th>\n",
       "      <td>2.0</td>\n",
       "      <td>1.101100e+09</td>\n",
       "    </tr>\n",
       "    <tr>\n",
       "      <th>29</th>\n",
       "      <td>3.0</td>\n",
       "      <td>1.101100e+09</td>\n",
       "    </tr>\n",
       "    <tr>\n",
       "      <th>...</th>\n",
       "      <td>...</td>\n",
       "      <td>...</td>\n",
       "    </tr>\n",
       "    <tr>\n",
       "      <th>216409</th>\n",
       "      <td>3.0</td>\n",
       "      <td>1.520130e+10</td>\n",
       "    </tr>\n",
       "    <tr>\n",
       "      <th>216410</th>\n",
       "      <td>1.0</td>\n",
       "      <td>1.520130e+10</td>\n",
       "    </tr>\n",
       "    <tr>\n",
       "      <th>216411</th>\n",
       "      <td>1.0</td>\n",
       "      <td>1.520130e+10</td>\n",
       "    </tr>\n",
       "    <tr>\n",
       "      <th>216412</th>\n",
       "      <td>2.0</td>\n",
       "      <td>1.520130e+10</td>\n",
       "    </tr>\n",
       "    <tr>\n",
       "      <th>216413</th>\n",
       "      <td>3.0</td>\n",
       "      <td>1.520130e+10</td>\n",
       "    </tr>\n",
       "    <tr>\n",
       "      <th>216414</th>\n",
       "      <td>4.0</td>\n",
       "      <td>1.520130e+10</td>\n",
       "    </tr>\n",
       "    <tr>\n",
       "      <th>216415</th>\n",
       "      <td>5.0</td>\n",
       "      <td>1.520130e+10</td>\n",
       "    </tr>\n",
       "    <tr>\n",
       "      <th>216416</th>\n",
       "      <td>6.0</td>\n",
       "      <td>1.520130e+10</td>\n",
       "    </tr>\n",
       "    <tr>\n",
       "      <th>216417</th>\n",
       "      <td>7.0</td>\n",
       "      <td>1.520130e+10</td>\n",
       "    </tr>\n",
       "    <tr>\n",
       "      <th>216418</th>\n",
       "      <td>1.0</td>\n",
       "      <td>1.520130e+10</td>\n",
       "    </tr>\n",
       "    <tr>\n",
       "      <th>216419</th>\n",
       "      <td>2.0</td>\n",
       "      <td>1.520130e+10</td>\n",
       "    </tr>\n",
       "    <tr>\n",
       "      <th>216420</th>\n",
       "      <td>3.0</td>\n",
       "      <td>1.520130e+10</td>\n",
       "    </tr>\n",
       "    <tr>\n",
       "      <th>216421</th>\n",
       "      <td>4.0</td>\n",
       "      <td>1.520130e+10</td>\n",
       "    </tr>\n",
       "    <tr>\n",
       "      <th>216422</th>\n",
       "      <td>1.0</td>\n",
       "      <td>1.520130e+10</td>\n",
       "    </tr>\n",
       "    <tr>\n",
       "      <th>216423</th>\n",
       "      <td>1.0</td>\n",
       "      <td>1.520130e+10</td>\n",
       "    </tr>\n",
       "    <tr>\n",
       "      <th>216424</th>\n",
       "      <td>1.0</td>\n",
       "      <td>1.520130e+10</td>\n",
       "    </tr>\n",
       "    <tr>\n",
       "      <th>216425</th>\n",
       "      <td>1.0</td>\n",
       "      <td>1.520130e+10</td>\n",
       "    </tr>\n",
       "    <tr>\n",
       "      <th>216426</th>\n",
       "      <td>1.0</td>\n",
       "      <td>1.520130e+10</td>\n",
       "    </tr>\n",
       "    <tr>\n",
       "      <th>216427</th>\n",
       "      <td>2.0</td>\n",
       "      <td>1.520130e+10</td>\n",
       "    </tr>\n",
       "    <tr>\n",
       "      <th>216428</th>\n",
       "      <td>1.0</td>\n",
       "      <td>1.520130e+10</td>\n",
       "    </tr>\n",
       "    <tr>\n",
       "      <th>216429</th>\n",
       "      <td>2.0</td>\n",
       "      <td>1.520130e+10</td>\n",
       "    </tr>\n",
       "    <tr>\n",
       "      <th>216430</th>\n",
       "      <td>1.0</td>\n",
       "      <td>1.520130e+10</td>\n",
       "    </tr>\n",
       "    <tr>\n",
       "      <th>216431</th>\n",
       "      <td>2.0</td>\n",
       "      <td>1.520130e+10</td>\n",
       "    </tr>\n",
       "    <tr>\n",
       "      <th>216432</th>\n",
       "      <td>3.0</td>\n",
       "      <td>1.520130e+10</td>\n",
       "    </tr>\n",
       "    <tr>\n",
       "      <th>216433</th>\n",
       "      <td>1.0</td>\n",
       "      <td>1.520130e+10</td>\n",
       "    </tr>\n",
       "    <tr>\n",
       "      <th>216434</th>\n",
       "      <td>1.0</td>\n",
       "      <td>1.520130e+10</td>\n",
       "    </tr>\n",
       "    <tr>\n",
       "      <th>216435</th>\n",
       "      <td>2.0</td>\n",
       "      <td>1.520130e+10</td>\n",
       "    </tr>\n",
       "    <tr>\n",
       "      <th>216436</th>\n",
       "      <td>1.0</td>\n",
       "      <td>1.520130e+10</td>\n",
       "    </tr>\n",
       "    <tr>\n",
       "      <th>216437</th>\n",
       "      <td>2.0</td>\n",
       "      <td>1.520130e+10</td>\n",
       "    </tr>\n",
       "    <tr>\n",
       "      <th>216438</th>\n",
       "      <td>1.0</td>\n",
       "      <td>1.520130e+10</td>\n",
       "    </tr>\n",
       "  </tbody>\n",
       "</table>\n",
       "<p>216439 rows × 2 columns</p>\n",
       "</div>"
      ],
      "text/plain": [
       "          o   id_vivienda\n",
       "0       1.0  1.101100e+09\n",
       "1       1.0  1.101100e+09\n",
       "2       1.0  1.101100e+09\n",
       "3       2.0  1.101100e+09\n",
       "4       1.0  1.101100e+09\n",
       "5       2.0  1.101100e+09\n",
       "6       3.0  1.101100e+09\n",
       "7       1.0  1.101100e+09\n",
       "8       2.0  1.101100e+09\n",
       "9       1.0  1.101100e+09\n",
       "10      2.0  1.101100e+09\n",
       "11      3.0  1.101100e+09\n",
       "12      4.0  1.101100e+09\n",
       "13      1.0  1.101100e+09\n",
       "14      2.0  1.101100e+09\n",
       "15      3.0  1.101100e+09\n",
       "16      1.0  1.101100e+09\n",
       "17      1.0  1.101100e+09\n",
       "18      2.0  1.101100e+09\n",
       "19      1.0  1.101100e+09\n",
       "20      1.0  1.101100e+09\n",
       "21      2.0  1.101100e+09\n",
       "22      3.0  1.101100e+09\n",
       "23      4.0  1.101100e+09\n",
       "24      5.0  1.101100e+09\n",
       "25      6.0  1.101100e+09\n",
       "26      1.0  1.101100e+09\n",
       "27      1.0  1.101100e+09\n",
       "28      2.0  1.101100e+09\n",
       "29      3.0  1.101100e+09\n",
       "...     ...           ...\n",
       "216409  3.0  1.520130e+10\n",
       "216410  1.0  1.520130e+10\n",
       "216411  1.0  1.520130e+10\n",
       "216412  2.0  1.520130e+10\n",
       "216413  3.0  1.520130e+10\n",
       "216414  4.0  1.520130e+10\n",
       "216415  5.0  1.520130e+10\n",
       "216416  6.0  1.520130e+10\n",
       "216417  7.0  1.520130e+10\n",
       "216418  1.0  1.520130e+10\n",
       "216419  2.0  1.520130e+10\n",
       "216420  3.0  1.520130e+10\n",
       "216421  4.0  1.520130e+10\n",
       "216422  1.0  1.520130e+10\n",
       "216423  1.0  1.520130e+10\n",
       "216424  1.0  1.520130e+10\n",
       "216425  1.0  1.520130e+10\n",
       "216426  1.0  1.520130e+10\n",
       "216427  2.0  1.520130e+10\n",
       "216428  1.0  1.520130e+10\n",
       "216429  2.0  1.520130e+10\n",
       "216430  1.0  1.520130e+10\n",
       "216431  2.0  1.520130e+10\n",
       "216432  3.0  1.520130e+10\n",
       "216433  1.0  1.520130e+10\n",
       "216434  1.0  1.520130e+10\n",
       "216435  2.0  1.520130e+10\n",
       "216436  1.0  1.520130e+10\n",
       "216437  2.0  1.520130e+10\n",
       "216438  1.0  1.520130e+10\n",
       "\n",
       "[216439 rows x 2 columns]"
      ]
     },
     "execution_count": 12,
     "metadata": {},
     "output_type": "execute_result"
    }
   ],
   "source": [
    "#seleccionar ciertas columnas, segun \"numero\" de columna\n",
    "\n",
    "df_casen.iloc[:, 1:3]"
   ]
  },
  {
   "cell_type": "code",
   "execution_count": 20,
   "metadata": {},
   "outputs": [
    {
     "data": {
      "text/html": [
       "<div>\n",
       "<table border=\"1\" class=\"dataframe\">\n",
       "  <thead>\n",
       "    <tr style=\"text-align: right;\">\n",
       "      <th></th>\n",
       "      <th>provincia</th>\n",
       "      <th>zona</th>\n",
       "      <th>expc</th>\n",
       "    </tr>\n",
       "  </thead>\n",
       "  <tbody>\n",
       "    <tr>\n",
       "      <th>10</th>\n",
       "      <td>11.0</td>\n",
       "      <td>1.0</td>\n",
       "      <td>33.0</td>\n",
       "    </tr>\n",
       "    <tr>\n",
       "      <th>20</th>\n",
       "      <td>11.0</td>\n",
       "      <td>1.0</td>\n",
       "      <td>8.0</td>\n",
       "    </tr>\n",
       "    <tr>\n",
       "      <th>30</th>\n",
       "      <td>11.0</td>\n",
       "      <td>1.0</td>\n",
       "      <td>8.0</td>\n",
       "    </tr>\n",
       "  </tbody>\n",
       "</table>\n",
       "</div>"
      ],
      "text/plain": [
       "    provincia  zona  expc\n",
       "10       11.0   1.0  33.0\n",
       "20       11.0   1.0   8.0\n",
       "30       11.0   1.0   8.0"
      ]
     },
     "execution_count": 20,
     "metadata": {},
     "output_type": "execute_result"
    }
   ],
   "source": [
    "#iloc tambien sirve para filas.. \n",
    "\n",
    "#seleccione las filas 10, 20 y 30, para las columnas 5 7 y 9\n",
    "\n",
    "df_casen.iloc[[10, 20, 30], [5, 7, 9]]\n",
    "\n",
    "#uso general de iloc:   df.iloc[row_indexer,column_indexer]"
   ]
  },
  {
   "cell_type": "code",
   "execution_count": 19,
   "metadata": {},
   "outputs": [
    {
     "data": {
      "text/html": [
       "<div>\n",
       "<table border=\"1\" class=\"dataframe\">\n",
       "  <thead>\n",
       "    <tr style=\"text-align: right;\">\n",
       "      <th></th>\n",
       "      <th>provincia</th>\n",
       "      <th>zona</th>\n",
       "    </tr>\n",
       "  </thead>\n",
       "  <tbody>\n",
       "    <tr>\n",
       "      <th>10</th>\n",
       "      <td>11.0</td>\n",
       "      <td>1.0</td>\n",
       "    </tr>\n",
       "    <tr>\n",
       "      <th>20</th>\n",
       "      <td>11.0</td>\n",
       "      <td>1.0</td>\n",
       "    </tr>\n",
       "    <tr>\n",
       "      <th>30</th>\n",
       "      <td>11.0</td>\n",
       "      <td>1.0</td>\n",
       "    </tr>\n",
       "  </tbody>\n",
       "</table>\n",
       "</div>"
      ],
      "text/plain": [
       "    provincia  zona\n",
       "10       11.0   1.0\n",
       "20       11.0   1.0\n",
       "30       11.0   1.0"
      ]
     },
     "execution_count": 19,
     "metadata": {},
     "output_type": "execute_result"
    }
   ],
   "source": [
    "# un uso mas \"razonable\" es usar los nombres de los indices (no la posicion)\n",
    "\n",
    "df_casen.loc[[10, 20, 30], ['provincia', 'zona']]\n"
   ]
  },
  {
   "cell_type": "code",
   "execution_count": 21,
   "metadata": {},
   "outputs": [
    {
     "data": {
      "text/html": [
       "<div>\n",
       "<table border=\"1\" class=\"dataframe\">\n",
       "  <thead>\n",
       "    <tr style=\"text-align: right;\">\n",
       "      <th></th>\n",
       "      <th>region</th>\n",
       "      <th>ytoth</th>\n",
       "    </tr>\n",
       "  </thead>\n",
       "  <tbody>\n",
       "    <tr>\n",
       "      <th>0</th>\n",
       "      <td>1.0</td>\n",
       "      <td>250000.0</td>\n",
       "    </tr>\n",
       "    <tr>\n",
       "      <th>1</th>\n",
       "      <td>1.0</td>\n",
       "      <td>211091.0</td>\n",
       "    </tr>\n",
       "    <tr>\n",
       "      <th>2</th>\n",
       "      <td>1.0</td>\n",
       "      <td>593500.0</td>\n",
       "    </tr>\n",
       "    <tr>\n",
       "      <th>3</th>\n",
       "      <td>1.0</td>\n",
       "      <td>593500.0</td>\n",
       "    </tr>\n",
       "    <tr>\n",
       "      <th>4</th>\n",
       "      <td>1.0</td>\n",
       "      <td>341667.0</td>\n",
       "    </tr>\n",
       "  </tbody>\n",
       "</table>\n",
       "</div>"
      ],
      "text/plain": [
       "   region     ytoth\n",
       "0     1.0  250000.0\n",
       "1     1.0  211091.0\n",
       "2     1.0  593500.0\n",
       "3     1.0  593500.0\n",
       "4     1.0  341667.0"
      ]
     },
     "execution_count": 21,
     "metadata": {},
     "output_type": "execute_result"
    }
   ],
   "source": [
    "#Tambien podemos seleccionar columnas de una forma mas directa\n",
    "\n",
    "df_casen[['region', 'ytoth']].head()\n"
   ]
  },
  {
   "cell_type": "code",
   "execution_count": null,
   "metadata": {
    "collapsed": true
   },
   "outputs": [],
   "source": [
    "# y podemos seleccionar multiples Series con algun criterio particular\n",
    "\n",
    "#por ej, aqui seleccionamos las columnas cuyo nombre parta con \"yt\"\n",
    "\n",
    "#primero creamos una lista con los nombres que nos interesan\n",
    "sel_cols = [y for y in df_casen.columns if y.startswith('yt')]\n",
    "\n",
    "#seleccionamos las columnas correspondientes a esos nombres\n",
    "df_casen[sel_cols].describe()"
   ]
  },
  {
   "cell_type": "code",
   "execution_count": 22,
   "metadata": {},
   "outputs": [
    {
     "data": {
      "text/html": [
       "<div>\n",
       "<table border=\"1\" class=\"dataframe\">\n",
       "  <thead>\n",
       "    <tr style=\"text-align: right;\">\n",
       "      <th></th>\n",
       "      <th>folio</th>\n",
       "      <th>o</th>\n",
       "      <th>id_vivienda</th>\n",
       "      <th>hogar</th>\n",
       "      <th>region</th>\n",
       "      <th>provincia</th>\n",
       "      <th>comuna</th>\n",
       "      <th>zona</th>\n",
       "      <th>expr</th>\n",
       "      <th>expc</th>\n",
       "      <th>...</th>\n",
       "      <th>hh_d_estado</th>\n",
       "      <th>hh_d_servbas</th>\n",
       "      <th>hh_d_entorno</th>\n",
       "      <th>hh_d_accesi</th>\n",
       "      <th>hh_d_medio</th>\n",
       "      <th>hh_d_appart</th>\n",
       "      <th>hh_d_tsocial</th>\n",
       "      <th>hh_d_seg</th>\n",
       "      <th>pobreza_multi_4d</th>\n",
       "      <th>pobreza_multi_5d</th>\n",
       "    </tr>\n",
       "  </thead>\n",
       "  <tbody>\n",
       "    <tr>\n",
       "      <th>0</th>\n",
       "      <td>1.101100e+11</td>\n",
       "      <td>1.0</td>\n",
       "      <td>1.101100e+09</td>\n",
       "      <td>1.0</td>\n",
       "      <td>1.0</td>\n",
       "      <td>11.0</td>\n",
       "      <td>1101.0</td>\n",
       "      <td>1.0</td>\n",
       "      <td>39.0</td>\n",
       "      <td>33.0</td>\n",
       "      <td>...</td>\n",
       "      <td>0.0</td>\n",
       "      <td>1.0</td>\n",
       "      <td>1.0</td>\n",
       "      <td>0.0</td>\n",
       "      <td>1.0</td>\n",
       "      <td>0.0</td>\n",
       "      <td>0.0</td>\n",
       "      <td>1.0</td>\n",
       "      <td>NaN</td>\n",
       "      <td>NaN</td>\n",
       "    </tr>\n",
       "    <tr>\n",
       "      <th>1</th>\n",
       "      <td>1.101100e+11</td>\n",
       "      <td>1.0</td>\n",
       "      <td>1.101100e+09</td>\n",
       "      <td>1.0</td>\n",
       "      <td>1.0</td>\n",
       "      <td>11.0</td>\n",
       "      <td>1101.0</td>\n",
       "      <td>1.0</td>\n",
       "      <td>39.0</td>\n",
       "      <td>33.0</td>\n",
       "      <td>...</td>\n",
       "      <td>1.0</td>\n",
       "      <td>0.0</td>\n",
       "      <td>0.0</td>\n",
       "      <td>0.0</td>\n",
       "      <td>0.0</td>\n",
       "      <td>0.0</td>\n",
       "      <td>0.0</td>\n",
       "      <td>0.0</td>\n",
       "      <td>1.0</td>\n",
       "      <td>1.0</td>\n",
       "    </tr>\n",
       "    <tr>\n",
       "      <th>2</th>\n",
       "      <td>1.101100e+11</td>\n",
       "      <td>1.0</td>\n",
       "      <td>1.101100e+09</td>\n",
       "      <td>1.0</td>\n",
       "      <td>1.0</td>\n",
       "      <td>11.0</td>\n",
       "      <td>1101.0</td>\n",
       "      <td>1.0</td>\n",
       "      <td>39.0</td>\n",
       "      <td>33.0</td>\n",
       "      <td>...</td>\n",
       "      <td>1.0</td>\n",
       "      <td>0.0</td>\n",
       "      <td>1.0</td>\n",
       "      <td>0.0</td>\n",
       "      <td>1.0</td>\n",
       "      <td>0.0</td>\n",
       "      <td>1.0</td>\n",
       "      <td>1.0</td>\n",
       "      <td>NaN</td>\n",
       "      <td>NaN</td>\n",
       "    </tr>\n",
       "    <tr>\n",
       "      <th>3</th>\n",
       "      <td>1.101100e+11</td>\n",
       "      <td>2.0</td>\n",
       "      <td>1.101100e+09</td>\n",
       "      <td>1.0</td>\n",
       "      <td>1.0</td>\n",
       "      <td>11.0</td>\n",
       "      <td>1101.0</td>\n",
       "      <td>1.0</td>\n",
       "      <td>39.0</td>\n",
       "      <td>33.0</td>\n",
       "      <td>...</td>\n",
       "      <td>1.0</td>\n",
       "      <td>0.0</td>\n",
       "      <td>1.0</td>\n",
       "      <td>0.0</td>\n",
       "      <td>1.0</td>\n",
       "      <td>0.0</td>\n",
       "      <td>1.0</td>\n",
       "      <td>1.0</td>\n",
       "      <td>NaN</td>\n",
       "      <td>NaN</td>\n",
       "    </tr>\n",
       "    <tr>\n",
       "      <th>4</th>\n",
       "      <td>1.101100e+11</td>\n",
       "      <td>1.0</td>\n",
       "      <td>1.101100e+09</td>\n",
       "      <td>1.0</td>\n",
       "      <td>1.0</td>\n",
       "      <td>11.0</td>\n",
       "      <td>1101.0</td>\n",
       "      <td>1.0</td>\n",
       "      <td>39.0</td>\n",
       "      <td>33.0</td>\n",
       "      <td>...</td>\n",
       "      <td>1.0</td>\n",
       "      <td>1.0</td>\n",
       "      <td>1.0</td>\n",
       "      <td>0.0</td>\n",
       "      <td>1.0</td>\n",
       "      <td>NaN</td>\n",
       "      <td>1.0</td>\n",
       "      <td>0.0</td>\n",
       "      <td>0.0</td>\n",
       "      <td>NaN</td>\n",
       "    </tr>\n",
       "  </tbody>\n",
       "</table>\n",
       "<p>5 rows × 804 columns</p>\n",
       "</div>"
      ],
      "text/plain": [
       "          folio    o   id_vivienda  hogar  region  provincia  comuna  zona  \\\n",
       "0  1.101100e+11  1.0  1.101100e+09    1.0     1.0       11.0  1101.0   1.0   \n",
       "1  1.101100e+11  1.0  1.101100e+09    1.0     1.0       11.0  1101.0   1.0   \n",
       "2  1.101100e+11  1.0  1.101100e+09    1.0     1.0       11.0  1101.0   1.0   \n",
       "3  1.101100e+11  2.0  1.101100e+09    1.0     1.0       11.0  1101.0   1.0   \n",
       "4  1.101100e+11  1.0  1.101100e+09    1.0     1.0       11.0  1101.0   1.0   \n",
       "\n",
       "   expr  expc        ...         hh_d_estado  hh_d_servbas  hh_d_entorno  \\\n",
       "0  39.0  33.0        ...                 0.0           1.0           1.0   \n",
       "1  39.0  33.0        ...                 1.0           0.0           0.0   \n",
       "2  39.0  33.0        ...                 1.0           0.0           1.0   \n",
       "3  39.0  33.0        ...                 1.0           0.0           1.0   \n",
       "4  39.0  33.0        ...                 1.0           1.0           1.0   \n",
       "\n",
       "   hh_d_accesi  hh_d_medio  hh_d_appart  hh_d_tsocial  hh_d_seg  \\\n",
       "0          0.0         1.0          0.0           0.0       1.0   \n",
       "1          0.0         0.0          0.0           0.0       0.0   \n",
       "2          0.0         1.0          0.0           1.0       1.0   \n",
       "3          0.0         1.0          0.0           1.0       1.0   \n",
       "4          0.0         1.0          NaN           1.0       0.0   \n",
       "\n",
       "   pobreza_multi_4d  pobreza_multi_5d  \n",
       "0               NaN               NaN  \n",
       "1               1.0               1.0  \n",
       "2               NaN               NaN  \n",
       "3               NaN               NaN  \n",
       "4               0.0               NaN  \n",
       "\n",
       "[5 rows x 804 columns]"
      ]
     },
     "execution_count": 22,
     "metadata": {},
     "output_type": "execute_result"
    }
   ],
   "source": [
    "# finalmente, podemos seleccionar ciertos datos usando criterios de busqueda\n",
    "\n",
    "seleccion = df_casen.region == 1\n",
    "\n",
    "df_region1 = df_casen[seleccion]\n",
    "\n",
    "df_region1.head()"
   ]
  },
  {
   "cell_type": "code",
   "execution_count": 23,
   "metadata": {
    "collapsed": true
   },
   "outputs": [],
   "source": [
    "df_new = df_casen.copy()\n"
   ]
  },
  {
   "cell_type": "code",
   "execution_count": 24,
   "metadata": {
    "collapsed": true
   },
   "outputs": [],
   "source": [
    "del df_new"
   ]
  },
  {
   "cell_type": "markdown",
   "metadata": {},
   "source": [
    "## Ejemplos de Groupby\n",
    "\n",
    "** VISITAR **: Funciones disponibles: http://pandas.pydata.org/pandas-docs/stable/api.html?highlight=groupby#groupby\n"
   ]
  },
  {
   "cell_type": "code",
   "execution_count": null,
   "metadata": {
    "collapsed": true
   },
   "outputs": [],
   "source": [
    "import numpy as np\n",
    "\n",
    "df = pd.DataFrame({'Comuna' : ['foo', 'foo', 'foo', 'foo',\n",
    "                              'bar', 'bar', 'bar', 'bar'],\n",
    "                       'Año' : [1, 2, 3, 4,\n",
    "                              1, 2, 3, 4],\n",
    "                       'C' : np.random.randn(8),\n",
    "                       'D' : np.random.randn(8)})\n",
    "print(df)"
   ]
  },
  {
   "cell_type": "code",
   "execution_count": null,
   "metadata": {
    "collapsed": true
   },
   "outputs": [],
   "source": [
    "grouped = df.groupby('Comuna')\n",
    "print(grouped)"
   ]
  },
  {
   "cell_type": "code",
   "execution_count": null,
   "metadata": {
    "collapsed": true
   },
   "outputs": [],
   "source": [
    "grouped.groups"
   ]
  },
  {
   "cell_type": "code",
   "execution_count": null,
   "metadata": {
    "collapsed": true
   },
   "outputs": [],
   "source": [
    "# \"first\" nos entrega la primera \"fila\" de cada group (comuna)\n",
    "primera_fila = grouped.first()\n",
    "primera_fila"
   ]
  },
  {
   "cell_type": "code",
   "execution_count": null,
   "metadata": {
    "collapsed": true
   },
   "outputs": [],
   "source": [
    "#nos entrega la suma de las columnas Año, C y D\n",
    "grouped.sum()"
   ]
  },
  {
   "cell_type": "markdown",
   "metadata": {},
   "source": [
    "Los métodos antes señalados entregan un \"DataFrame\", donde el índice ahora no son número de fila, sino que son los posibles valores distintos de cada grupo. Para volver al estilo \"tradicional\" donde el índice es el número de fila, podemos ocupar la función \"reset_index()\" disponible para cualquier DataFrame:"
   ]
  },
  {
   "cell_type": "code",
   "execution_count": null,
   "metadata": {
    "collapsed": true
   },
   "outputs": [],
   "source": [
    "data_colapsada = grouped.sum()\n",
    "print(data_colapsada)\n",
    "\n",
    "data_colapsada.reset_index()"
   ]
  },
  {
   "cell_type": "markdown",
   "metadata": {},
   "source": [
    "** Quiz: como podemos calcular ahora el numero de alumnos por curriculo?**"
   ]
  },
  {
   "cell_type": "code",
   "execution_count": null,
   "metadata": {
    "collapsed": true
   },
   "outputs": [],
   "source": [
    "#ocupe un objeto groupby para calcular el número de alumnos por curriculo"
   ]
  },
  {
   "cell_type": "code",
   "execution_count": null,
   "metadata": {
    "collapsed": true
   },
   "outputs": [],
   "source": []
  },
  {
   "cell_type": "markdown",
   "metadata": {},
   "source": [
    "## Operaciones con DataFrames"
   ]
  },
  {
   "cell_type": "markdown",
   "metadata": {},
   "source": [
    "### DataFrame.merge: \n",
    "\n",
    "- Equivalente al \"merge n:1\" de Stata\n",
    "\n",
    "- Documentación: https://pandas.pydata.org/pandas-docs/stable/generated/pandas.DataFrame.merge.html\n",
    "\n",
    "*existe una función \"join\" en Pandas, pero se puede ver como un caso particular de \"merge\"*"
   ]
  },
  {
   "cell_type": "code",
   "execution_count": 7,
   "metadata": {
    "collapsed": true
   },
   "outputs": [],
   "source": [
    "#ejemplo merge\n"
   ]
  },
  {
   "cell_type": "markdown",
   "metadata": {
    "collapsed": true
   },
   "source": [
    "### DataFrame.pivot_table: \n",
    "\n",
    "- Equivalente al \"reshape\" de Stata \n",
    "\n",
    "- Documentación: https://pandas.pydata.org/pandas-docs/stable/generated/pandas.DataFrame.pivot_table.html"
   ]
  },
  {
   "cell_type": "code",
   "execution_count": null,
   "metadata": {
    "collapsed": true
   },
   "outputs": [],
   "source": [
    "#ejemplo pivot_table\n"
   ]
  },
  {
   "cell_type": "markdown",
   "metadata": {},
   "source": [
    "### pandas.concat: \n",
    "\n",
    "- Equivalente al \"append\" de Stata\n",
    "\n",
    "- Documentación: https://pandas.pydata.org/pandas-docs/stable/generated/pandas.concat.html\n",
    "\n",
    "*existe una función \"append\" en Pandas, pero se puede ver como un caso particular de \"concat\"*"
   ]
  },
  {
   "cell_type": "code",
   "execution_count": null,
   "metadata": {
    "collapsed": true
   },
   "outputs": [],
   "source": [
    "#ejemplo \"concat\" \n"
   ]
  },
  {
   "cell_type": "markdown",
   "metadata": {},
   "source": [
    "## Gráficos en Pandas\n",
    "\n",
    "Grafique el log(ingreso total) (ytot) para hogares con ingreso mayor que 100.000"
   ]
  },
  {
   "cell_type": "code",
   "execution_count": 23,
   "metadata": {},
   "outputs": [
    {
     "data": {
      "text/plain": [
       "array([[<matplotlib.axes._subplots.AxesSubplot object at 0x000001BF3B8CDB70>]],\n",
       "      dtype=object)"
      ]
     },
     "execution_count": 23,
     "metadata": {},
     "output_type": "execute_result"
    },
    {
     "data": {
      "image/png": "[encoded data removed]",
      "text/plain": [
       "<Figure size 432x288 with 1 Axes>"
      ]
     },
     "metadata": {},
     "output_type": "display_data"
    }
   ],
   "source": [
    "#esto permite graficos dentro del notebook\n",
    "%matplotlib inline   \n",
    "\n",
    "#esta libreria tiene algunas funciones matematicas\n",
    "import math\n",
    "\n",
    "\n",
    "select = df_casen.ytot > 100000\n",
    "\n",
    "df_casen['logy'] = df_casen.ytot.apply(math.log)\n",
    "\n",
    "df_casen[select].hist('logy', bins=100)"
   ]
  },
  {
   "cell_type": "markdown",
   "metadata": {},
   "source": [
    "## Detour... uso de pickle para guardar objetos de Python\n",
    "\n",
    "Esto nos permitira cargar objetos de Python (por ej, bases de datos en Pandas) mucho mas rapido"
   ]
  },
  {
   "cell_type": "code",
   "execution_count": 5,
   "metadata": {
    "collapsed": true
   },
   "outputs": [],
   "source": [
    "# CODIGO PARA GUARDAR OBJETOS DE PYTHON\n",
    "\n",
    "import pickle\n",
    "\n",
    "pickle.dump(df_casen , open(\"casen_df.pkl\", \"wb\"))   "
   ]
  },
  {
   "cell_type": "code",
   "execution_count": 6,
   "metadata": {
    "collapsed": true
   },
   "outputs": [],
   "source": [
    "# CODIGO PARA CARGAR OBJETOS DE PYTHON\n",
    "\n",
    "df_casen = pickle.load(open(\"casen_df.pkl\", \"rb\"))\n",
    "\n",
    "# Ahora podemos seguir trabajando con el DataFrame"
   ]
  },
  {
   "cell_type": "markdown",
   "metadata": {},
   "source": [
    "Tambien se pueden ocupar las funciones de Pandas \"read_pickle\" y \"to_pickle\", pero conocer la forma general de guardar objetos a través de Pickle es muy útil en otras aplicaciones"
   ]
  }
 ],
 "metadata": {
  "anaconda-cloud": {},
  "kernelspec": {
   "display_name": "Python 3",
   "language": "python",
   "name": "python3"
  },
  "language_info": {
   "codemirror_mode": {
    "name": "ipython",
    "version": 3
   },
   "file_extension": ".py",
   "mimetype": "text/x-python",
   "name": "python",
   "nbconvert_exporter": "python",
   "pygments_lexer": "ipython3",
   "version": "3.6.6"
  }
 },
 "nbformat": 4,
 "nbformat_minor": 2
}
