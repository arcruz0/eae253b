{
 "cells": [
  {
   "cell_type": "markdown",
   "metadata": {},
   "source": [
    "# 2018-09-06 (Jueves)\n",
    "\n",
    "## Proyectos\n",
    "---\n",
    "\n",
    "## NLP -- revisar clase pasada"
   ]
  },
  {
   "cell_type": "markdown",
   "metadata": {},
   "source": [
    "## Bases de datos\n",
    "\n",
    "Lo que usualmente se entiende por \"base de datos\" es un objeto que tiene filas (registros) y columnas (variables). Cada fila, en este paradigma, es un conjunto de información referida a algún registro único.\n",
    "\n",
    "Existen bases de datos más complejas, que nos permiten almacenar y administrar datos basados en relaciones de distintos tipos de registros (\"Relational Model\"). En las siguientes clases veremos un poco más sobre esto."
   ]
  },
  {
   "cell_type": "markdown",
   "metadata": {
    "collapsed": true
   },
   "source": [
    "### Bases de datos en Python\n",
    "\n",
    "Ya trabajamos con algunas estructuras de datos básicas en python (listas, tuplas, diccionarios), pero dichas estructuras no nos permiten realizar operaciones que comúnmente quisieramos hacer (por ejemplo, calcular promedios, agrupar resultados bajo alguna lógica, obtener estadísticas descriptivas, etc).\n",
    "\n",
    "Para facilitar lo anterior, utilizaremos una librería muy potente de Python llamada \"Pandas\"."
   ]
  },
  {
   "cell_type": "markdown",
   "metadata": {},
   "source": [
    "## Objetos importantes de la librería Pandas\n",
    "\n",
    "### 1. \"Series\"\n",
    "\n",
    "Es la \"base de datos\" más simple de Pandas. Una serie puede ser entendida como un vector de datos (1 dimensión). En general no trabajamos directamente con objetos \"Series\", sino que accedemos a ellos a través de \"DataFrames\".\n",
    "\n",
    "\n",
    "### 2. \"DataFrame\"\n",
    "\n",
    "Un objeto más potente de datos son los \"DataFrame\". Este objeto es muy similar a lo que entendemos nosotros por \"base de datos\", donde tenemos N filas y K columnas. Cada columna en este objeto es un objeto \"Serie\".\n",
    "\n",
    "Para realizar ciertas operaciones sobre las columnas, debemos entender los atributos y métodos disponibles en el objeto \"Serie\".\n",
    "\n",
    "Documentación sobre atributos y métodos de DataFrames: https://pandas.pydata.org/pandas-docs/stable/generated/pandas.DataFrame.html\n",
    "\n",
    "Documentación sobre atributos y métodos de Series: https://pandas.pydata.org/pandas-docs/stable/generated/pandas.Series.html\n",
    "\n",
    "\n",
    "\n",
    "### 3. \"GroupBy\"\n",
    "\n",
    "Un objeto \"GroupBy\" es un objeto intermedio entre una base de datos \"desagrupada\" y otra base de datos \"agrupada\", según reglas agrupación que podemos definir al construir este objeto, o después de construido el objeto.\n",
    "\n",
    "Documentación completa aquí: http://pandas.pydata.org/pandas-docs/stable/groupby.html\n",
    "\n",
    "Funciones disponibles: http://pandas.pydata.org/pandas-docs/stable/api.html?highlight=groupby#groupby\n",
    "\n",
    "### 4. \"MultiIndex\"\n",
    "\n",
    "Este es un objeto un poco más complejo de datos, donde los índices, tanto de filas como de columnas, pueden tener múltiples \"niveles\". No utilizaremos este objeto por ahora."
   ]
  },
  {
   "cell_type": "code",
   "execution_count": 1,
   "metadata": {
    "collapsed": true
   },
   "outputs": [],
   "source": [
    "#importamos la librería pandas, asignandole el nombre \"pd\", sólo para facilitar el uso de la librería\n",
    "import pandas as pd"
   ]
  },
  {
   "cell_type": "markdown",
   "metadata": {
    "collapsed": true
   },
   "source": [
    "- Funciones para leer datos:\n",
    "    - read_stata: https://pandas.pydata.org/pandas-docs/stable/generated/pandas.read_stata.html\n",
    "    - read_excel: https://pandas.pydata.org/pandas-docs/stable/generated/pandas.read_excel.html\n",
    "    - read_csv: https://pandas.pydata.org/pandas-docs/stable/generated/pandas.read_csv.html\n",
    "    - read_sql: https://pandas.pydata.org/pandas-docs/stable/generated/pandas.read_sql.html\n"
   ]
  },
  {
   "cell_type": "markdown",
   "metadata": {},
   "source": [
    "## Ejemplo 1. Carga de datos desde Stata\n",
    "\n",
    "Lea los datos de la Casen 2017, y calcule el promedio (simple) de ingreso.\n",
    "\n"
   ]
  },
  {
   "cell_type": "code",
   "execution_count": null,
   "metadata": {
    "collapsed": true
   },
   "outputs": [],
   "source": [
    "# lectura información: función \"read_stata\"\n",
    "\n",
    "df = pd.read_stata"
   ]
  },
  {
   "cell_type": "markdown",
   "metadata": {},
   "source": [
    "## Ejemplo 2. Creación de un DataFrame desde Python\n"
   ]
  },
  {
   "cell_type": "code",
   "execution_count": null,
   "metadata": {
    "collapsed": true
   },
   "outputs": [],
   "source": []
  },
  {
   "cell_type": "code",
   "execution_count": null,
   "metadata": {
    "collapsed": true
   },
   "outputs": [],
   "source": []
  },
  {
   "cell_type": "markdown",
   "metadata": {},
   "source": [
    "## Ejemplo 3. Carga desde txt\n",
    "\n",
    "Cargue los datos UF y grafique"
   ]
  },
  {
   "cell_type": "code",
   "execution_count": null,
   "metadata": {
    "collapsed": true
   },
   "outputs": [],
   "source": []
  },
  {
   "cell_type": "code",
   "execution_count": null,
   "metadata": {
    "collapsed": true
   },
   "outputs": [],
   "source": []
  },
  {
   "cell_type": "code",
   "execution_count": null,
   "metadata": {
    "collapsed": true
   },
   "outputs": [],
   "source": [
    "# seleccionar columnas\n"
   ]
  },
  {
   "cell_type": "code",
   "execution_count": null,
   "metadata": {
    "collapsed": true
   },
   "outputs": [],
   "source": [
    "# seleccionar filas\n"
   ]
  },
  {
   "cell_type": "code",
   "execution_count": null,
   "metadata": {
    "collapsed": true
   },
   "outputs": [],
   "source": [
    "# crear nuevas columnas"
   ]
  },
  {
   "cell_type": "markdown",
   "metadata": {},
   "source": [
    "## Ejemplo 3. GroupBy\n",
    "\n",
    "Con el DataFrame de la Casen, construya un objeto GroupBy que le permita calcular estadísticas por region"
   ]
  },
  {
   "cell_type": "markdown",
   "metadata": {},
   "source": []
  },
  {
   "cell_type": "code",
   "execution_count": null,
   "metadata": {
    "collapsed": true
   },
   "outputs": [],
   "source": []
  },
  {
   "cell_type": "code",
   "execution_count": null,
   "metadata": {
    "collapsed": true
   },
   "outputs": [],
   "source": []
  },
  {
   "cell_type": "markdown",
   "metadata": {},
   "source": [
    "### Otros ejemplos de Groupby"
   ]
  },
  {
   "cell_type": "code",
   "execution_count": 12,
   "metadata": {},
   "outputs": [
    {
     "name": "stdout",
     "output_type": "stream",
     "text": [
      "  Comuna  Año         C         D\n",
      "0    foo    1 -0.148646 -0.509872\n",
      "1    foo    2  0.524538  0.731311\n",
      "2    foo    3 -0.550413  0.154322\n",
      "3    foo    4 -0.717528 -1.321542\n",
      "4    bar    1 -0.458771 -1.991990\n",
      "5    bar    2 -0.815806  0.686046\n",
      "6    bar    3 -0.528622 -0.386959\n",
      "7    bar    4 -0.053201 -2.380666\n"
     ]
    }
   ],
   "source": [
    "import numpy as np\n",
    "\n",
    "df = pd.DataFrame({'Comuna' : ['foo', 'foo', 'foo', 'foo',\n",
    "                              'bar', 'bar', 'bar', 'bar'],\n",
    "                       'Año' : [1, 2, 3, 4,\n",
    "                              1, 2, 3, 4],\n",
    "                       'C' : np.random.randn(8),\n",
    "                       'D' : np.random.randn(8)})\n",
    "print(df)"
   ]
  },
  {
   "cell_type": "code",
   "execution_count": 13,
   "metadata": {},
   "outputs": [
    {
     "name": "stdout",
     "output_type": "stream",
     "text": [
      "<pandas.core.groupby.groupby.DataFrameGroupBy object at 0x0000025668C91CC0>\n"
     ]
    }
   ],
   "source": [
    "grouped = df.groupby('Comuna')\n",
    "print(grouped)"
   ]
  },
  {
   "cell_type": "code",
   "execution_count": 16,
   "metadata": {},
   "outputs": [
    {
     "data": {
      "text/plain": [
       "{'bar': Int64Index([4, 5, 6, 7], dtype='int64'),\n",
       " 'foo': Int64Index([0, 1, 2, 3], dtype='int64')}"
      ]
     },
     "execution_count": 16,
     "metadata": {},
     "output_type": "execute_result"
    }
   ],
   "source": [
    "grouped.groups"
   ]
  },
  {
   "cell_type": "code",
   "execution_count": 19,
   "metadata": {},
   "outputs": [
    {
     "data": {
      "text/html": [
       "<div>\n",
       "<style scoped>\n",
       "    .dataframe tbody tr th:only-of-type {\n",
       "        vertical-align: middle;\n",
       "    }\n",
       "\n",
       "    .dataframe tbody tr th {\n",
       "        vertical-align: top;\n",
       "    }\n",
       "\n",
       "    .dataframe thead th {\n",
       "        text-align: right;\n",
       "    }\n",
       "</style>\n",
       "<table border=\"1\" class=\"dataframe\">\n",
       "  <thead>\n",
       "    <tr style=\"text-align: right;\">\n",
       "      <th></th>\n",
       "      <th>Año</th>\n",
       "      <th>C</th>\n",
       "      <th>D</th>\n",
       "    </tr>\n",
       "    <tr>\n",
       "      <th>Comuna</th>\n",
       "      <th></th>\n",
       "      <th></th>\n",
       "      <th></th>\n",
       "    </tr>\n",
       "  </thead>\n",
       "  <tbody>\n",
       "    <tr>\n",
       "      <th>bar</th>\n",
       "      <td>1</td>\n",
       "      <td>-0.458771</td>\n",
       "      <td>-1.991990</td>\n",
       "    </tr>\n",
       "    <tr>\n",
       "      <th>foo</th>\n",
       "      <td>1</td>\n",
       "      <td>-0.148646</td>\n",
       "      <td>-0.509872</td>\n",
       "    </tr>\n",
       "  </tbody>\n",
       "</table>\n",
       "</div>"
      ],
      "text/plain": [
       "        Año         C         D\n",
       "Comuna                         \n",
       "bar       1 -0.458771 -1.991990\n",
       "foo       1 -0.148646 -0.509872"
      ]
     },
     "execution_count": 19,
     "metadata": {},
     "output_type": "execute_result"
    }
   ],
   "source": [
    "#nos entrega la primera \"fila\" de cada comuna\n",
    "primera_fila = grouped.first()\n",
    "primera_fila"
   ]
  },
  {
   "cell_type": "code",
   "execution_count": 21,
   "metadata": {},
   "outputs": [
    {
     "data": {
      "text/html": [
       "<div>\n",
       "<style scoped>\n",
       "    .dataframe tbody tr th:only-of-type {\n",
       "        vertical-align: middle;\n",
       "    }\n",
       "\n",
       "    .dataframe tbody tr th {\n",
       "        vertical-align: top;\n",
       "    }\n",
       "\n",
       "    .dataframe thead th {\n",
       "        text-align: right;\n",
       "    }\n",
       "</style>\n",
       "<table border=\"1\" class=\"dataframe\">\n",
       "  <thead>\n",
       "    <tr style=\"text-align: right;\">\n",
       "      <th></th>\n",
       "      <th>Año</th>\n",
       "      <th>C</th>\n",
       "      <th>D</th>\n",
       "    </tr>\n",
       "    <tr>\n",
       "      <th>Comuna</th>\n",
       "      <th></th>\n",
       "      <th></th>\n",
       "      <th></th>\n",
       "    </tr>\n",
       "  </thead>\n",
       "  <tbody>\n",
       "    <tr>\n",
       "      <th>bar</th>\n",
       "      <td>10</td>\n",
       "      <td>-1.856400</td>\n",
       "      <td>-4.073569</td>\n",
       "    </tr>\n",
       "    <tr>\n",
       "      <th>foo</th>\n",
       "      <td>10</td>\n",
       "      <td>-0.892049</td>\n",
       "      <td>-0.945781</td>\n",
       "    </tr>\n",
       "  </tbody>\n",
       "</table>\n",
       "</div>"
      ],
      "text/plain": [
       "        Año         C         D\n",
       "Comuna                         \n",
       "bar      10 -1.856400 -4.073569\n",
       "foo      10 -0.892049 -0.945781"
      ]
     },
     "execution_count": 21,
     "metadata": {},
     "output_type": "execute_result"
    }
   ],
   "source": [
    "#nos entrega la suma de las columnas Año, C y D\n",
    "grouped.sum()"
   ]
  },
  {
   "cell_type": "markdown",
   "metadata": {},
   "source": [
    "Los métodos antes señalados entregan un \"DataFrame\", donde el índice ahora no son número de fila, sino que son las etiquetas de la variable que usamos en el \"groupby\". Para deshacer esto, ocupamos la función \"reset_index()\" de los DataFrame:"
   ]
  },
  {
   "cell_type": "code",
   "execution_count": 24,
   "metadata": {},
   "outputs": [
    {
     "name": "stdout",
     "output_type": "stream",
     "text": [
      "        Año         C         D\n",
      "Comuna                         \n",
      "bar      10 -1.856400 -4.073569\n",
      "foo      10 -0.892049 -0.945781\n"
     ]
    },
    {
     "data": {
      "text/html": [
       "<div>\n",
       "<style scoped>\n",
       "    .dataframe tbody tr th:only-of-type {\n",
       "        vertical-align: middle;\n",
       "    }\n",
       "\n",
       "    .dataframe tbody tr th {\n",
       "        vertical-align: top;\n",
       "    }\n",
       "\n",
       "    .dataframe thead th {\n",
       "        text-align: right;\n",
       "    }\n",
       "</style>\n",
       "<table border=\"1\" class=\"dataframe\">\n",
       "  <thead>\n",
       "    <tr style=\"text-align: right;\">\n",
       "      <th></th>\n",
       "      <th>Comuna</th>\n",
       "      <th>Año</th>\n",
       "      <th>C</th>\n",
       "      <th>D</th>\n",
       "    </tr>\n",
       "  </thead>\n",
       "  <tbody>\n",
       "    <tr>\n",
       "      <th>0</th>\n",
       "      <td>bar</td>\n",
       "      <td>10</td>\n",
       "      <td>-1.856400</td>\n",
       "      <td>-4.073569</td>\n",
       "    </tr>\n",
       "    <tr>\n",
       "      <th>1</th>\n",
       "      <td>foo</td>\n",
       "      <td>10</td>\n",
       "      <td>-0.892049</td>\n",
       "      <td>-0.945781</td>\n",
       "    </tr>\n",
       "  </tbody>\n",
       "</table>\n",
       "</div>"
      ],
      "text/plain": [
       "  Comuna  Año         C         D\n",
       "0    bar   10 -1.856400 -4.073569\n",
       "1    foo   10 -0.892049 -0.945781"
      ]
     },
     "execution_count": 24,
     "metadata": {},
     "output_type": "execute_result"
    }
   ],
   "source": [
    "data_colapsada = grouped.sum()\n",
    "print(data_colapsada)\n",
    "\n",
    "data_colapsada.reset_index()"
   ]
  },
  {
   "cell_type": "code",
   "execution_count": null,
   "metadata": {
    "collapsed": true
   },
   "outputs": [],
   "source": []
  },
  {
   "cell_type": "markdown",
   "metadata": {},
   "source": [
    "## Operaciones con DataFrames"
   ]
  },
  {
   "cell_type": "markdown",
   "metadata": {},
   "source": [
    "### Equivalente al \"merge n:1\" de Stata\n",
    "\n",
    "Hay un par de formas de hacer esto, la más simple es ocupar la función \"merge\" de los DataFrame\n",
    "\n",
    "Documentación: https://pandas.pydata.org/pandas-docs/stable/generated/pandas.DataFrame.merge.html"
   ]
  },
  {
   "cell_type": "code",
   "execution_count": null,
   "metadata": {
    "collapsed": true
   },
   "outputs": [],
   "source": [
    "#ejemplo \"merge n:1\" \n"
   ]
  },
  {
   "cell_type": "markdown",
   "metadata": {},
   "source": [
    "### Equivalente al \"append\" de Stata\n",
    "\n",
    "Hay varias formas de hacer esto, la más simple es ocupar la función \"concat\" de la librería pandas\n",
    "\n",
    "Documentación: https://pandas.pydata.org/pandas-docs/stable/generated/pandas.concat.html\n",
    "\n"
   ]
  },
  {
   "cell_type": "code",
   "execution_count": null,
   "metadata": {
    "collapsed": true
   },
   "outputs": [],
   "source": [
    "#ejemplo \"append\" \n",
    "\n",
    "df1 = \n",
    "df2 = \n",
    "\n",
    "df3 = pd.concat([df1, df2])"
   ]
  },
  {
   "cell_type": "code",
   "execution_count": null,
   "metadata": {
    "collapsed": true
   },
   "outputs": [],
   "source": []
  },
  {
   "cell_type": "markdown",
   "metadata": {},
   "source": [
    "## Gráficos en Pandas"
   ]
  },
  {
   "cell_type": "code",
   "execution_count": null,
   "metadata": {
    "collapsed": true
   },
   "outputs": [],
   "source": []
  }
 ],
 "metadata": {
  "anaconda-cloud": {},
  "kernelspec": {
   "display_name": "Python 3",
   "language": "python",
   "name": "python3"
  },
  "language_info": {
   "codemirror_mode": {
    "name": "ipython",
    "version": 3
   },
   "file_extension": ".py",
   "mimetype": "text/x-python",
   "name": "python",
   "nbconvert_exporter": "python",
   "pygments_lexer": "ipython3",
   "version": "3.6.6"
  }
 },
 "nbformat": 4,
 "nbformat_minor": 2
}
