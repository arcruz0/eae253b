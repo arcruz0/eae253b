{
 "cells": [
  {
   "cell_type": "markdown",
   "metadata": {},
   "source": [
    "# 2018-10-09\n",
    "\n",
    "### Prueba: 31 octubre\n",
    "\n",
    "### Tarea 4: fines noviembre\n",
    "\n",
    "\n",
    "---\n",
    "\n",
    "## Antes de partir... Instalación Geopandas\n",
    "\n",
    "Visitar http://geopandas.org, para ejemplos y documentación.\n",
    "\n",
    "\n",
    "ADVERTENCIA: Este es un paquete relativamente \"nuevo\" (0.4), y puede presentar problemas para instalar según configuración de otras librerías...\n",
    "\n",
    "Los que tengan Anaconda, correr desde el Anaconda Prompt:\n",
    "```\n",
    "conda install -c conda-forge geopandas\n",
    "```\n",
    "\n",
    "En Mac :\n",
    "```\n",
    "pip install geopandas\n",
    "```\n",
    "\n",
    "Excelente tutorial aquí: https://geohackweek.github.io/vector/\n",
    "\n"
   ]
  },
  {
   "cell_type": "code",
   "execution_count": 2,
   "metadata": {
    "collapsed": true
   },
   "outputs": [],
   "source": [
    "import geopandas as gp"
   ]
  },
  {
   "cell_type": "markdown",
   "metadata": {},
   "source": [
    "### Introducción a GIS\n",
    "\n",
    "###### GIS y las Ciencias Sociales\n",
    "\n",
    "- Visualización\n",
    "- Representación\n",
    "- Estadísticas (correlación espacial): ver ejemplo -->  https://github.com/calvarad/eae253b/blob/master/Clases/clase14_20181009/ejemplo_correlacion_espacial.png\n",
    "\n",
    "\n",
    "###### Paradigmas de datos\n",
    "- Vectores\n",
    "- Raster (no disponible en GeoPandas; usar librerías rasterio/rasterstats) --> excelente tutorial aquí: https://geohackweek.github.io/vector/06-geopandas-advanced/\n",
    "\n",
    "    Ver ejemplo raster: https://github.com/calvarad/eae253b/blob/master/Clases/clase14_20181009/ejemplo_raster.png\n",
    "\n",
    "###### GIS ve el mundo en \"capas\"\n",
    "\n",
    "###### Operaciones usuales sobre geometrías / capas\n",
    "\n",
    "- Manipulaciones geometricas\n",
    "    - Buffering (análisis \"alrededor\" de alguna unidad geográfica)\n",
    "    \n",
    "    \n",
    "- Operaciones de conjunto (overlay)\n",
    "    - Intersección\n",
    "    - Union\n",
    "    - Diferencia simétrica\n",
    "    - Diferencia\n",
    "\n",
    "\n",
    "- Agregación (dissolve)\n",
    "\n",
    "\n",
    "- Cruzar datos (sjoin)\n",
    "\n",
    "\n",
    "###### Objetos en Geopandas\n",
    "- GeoSeries: vector donde cada observación es un \"conjunto\" de formas que representa una unidad geográfica. Las formas básicas son:\n",
    "    - Points / Multi-Points\n",
    "    - Lines / Multi-Lines\n",
    "    - Polygons / Multi-Polygons\n",
    "\n",
    "\n",
    "- GeoDataFrame: Similar a GeoSeries, pero donde existen más variables para describir a la unidad geográfica"
   ]
  },
  {
   "cell_type": "code",
   "execution_count": null,
   "metadata": {
    "collapsed": true
   },
   "outputs": [],
   "source": []
  }
 ],
 "metadata": {
  "kernelspec": {
   "display_name": "Python 3",
   "language": "python",
   "name": "python3"
  },
  "language_info": {
   "codemirror_mode": {
    "name": "ipython",
    "version": 3
   },
   "file_extension": ".py",
   "mimetype": "text/x-python",
   "name": "python",
   "nbconvert_exporter": "python",
   "pygments_lexer": "ipython3",
   "version": "3.6.6"
  }
 },
 "nbformat": 4,
 "nbformat_minor": 2
}
