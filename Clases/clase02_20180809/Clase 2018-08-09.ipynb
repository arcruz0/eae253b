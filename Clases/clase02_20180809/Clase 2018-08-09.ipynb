{
 "cells": [
  {
   "cell_type": "markdown",
   "metadata": {},
   "source": [
    "# 2018-08-09 (Jueves)\n",
    "\n",
    "### Ayudantía Martes 14 (miércoles feriado)\n",
    "### Tarea 2 (jueves 30 de agosto)\n",
    "### Dudas Anaconda, Git(Hub), Kattis\n",
    "### Ejemplos Proyectos\n",
    "### Guia (opcional) \n",
    "\n",
    "http://runest.ing.puc.cl/\n",
    "\n",
    "---\n",
    "\n",
    "\n",
    "## Elementos básicos de programación\n",
    "\n",
    "### Primer programa"
   ]
  },
  {
   "cell_type": "code",
   "execution_count": 1,
   "metadata": {
    "collapsed": false
   },
   "outputs": [
    {
     "name": "stdout",
     "output_type": "stream",
     "text": [
      "Hello world!\n"
     ]
    }
   ],
   "source": [
    "print('Hello world!')"
   ]
  },
  {
   "cell_type": "markdown",
   "metadata": {},
   "source": [
    "Notas: apóstrofe (') y comillas (\") se pueden usar indistintamente en casi cualquier contexto en Python. También es común usar triple apóstrofe o triple comillas para strings largos"
   ]
  },
  {
   "cell_type": "code",
   "execution_count": 7,
   "metadata": {
    "collapsed": false
   },
   "outputs": [
    {
     "name": "stdout",
     "output_type": "stream",
     "text": [
      "Hello \"world\"!\n"
     ]
    }
   ],
   "source": [
    "print('Hello \"world\"!')"
   ]
  },
  {
   "cell_type": "code",
   "execution_count": 5,
   "metadata": {
    "collapsed": false
   },
   "outputs": [
    {
     "name": "stdout",
     "output_type": "stream",
     "text": [
      "    este es un string largo\n",
      "    \n",
      "                    ok\n",
      "\n"
     ]
    }
   ],
   "source": [
    "print(\"\"\"    este es un string largo\n",
    "    \n",
    "                    ok\n",
    "\"\"\")"
   ]
  },
  {
   "cell_type": "code",
   "execution_count": null,
   "metadata": {
    "collapsed": true
   },
   "outputs": [],
   "source": [
    "print(' este es otro \\\n",
    "    string \\\n",
    "          largo \\\n",
    "      ')"
   ]
  },
  {
   "cell_type": "code",
   "execution_count": 9,
   "metadata": {
    "collapsed": false
   },
   "outputs": [
    {
     "name": "stdout",
     "output_type": "stream",
     "text": [
      "aqui%imprimo%mucho%textopegadopero aca me salto\n",
      "una linea\n"
     ]
    }
   ],
   "source": [
    "print('aqui', 'imprimo', 'mucho', 'texto', sep='%', end='')\n",
    "print('pegado', end='')\n",
    "print('pero aca me salto')\n",
    "print('una linea')\n"
   ]
  },
  {
   "cell_type": "code",
   "execution_count": 17,
   "metadata": {
    "collapsed": false
   },
   "outputs": [
    {
     "data": {
      "text/plain": [
       "'hola'"
      ]
     },
     "execution_count": 17,
     "metadata": {},
     "output_type": "execute_result"
    }
   ],
   "source": [
    "'hola'"
   ]
  },
  {
   "cell_type": "code",
   "execution_count": 18,
   "metadata": {
    "collapsed": false
   },
   "outputs": [
    {
     "data": {
      "text/plain": [
       "'hola'"
      ]
     },
     "execution_count": 18,
     "metadata": {},
     "output_type": "execute_result"
    }
   ],
   "source": [
    "_"
   ]
  },
  {
   "cell_type": "code",
   "execution_count": 10,
   "metadata": {
    "collapsed": false
   },
   "outputs": [
    {
     "name": "stdout",
     "output_type": "stream",
     "text": [
      "Help on built-in function print in module builtins:\n",
      "\n",
      "print(...)\n",
      "    print(value, ..., sep=' ', end='\\n', file=sys.stdout, flush=False)\n",
      "    \n",
      "    Prints the values to a stream, or to sys.stdout by default.\n",
      "    Optional keyword arguments:\n",
      "    file:  a file-like object (stream); defaults to the current sys.stdout.\n",
      "    sep:   string inserted between values, default a space.\n",
      "    end:   string appended after the last value, default a newline.\n",
      "    flush: whether to forcibly flush the stream.\n",
      "\n"
     ]
    }
   ],
   "source": [
    "help(print)"
   ]
  },
  {
   "cell_type": "code",
   "execution_count": null,
   "metadata": {
    "collapsed": true
   },
   "outputs": [],
   "source": [
    "file_out = open('hola.txt', 'w')\n",
    "\n",
    "print('sdfsdfsdf asdfs fsd', file=file_out)\n",
    "\n",
    "file_out.close()"
   ]
  },
  {
   "cell_type": "markdown",
   "metadata": {},
   "source": [
    "### Variables, tipos de datos, expresiones y control de flujo 1\n",
    "\n",
    "##### Variables\n",
    "Python, como muchos otros lenguajes de programación, nos permite **asignar** datos o valores a entidades llamadas \"variables\", dándole así un nombre al dato o valor de interés. Por ejemplo:\n",
    "\n"
   ]
  },
  {
   "cell_type": "code",
   "execution_count": null,
   "metadata": {
    "collapsed": true
   },
   "outputs": [],
   "source": [
    "a = 2\n",
    "\n",
    "print(a)"
   ]
  },
  {
   "cell_type": "code",
   "execution_count": null,
   "metadata": {
    "collapsed": true
   },
   "outputs": [],
   "source": [
    "a + 3"
   ]
  },
  {
   "cell_type": "code",
   "execution_count": null,
   "metadata": {
    "collapsed": true
   },
   "outputs": [],
   "source": [
    "_"
   ]
  },
  {
   "cell_type": "markdown",
   "metadata": {},
   "source": [
    "##### Tipos de datos\n",
    "Los tipos de datos básicos que encontramos en Python son:\n",
    "\n",
    "- números (int o float)\n",
    "- texto (str)\n",
    "- booleanos (True o False)\n",
    "- nada (None)\n"
   ]
  },
  {
   "cell_type": "code",
   "execution_count": 25,
   "metadata": {
    "collapsed": false
   },
   "outputs": [
    {
     "name": "stdout",
     "output_type": "stream",
     "text": [
      "texto 1texto 2\n"
     ]
    },
    {
     "data": {
      "text/plain": [
       "'gato'"
      ]
     },
     "execution_count": 25,
     "metadata": {},
     "output_type": "execute_result"
    }
   ],
   "source": [
    "#sfsdfsdf \n",
    "#lsidjfsl\n",
    "\n",
    "a = 2        \n",
    "b = 'texto 1'\n",
    "c = \"texto 2\"\n",
    "a = 'gato'\n",
    "print(b + c)\n",
    "\n",
    "a"
   ]
  },
  {
   "cell_type": "code",
   "execution_count": 20,
   "metadata": {
    "collapsed": false
   },
   "outputs": [
    {
     "name": "stdout",
     "output_type": "stream",
     "text": [
      "True\n",
      "True\n"
     ]
    }
   ],
   "source": [
    "print(a == 2)\n",
    "\n",
    "z = a == 2\n",
    "print(z)"
   ]
  },
  {
   "cell_type": "code",
   "execution_count": 21,
   "metadata": {
    "collapsed": false
   },
   "outputs": [
    {
     "name": "stdout",
     "output_type": "stream",
     "text": [
      "True\n"
     ]
    }
   ],
   "source": [
    "print(0.5 == 1 - 0.5)"
   ]
  },
  {
   "cell_type": "markdown",
   "metadata": {},
   "source": [
    "*Importante tener en mente posibles problemas derivados de la precisión computacional...*"
   ]
  },
  {
   "cell_type": "code",
   "execution_count": 22,
   "metadata": {
    "collapsed": false
   },
   "outputs": [
    {
     "name": "stdout",
     "output_type": "stream",
     "text": [
      "False\n"
     ]
    }
   ],
   "source": [
    "print(0.1 == 1 - 0.9)"
   ]
  },
  {
   "cell_type": "code",
   "execution_count": 23,
   "metadata": {
    "collapsed": false
   },
   "outputs": [
    {
     "data": {
      "text/plain": [
       "0.09999999999999998"
      ]
     },
     "execution_count": 23,
     "metadata": {},
     "output_type": "execute_result"
    }
   ],
   "source": [
    "eval(\"1-0.9\")"
   ]
  },
  {
   "cell_type": "code",
   "execution_count": 24,
   "metadata": {
    "collapsed": false
   },
   "outputs": [
    {
     "data": {
      "text/plain": [
       "sys.float_info(max=1.7976931348623157e+308, max_exp=1024, max_10_exp=308, min=2.2250738585072014e-308, min_exp=-1021, min_10_exp=-307, dig=15, mant_dig=53, epsilon=2.220446049250313e-16, radix=2, rounds=1)"
      ]
     },
     "execution_count": 24,
     "metadata": {},
     "output_type": "execute_result"
    }
   ],
   "source": [
    "import sys\n",
    "sys.float_info"
   ]
  },
  {
   "cell_type": "markdown",
   "metadata": {},
   "source": [
    "##### Algunas funciones útiles\n",
    "- %whos\n",
    "- type()\n",
    "- dir()\n"
   ]
  },
  {
   "cell_type": "code",
   "execution_count": 29,
   "metadata": {
    "collapsed": false
   },
   "outputs": [
    {
     "name": "stdout",
     "output_type": "stream",
     "text": [
      "Variable   Type      Data/Info\n",
      "------------------------------\n",
      "a          str       gato\n",
      "b          str       texto 1\n",
      "c          str       texto 2\n",
      "sys        module    <module 'sys' (built-in)>\n",
      "z          bool      True\n"
     ]
    }
   ],
   "source": [
    "%whos"
   ]
  },
  {
   "cell_type": "code",
   "execution_count": 30,
   "metadata": {
    "collapsed": false
   },
   "outputs": [
    {
     "data": {
      "text/plain": [
       "['__add__',\n",
       " '__class__',\n",
       " '__contains__',\n",
       " '__delattr__',\n",
       " '__dir__',\n",
       " '__doc__',\n",
       " '__eq__',\n",
       " '__format__',\n",
       " '__ge__',\n",
       " '__getattribute__',\n",
       " '__getitem__',\n",
       " '__getnewargs__',\n",
       " '__gt__',\n",
       " '__hash__',\n",
       " '__init__',\n",
       " '__iter__',\n",
       " '__le__',\n",
       " '__len__',\n",
       " '__lt__',\n",
       " '__mod__',\n",
       " '__mul__',\n",
       " '__ne__',\n",
       " '__new__',\n",
       " '__reduce__',\n",
       " '__reduce_ex__',\n",
       " '__repr__',\n",
       " '__rmod__',\n",
       " '__rmul__',\n",
       " '__setattr__',\n",
       " '__sizeof__',\n",
       " '__str__',\n",
       " '__subclasshook__',\n",
       " 'capitalize',\n",
       " 'casefold',\n",
       " 'center',\n",
       " 'count',\n",
       " 'encode',\n",
       " 'endswith',\n",
       " 'expandtabs',\n",
       " 'find',\n",
       " 'format',\n",
       " 'format_map',\n",
       " 'index',\n",
       " 'isalnum',\n",
       " 'isalpha',\n",
       " 'isdecimal',\n",
       " 'isdigit',\n",
       " 'isidentifier',\n",
       " 'islower',\n",
       " 'isnumeric',\n",
       " 'isprintable',\n",
       " 'isspace',\n",
       " 'istitle',\n",
       " 'isupper',\n",
       " 'join',\n",
       " 'ljust',\n",
       " 'lower',\n",
       " 'lstrip',\n",
       " 'maketrans',\n",
       " 'partition',\n",
       " 'replace',\n",
       " 'rfind',\n",
       " 'rindex',\n",
       " 'rjust',\n",
       " 'rpartition',\n",
       " 'rsplit',\n",
       " 'rstrip',\n",
       " 'split',\n",
       " 'splitlines',\n",
       " 'startswith',\n",
       " 'strip',\n",
       " 'swapcase',\n",
       " 'title',\n",
       " 'translate',\n",
       " 'upper',\n",
       " 'zfill']"
      ]
     },
     "execution_count": 30,
     "metadata": {},
     "output_type": "execute_result"
    }
   ],
   "source": [
    "dir(a)"
   ]
  },
  {
   "cell_type": "code",
   "execution_count": 32,
   "metadata": {
    "collapsed": false
   },
   "outputs": [
    {
     "data": {
      "text/plain": [
       "['hol', ' como est', 's']"
      ]
     },
     "execution_count": 32,
     "metadata": {},
     "output_type": "execute_result"
    }
   ],
   "source": [
    "'hola como estas'.split('a')"
   ]
  },
  {
   "cell_type": "code",
   "execution_count": 27,
   "metadata": {
    "collapsed": false
   },
   "outputs": [
    {
     "data": {
      "text/plain": [
       "str"
      ]
     },
     "execution_count": 27,
     "metadata": {},
     "output_type": "execute_result"
    }
   ],
   "source": [
    "type(a)"
   ]
  },
  {
   "cell_type": "code",
   "execution_count": null,
   "metadata": {
    "collapsed": true
   },
   "outputs": [],
   "source": [
    "a = 'casa'"
   ]
  },
  {
   "cell_type": "code",
   "execution_count": null,
   "metadata": {
    "collapsed": true
   },
   "outputs": [],
   "source": [
    "print(format(1000.2*10 - 1000*10, '.60g'))"
   ]
  },
  {
   "cell_type": "code",
   "execution_count": null,
   "metadata": {
    "collapsed": true
   },
   "outputs": [],
   "source": [
    "type(1000.2*10)"
   ]
  },
  {
   "cell_type": "code",
   "execution_count": null,
   "metadata": {
    "collapsed": true
   },
   "outputs": [],
   "source": [
    "type(0.1)"
   ]
  },
  {
   "cell_type": "code",
   "execution_count": null,
   "metadata": {
    "collapsed": true
   },
   "outputs": [],
   "source": [
    "type(1-0.9)"
   ]
  },
  {
   "cell_type": "code",
   "execution_count": null,
   "metadata": {
    "collapsed": true
   },
   "outputs": [],
   "source": [
    "format(0.1, '.30g')  # give 30 significant digits"
   ]
  },
  {
   "cell_type": "code",
   "execution_count": null,
   "metadata": {
    "collapsed": true
   },
   "outputs": [],
   "source": [
    "format(1-0.9, '.30g')  # give 30 significant digits"
   ]
  },
  {
   "cell_type": "code",
   "execution_count": null,
   "metadata": {
    "collapsed": true
   },
   "outputs": [],
   "source": [
    "import sys\n",
    "help(sys)"
   ]
  },
  {
   "cell_type": "markdown",
   "metadata": {},
   "source": [
    "##### Expresiones"
   ]
  },
  {
   "cell_type": "markdown",
   "metadata": {},
   "source": [
    "- Operaciones matemáticas usuales: +, -, *, /\n",
    "- Otras operaciones matematicas: // (division de enteros),  % (modulo), ** exponente\n",
    "- Operadores relacionales: >, <, >=, <=, ==, !=\n",
    "- Otros operadores de comparacion: \"is\" y \"is not\"\n",
    "- Operadores logicos: \"and\", \"or\", \"not\"\n",
    "- Operadores de membresía: \"in\", \"not in\"\n",
    "\n",
    "--> Importancia expresiones booleanas: se usan con fines de \"control\" del codigo (proxima clase)"
   ]
  },
  {
   "cell_type": "code",
   "execution_count": null,
   "metadata": {
    "collapsed": true
   },
   "outputs": [],
   "source": [
    "3 + 2"
   ]
  },
  {
   "cell_type": "code",
   "execution_count": null,
   "metadata": {
    "collapsed": true
   },
   "outputs": [],
   "source": [
    "4 // 3"
   ]
  },
  {
   "cell_type": "code",
   "execution_count": null,
   "metadata": {
    "collapsed": true
   },
   "outputs": [],
   "source": [
    "2 % 2"
   ]
  },
  {
   "cell_type": "code",
   "execution_count": null,
   "metadata": {
    "collapsed": true
   },
   "outputs": [],
   "source": [
    "3 ** 2"
   ]
  },
  {
   "cell_type": "markdown",
   "metadata": {},
   "source": [
    "##### Control de flujo. If, elif, else\n",
    "\n",
    "Aqui se empieza a poner un poco más entretenida la programación, ya que podemos instruir al computador que evalue ciertos escenarios y realice operaciones de manera condicional:\n"
   ]
  },
  {
   "cell_type": "code",
   "execution_count": 33,
   "metadata": {
    "collapsed": false
   },
   "outputs": [
    {
     "name": "stdout",
     "output_type": "stream",
     "text": [
      "numero es par\n"
     ]
    }
   ],
   "source": [
    "numero = 8\n",
    "\n",
    "if numero % 2 == 0:\n",
    "    print('numero es par')\n",
    "else:\n",
    "    print('numero es impar')"
   ]
  },
  {
   "cell_type": "code",
   "execution_count": 42,
   "metadata": {
    "collapsed": false
   },
   "outputs": [
    {
     "name": "stdout",
     "output_type": "stream",
     "text": [
      "coeficiente es significativo e igual a 4\n"
     ]
    }
   ],
   "source": [
    "coeficiente = 4\n",
    "\n",
    "if coeficiente >= 2:\n",
    "    print('coeficiente es significativo e igual a {}'.format(coeficiente))"
   ]
  },
  {
   "cell_type": "markdown",
   "metadata": {},
   "source": [
    "*if/elif* funciona de forma secuencial, ejecutando el codigo de la primera condicion verdadera:"
   ]
  },
  {
   "cell_type": "code",
   "execution_count": null,
   "metadata": {
    "collapsed": true
   },
   "outputs": [],
   "source": [
    "coeficiente = 8\n",
    "\n",
    "if coeficiente >= 2:\n",
    "    print('coeficiente es significativo e igual a {}'.format(coeficiente))\n",
    "elif coeficiente >= 3:\n",
    "    print('coeficiente es muy significativo e igual a {}'.format(coeficiente))"
   ]
  },
  {
   "cell_type": "markdown",
   "metadata": {},
   "source": [
    "Es importante ser lo más comprensivo posible con la evaluación de condiciones... una mala gestión de dichas condiciones puede llevar a errores"
   ]
  },
  {
   "cell_type": "code",
   "execution_count": null,
   "metadata": {
    "collapsed": true
   },
   "outputs": [],
   "source": [
    "t_stat = 2\n",
    "\n",
    "if t_stat > 2: \n",
    "    print('significativo')\n",
    "elif t_stat < 2: \n",
    "    print('no significativo')"
   ]
  },
  {
   "cell_type": "markdown",
   "metadata": {},
   "source": [
    "Una buena práctica es siempre hacerse cargo explicitamente de todas las opciones posibles. Existe 1 excepción a esta regla, la veremos cuando aprendamos más sobre funciones."
   ]
  },
  {
   "cell_type": "markdown",
   "metadata": {},
   "source": [
    "### Operaciones básicas sobre strings\n",
    "\n",
    "Estas son algunas funciones básicas (\"métodos\") que podemos realizar sobre strings (en el transcurso del curso veremos más):"
   ]
  },
  {
   "cell_type": "code",
   "execution_count": 5,
   "metadata": {
    "collapsed": false
   },
   "outputs": [
    {
     "name": "stdout",
     "output_type": "stream",
     "text": [
      "HOLA COMO ESTAS?\n",
      "hola como estas?\n",
      "Hola cómo estas?\n"
     ]
    }
   ],
   "source": [
    "texto = 'Hola como estas?'\n",
    "\n",
    "#convertir a mayusculas\n",
    "print(texto.upper())\n",
    "\n",
    "#convertir a minusculas\n",
    "print(texto.lower())\n",
    "\n",
    "#reemplazar\n",
    "print(texto.replace('como', 'cómo'))"
   ]
  },
  {
   "cell_type": "code",
   "execution_count": 8,
   "metadata": {
    "collapsed": false
   },
   "outputs": [
    {
     "name": "stdout",
     "output_type": "stream",
     "text": [
      "False\n",
      "True\n",
      "2\n",
      "juan y diego \n",
      "salieron al campo\n",
      "\n",
      "maria y lucia \n",
      "salieron al campo\n",
      "\n"
     ]
    }
   ],
   "source": [
    "#comienza con?\n",
    "print(texto.startswith(\"Hello\"))\n",
    "\n",
    "#termina con?\n",
    "print(texto.endswith(\"?\"))\n",
    "\n",
    "#buscar caracteres\n",
    "print(texto.index('la'))\n",
    "\n",
    "#formatear texto\n",
    "texto_base = '{} y {} \\nsalieron al campo\\n'\n",
    "\n",
    "print(texto_base.format('juan', 'diego'))\n",
    "print(texto_base.format('maria', 'lucia'))\n",
    "\n"
   ]
  },
  {
   "cell_type": "code",
   "execution_count": 11,
   "metadata": {
    "collapsed": false
   },
   "outputs": [
    {
     "name": "stdout",
     "output_type": "stream",
     "text": [
      "['{}', 'y', '{}', 'salieron', 'al', 'campo']\n",
      "['juan', 'y', 'diego', 'salieron', 'al', 'campo']\n"
     ]
    }
   ],
   "source": [
    "#dividir texto (listas --> proxima clase)\n",
    "\n",
    "print(texto_base.split())\n",
    "print(texto_base.format('juan', 'diego').split())\n"
   ]
  },
  {
   "cell_type": "markdown",
   "metadata": {},
   "source": [
    "Acá hay una lista más completa de todos los \"metodos\" que tiene el tipo de datos \"string\", y otras funciones adicionales que podemos aplicar a strings.\n",
    "\n",
    "https://www.programiz.com/python-programming/methods/string\n"
   ]
  },
  {
   "cell_type": "markdown",
   "metadata": {},
   "source": [
    "### Interpretador de Python y otras formas de usar Python\n",
    "\n",
    "Existen básicamente 3 formas de ejecutar comandos de Python:\n",
    "\n",
    "1. Desde Jupyter Notebook\n",
    "1. Desde ipython (interpretador de Python.. como una calculadora)\n",
    "1. Desde el terminal (Anaconda Prompt)\n",
    "\n",
    "*También se pueden ejecutar rutinas en Python desde otros programas, o automáticamente desde algún programador de tareas.*"
   ]
  },
  {
   "cell_type": "markdown",
   "metadata": {},
   "source": [
    "### Algo más práctico... Operaciones Input/Output 1: leer desde archivo \"plano\""
   ]
  },
  {
   "cell_type": "code",
   "execution_count": null,
   "metadata": {
    "collapsed": true
   },
   "outputs": [],
   "source": [
    "file = open('datosuf.txt', 'r')\n",
    "\n",
    "names = file.readline()\n",
    "print(names)\n",
    "    \n",
    "for line in file:\n",
    "    print(line)\n",
    "\n",
    "    #ojo con caracteres especiales\n",
    "    #print(repr(line))\n",
    "\n",
    "    #cada linea es un string, de largo X\n",
    "#   print(type(line), print(len(line))\n",
    "\n",
    "#    print(repr(line), '-->', parse_line(line))"
   ]
  },
  {
   "cell_type": "markdown",
   "metadata": {},
   "source": [
    "# EJERCICIO PROPUESTO 1\n",
    "\n",
    "**ORDERNAR Y GUARDAR...**\n",
    "\n",
    "Escriba un código que le permita leer el archivo \"datosuf.txt\", limpiar las líneas y guardar la información \"limpia\" en otro archivo de texto (por ej, datosuf_limpios.csv).\n",
    "\n",
    "Use la funcion \"parse_line\" que se encuentra en el modulo \"mimodulo\". Esta funcion toma como input una linea \"sucia\" y entrega como output 3 elementos: mes, año y valor_uf.\n",
    "\n",
    "Hint1: puede ocupar la función \"print\" para escribir a un archivo"
   ]
  },
  {
   "cell_type": "code",
   "execution_count": 4,
   "metadata": {
    "collapsed": true
   },
   "outputs": [],
   "source": [
    "from mimodulo import parse_line\n",
    "\n",
    "# crea un objeto que apunta hacia el archivo con información \"sucia\" y el que contendrá información limpia\n",
    "\n",
    "rawfile = open('datosuf.txt', 'r')            # r es para \"read\"\n",
    "cleanfile = open('datosuf_limpios.csv', 'w')  # w es para \"write\"\n",
    "\n",
    "# lee la primera linea del archivo\n",
    "names = rawfile.readline()\n",
    "\n",
    "#le agregamos los nombres de columnas que quereamos a nuestro archivo limpio...\n",
    "print('mes', 'año', 'valor', sep=',', file=cleanfile)\n",
    "\n",
    "# procesa resto de lineas y guarda informacion\n",
    "for line in rawfile:\n",
    "    mes, anio, valor = parse_line(line)\n",
    "    print(mes, anio, valor, sep=',', file=cleanfile)\n",
    "\n",
    "#es importante \"cerrar\" los archivos despues de usarlos\n",
    "rawfile.close()\n",
    "cleanfile.close()\n"
   ]
  },
  {
   "cell_type": "markdown",
   "metadata": {},
   "source": [
    "# EJERCICIO 2\n",
    "**GRAFICOS EN PYTHON**"
   ]
  },
  {
   "cell_type": "code",
   "execution_count": null,
   "metadata": {
    "collapsed": true
   },
   "outputs": [],
   "source": [
    "#1. carga librería de graficos\n",
    "import matplotlib.pyplot as plt\n",
    "\n",
    "#2. carga datos\n",
    "file = open('datosuf.txt', 'r')\n",
    "\n",
    "names = file.readline()\n",
    "datos_uf = []\n",
    "for line in file:\n",
    "    mes, anio, valor = parse_line(line)\n",
    "    datos_uf.append(valor)\n",
    "\n",
    "#3. grafica\n",
    "plt.plot(datos_uf)\n",
    "plt.ylabel('valor UF')\n",
    "plt.show()"
   ]
  }
 ],
 "metadata": {
  "anaconda-cloud": {},
  "kernelspec": {
   "display_name": "Python [default]",
   "language": "python",
   "name": "python3"
  },
  "language_info": {
   "codemirror_mode": {
    "name": "ipython",
    "version": 3
   },
   "file_extension": ".py",
   "mimetype": "text/x-python",
   "name": "python",
   "nbconvert_exporter": "python",
   "pygments_lexer": "ipython3",
   "version": "3.5.5"
  }
 },
 "nbformat": 4,
 "nbformat_minor": 2
}
