{
 "cells": [
  {
   "cell_type": "markdown",
   "metadata": {},
   "source": [
    "# 2018-08-21 (Martes)\n",
    "\n",
    "## Ideas proyecto, jueves\n",
    "## Kattis y estructura archivo .py\n",
    "\n",
    "https://open.kattis.com/problems/faktor\n",
    "\n",
    "---\n",
    "\n",
    "\n"
   ]
  },
  {
   "cell_type": "markdown",
   "metadata": {},
   "source": [
    "## Estructuras de datos II\n",
    "\n",
    "Ya vimos que en Python existen cuatro tipos de variables básicas: Números (int o float), Strings, Booleans y \"Nada\" (None). \n",
    "\n",
    "Además de estos tipos de datos básicos, Python tiene otras estructuras de datos de uso común:\n",
    "\n",
    "- Listas: Contiene un conjunto de elementos indexados del 0 al N\n",
    "- Tuplas: Similar a las listas, pero no son modificables\n",
    "- Diccionarios: Conjunto de elementos (value) indexados por una llave (key). "
   ]
  },
  {
   "cell_type": "markdown",
   "metadata": {},
   "source": [
    "## Listas\n",
    "\n",
    "Listas es una estructura de datos \"mutable\" y \"ordenada\", que permite guardar objetos dentro de ellas\n",
    "\n",
    "se puede pensar como un vector de objetos (números, texto, bases de datos, otras listas, etc.)\n",
    "\n",
    "Ventajas: cada objeto puede ser distinto\n",
    "\n",
    "Desventajas: ciertas operaciones sobre una lista pueden ser ineficientes, por ejemplo, buscar un elemento puntual dentro de una lista"
   ]
  },
  {
   "cell_type": "code",
   "execution_count": null,
   "metadata": {
    "collapsed": true
   },
   "outputs": [],
   "source": [
    "# listas\n",
    "a = [2, 3, 4, 5]\n",
    "print(a)\n",
    "\n",
    "b = ['texto1', 'texto2', 3, 4]\n",
    "print(b)\n",
    "\n",
    "#operaciones sobre listas\n",
    "\n",
    "#concatenacion\n",
    "c = a + b\n",
    "print(c)\n",
    "\n",
    "#\"slicing\"\n",
    "d = a[1:3]"
   ]
  },
  {
   "cell_type": "markdown",
   "metadata": {},
   "source": [
    "### Listas y carga de datos\n",
    "\n",
    "Hay dos operaciones que utilizaremos mucho al trabajar con listas:\n",
    "\n",
    "- Append: agrega elementos al final de la lista\n",
    "- Extend: concatena dos listas"
   ]
  },
  {
   "cell_type": "code",
   "execution_count": null,
   "metadata": {
    "collapsed": true
   },
   "outputs": [],
   "source": [
    "lista1 = [1, 2, 3, 4]\n",
    "\n",
    "lista1.append(4)\n",
    "lista1.append(6)\n",
    "\n",
    "print(lista1)"
   ]
  },
  {
   "cell_type": "code",
   "execution_count": null,
   "metadata": {
    "collapsed": true
   },
   "outputs": [],
   "source": [
    "lista2 = ['perro', 'gato']\n",
    "\n",
    "lista2.extend(lista1)\n",
    "\n",
    "print(lista2)"
   ]
  },
  {
   "cell_type": "markdown",
   "metadata": {},
   "source": [
    "** Quiz: Qué pasa si hacemos \"append\" en vez de \"extend\"? **\n"
   ]
  },
  {
   "cell_type": "markdown",
   "metadata": {},
   "source": [
    "##### Carga de datos\n",
    "\n",
    "En clases pasadas vimos como leer un archivo de texto e iterar sobre las líneas.. veamos ahora como podemos ocupar listas para \"guardar\" datos:"
   ]
  },
  {
   "cell_type": "code",
   "execution_count": null,
   "metadata": {
    "collapsed": true
   },
   "outputs": [],
   "source": [
    "#leo ubicación de los datos\n",
    "archivo = open('nombres.txt', 'r')\n",
    "\n",
    "#leo la primera linea del archivo\n",
    "cols = archivo.readline()\n",
    "\n",
    "print(cols)\n"
   ]
  },
  {
   "cell_type": "code",
   "execution_count": null,
   "metadata": {
    "collapsed": true
   },
   "outputs": [],
   "source": [
    "#defino una lista vacía, para luego guardar información en ella\n",
    "data = []\n",
    "\n",
    "#itero para el resto de lineas\n",
    "for line in archivo:\n",
    "   \n",
    "    data.append(line)\n",
    "    \n",
    "archivo.close()\n",
    "\n",
    "print(data)"
   ]
  },
  {
   "cell_type": "markdown",
   "metadata": {},
   "source": [
    "** Quiz: Cómo podríamos guardar sólo los nombres? **"
   ]
  },
  {
   "cell_type": "code",
   "execution_count": null,
   "metadata": {
    "collapsed": true
   },
   "outputs": [],
   "source": [
    "data_nombres = []"
   ]
  },
  {
   "cell_type": "markdown",
   "metadata": {},
   "source": [
    "*Nota al margen...*: es importante que comencemos a darnos cuenta del \"valor\" de que todos nuestros datos estén \"en memoria\" y disponibles para hacer cálculos (contrastado con Excel o Stata, por ejemplo, donde la cantidad de objetos con las que podemos trabajar a la vez es limitada)"
   ]
  },
  {
   "cell_type": "markdown",
   "metadata": {},
   "source": [
    "##### Operaciones útiles sobre listas\n",
    "\n",
    "Las siguientes son funciones \"built-in\" de Python, que se pueden aplicar sobre listas:\n",
    "\n",
    "- len(l1): entrega el largo de la lista l1\n",
    "- max(l1): entrega el maximo. Elementos deben ser comparables\n",
    "- min(l1): entrega el minimo. Elementos deben ser comparables\n",
    "- sum(l1): entrega la suma. Elementos deben ser sumables\n",
    "\n"
   ]
  },
  {
   "cell_type": "code",
   "execution_count": null,
   "metadata": {
    "collapsed": true
   },
   "outputs": [],
   "source": [
    "l1 = [1, 2, 3, 4]\n",
    "l2 = ['a', 'b', 'c']\n",
    "\n",
    "print(len(l1), len(l2))\n",
    "\n",
    "print(max(l1), max(l2))\n",
    "\n",
    "print(min(l1), min(l2))\n",
    "\n",
    "print(sum(l1))\n"
   ]
  },
  {
   "cell_type": "markdown",
   "metadata": {},
   "source": [
    "## Temas adicionales\n",
    "##### Más sobre listas... pointers\n",
    "\n",
    "Es importante tener en cuenta que una variable \"lista\" es un \"pointer\" o \"ubicación\" de los datos en la memoria RAM del computador. Por lo mismo, al hacer referencia a una lista, en general no estamos haciendo referencia a los datos en sí, sino que estamos haciendo una referencia a la ubicación de los datos en la memoria (la \"dirección\" de los datos).\n",
    "\n",
    "Los siguientes ejemplos ilustran lo anterior:"
   ]
  },
  {
   "cell_type": "code",
   "execution_count": null,
   "metadata": {
    "collapsed": true
   },
   "outputs": [],
   "source": [
    "l0 = [5, 2]\n",
    "\n",
    "#creamos una lista \"l1\", donde uno de sus elementos es otra lista \n",
    "l1 = [2, 3, l0]\n",
    "print('l1 original:', l1)\n",
    "\n",
    "#creamos una lista \"l2\", que hace referencia a la lista l1\n",
    "l2 = [l1, 5, 6, 7]\n",
    "print('l2 original:', l2)\n",
    "\n",
    "#l3 es una copia de l1\n",
    "l3 = l1[:]\n",
    "print('l3 original:', l3)\n",
    "print()\n",
    "\n",
    "\n",
    "#qué pasa con l1, l2 y l3 si modificamos un elemento de l1?\n",
    "l1[1] = 8\n",
    "\n",
    "print('al modificar un elemento de l1...')\n",
    "print('l1 nueva:', l1)\n",
    "print('l2 nueva:', l2)\n",
    "print('l3 nueva:', l3)\n",
    "print()\n",
    "\n",
    "#qué pasa ahora si modificamos un elemento de la lista l0?\n",
    "l0[1] = [3]\n",
    "\n",
    "#qué pasa si agregamos nuevos elementos a l1?\n",
    "l1.append(88)\n",
    "\n",
    "print('al agregar elementos a l1...')\n",
    "print('l1 nueva:', l1)\n",
    "print('l2 nueva:', l2)\n",
    "print('l3 nueva:', l3)\n",
    "\n",
    "\n",
    "#QUE PASA SI MOFICAMOS LISTA L0??"
   ]
  }
 ],
 "metadata": {
  "anaconda-cloud": {},
  "kernelspec": {
   "display_name": "Python 3",
   "language": "python",
   "name": "python3"
  },
  "language_info": {
   "codemirror_mode": {
    "name": "ipython",
    "version": 3
   },
   "file_extension": ".py",
   "mimetype": "text/x-python",
   "name": "python",
   "nbconvert_exporter": "python",
   "pygments_lexer": "ipython3",
   "version": "3.6.3"
  }
 },
 "nbformat": 4,
 "nbformat_minor": 2
}
