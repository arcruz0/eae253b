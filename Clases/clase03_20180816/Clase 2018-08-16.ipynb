{
 "cells": [
  {
   "cell_type": "markdown",
   "metadata": {},
   "source": [
    "# 2018-08-16 (Jueves)\n",
    "\n",
    "### Miembros grupos\n",
    "### Jueves 23: entrega borrador proyecto\n",
    "### Jueves 30: entrega Tarea 2\n",
    "\n",
    "--- \n",
    "\n",
    "## Parte 1. ¿Qué estamos haciendo?\n",
    "\n",
    "## Parte 2. Corriendo Python desde Terminal\n",
    "\n",
    "## Parte 3. Instrucciones de control: for, while\n",
    "\n",
    "\n",
    "---\n",
    "\n",
    "## ¿Qué estamos haciendo?\n",
    "\n",
    "##### Aprendiendo a darle instrucciones al computador.\n",
    "    Lenguajes: Python, línea comandos S.O.. Próximamente SQL\n",
    "    Paquetes estadísticos: Stata\n",
    "    \n",
    "##### Aprendiendo a usar algunas herramientas útiles para el \"data scientist\"\n",
    "    Git, Sublime Text, (próximamente SQLite3, DBeaver), (próximamente, librerías Python para análisis)\n",
    "\n",
    "##### Aplicando estos conocimientos a resolver problemas en Economía, Negocios, Políticas Públicas, etc.\n",
    "    Proyecto, Tareas, Kattis\n",
    "\n",
    "---\n",
    "\n",
    "## ¿Qué podemos hacer hasta hoy?\n",
    "\n",
    "- Correr programas simples de Python en Jupyter Notebook\n",
    "- Guardar nuestros notebooks y hacerle seguimiento con Git (y sincronizar con GitHub)\n",
    "- Instalar paquetes adicionales a través de instalador de Anaconda (conda)\n",
    "- Análisis de datos con Stata (R, Excel u otro)\n",
    "\n",
    "---\n",
    "\n",
    "## Corriendo Python desde Terminal\n",
    "\n",
    "Otra de las maneras en que correremos códigos de Python (distinto al Jupyter Notebook) será desde el Terminal.\n",
    "\n",
    "Para ello, primero descargaremos algún editor de texto un poco más amigable que Notepad. Se sugiere descargar Sublime Text 3, desde acá:\n",
    "\n",
    "https://www.sublimetext.com/3\n",
    "\n",
    "#### Ejemplo programa 1\n",
    "\n",
    "Correremos un programa bien simple, nuestro querido \"print('hello world!')\"\n",
    "\n",
    "Para ello:\n",
    "\n",
    "1. Abra Sublime Text\n",
    "1. En el programa, ir a File --> Open folder..\n",
    "1. Abra una carpeta de preferencia\n",
    "1. Ahora, en el editor de texto, escribir `print('hello world!')`\n",
    "1. Guardar el archivo (Ctrl + S) con extensión .py. Puede poner como nombre \"programa.py\".\n",
    "\n",
    "Ahora, abra el terminal y dirígase a la carpeta donde quedó ese archivo guardado.\n",
    "\n",
    "Escriba en el terminal `python programa.py`\n"
   ]
  },
  {
   "cell_type": "markdown",
   "metadata": {},
   "source": [
    "### Ejercicio 1. Escriba un programa que determine si un número es par o impar\n",
    "\n",
    "Para este programa, favor ocupar el siguiente código como base:\n",
    "\n",
    "```python\n",
    "import sys\n",
    "\n",
    "print('¿qué numero quiere evaluar? : ', end='', flush=True)\n",
    "\n",
    "data = sys.stdin.readline().strip()\n",
    "\n",
    "try:\n",
    "    num = int(data)\n",
    "except:\n",
    "    raise ValueError('Favor ingrese número válido.')\n",
    "    \n",
    "# INSERTE CODIGO AQUÍ, OCUPANDO EL VALOR DE \"num\"\n",
    "# QUE PERMITA VERIFICAR SI \"num\" ES PAR O IMPAR\n",
    "\n",
    "```"
   ]
  },
  {
   "cell_type": "markdown",
   "metadata": {},
   "source": [
    "---\n",
    "\n",
    "## Parte 2: control de flujo (cont)\n",
    "\n",
    "### Procesos iterativos: for\n",
    "\n",
    "La instrucción *for* nos permite indicarle al computador que queremos ejecutar multiples veces una cierta sección de nuestro código. La sintaxis más simple sería algo asi:"
   ]
  },
  {
   "cell_type": "code",
   "execution_count": 10,
   "metadata": {},
   "outputs": [
    {
     "name": "stdout",
     "output_type": "stream",
     "text": [
      "el numero es 1\n",
      "el numero es 2\n",
      "el numero es 3\n"
     ]
    }
   ],
   "source": [
    "lista_numeros = [1, 2, 3]\n",
    "\n",
    "for numero in lista_numeros:\n",
    "    print('el numero es', numero)"
   ]
  },
  {
   "cell_type": "markdown",
   "metadata": {},
   "source": [
    "Otro uso común de la instrucción \"for\" es para iterar sobre un rango de valores:"
   ]
  },
  {
   "cell_type": "code",
   "execution_count": 11,
   "metadata": {},
   "outputs": [
    {
     "name": "stdout",
     "output_type": "stream",
     "text": [
      "0\n",
      "1\n",
      "2\n",
      "3\n",
      "4\n"
     ]
    }
   ],
   "source": [
    "for i in range(5):\n",
    "    print(i)"
   ]
  },
  {
   "cell_type": "markdown",
   "metadata": {},
   "source": [
    "La función range() es una función de Python que nos permite crear rangos de números con distintos criterios"
   ]
  },
  {
   "cell_type": "code",
   "execution_count": 14,
   "metadata": {
    "scrolled": true
   },
   "outputs": [
    {
     "name": "stdout",
     "output_type": "stream",
     "text": [
      "Help on class range in module builtins:\n",
      "\n",
      "class range(object)\n",
      " |  range(stop) -> range object\n",
      " |  range(start, stop[, step]) -> range object\n",
      " |  \n",
      " |  Return an object that produces a sequence of integers from start (inclusive)\n",
      " |  to stop (exclusive) by step.  range(i, j) produces i, i+1, i+2, ..., j-1.\n",
      " |  start defaults to 0, and stop is omitted!  range(4) produces 0, 1, 2, 3.\n",
      " |  These are exactly the valid indices for a list of 4 elements.\n",
      " |  When step is given, it specifies the increment (or decrement).\n",
      " |  \n",
      " |  Methods defined here:\n",
      " |  \n",
      " |  __bool__(self, /)\n",
      " |      self != 0\n",
      " |  \n",
      " |  __contains__(self, key, /)\n",
      " |      Return key in self.\n",
      " |  \n",
      " |  __eq__(self, value, /)\n",
      " |      Return self==value.\n",
      " |  \n",
      " |  __ge__(self, value, /)\n",
      " |      Return self>=value.\n",
      " |  \n",
      " |  __getattribute__(self, name, /)\n",
      " |      Return getattr(self, name).\n",
      " |  \n",
      " |  __getitem__(self, key, /)\n",
      " |      Return self[key].\n",
      " |  \n",
      " |  __gt__(self, value, /)\n",
      " |      Return self>value.\n",
      " |  \n",
      " |  __hash__(self, /)\n",
      " |      Return hash(self).\n",
      " |  \n",
      " |  __iter__(self, /)\n",
      " |      Implement iter(self).\n",
      " |  \n",
      " |  __le__(self, value, /)\n",
      " |      Return self<=value.\n",
      " |  \n",
      " |  __len__(self, /)\n",
      " |      Return len(self).\n",
      " |  \n",
      " |  __lt__(self, value, /)\n",
      " |      Return self<value.\n",
      " |  \n",
      " |  __ne__(self, value, /)\n",
      " |      Return self!=value.\n",
      " |  \n",
      " |  __new__(*args, **kwargs) from builtins.type\n",
      " |      Create and return a new object.  See help(type) for accurate signature.\n",
      " |  \n",
      " |  __reduce__(...)\n",
      " |      helper for pickle\n",
      " |  \n",
      " |  __repr__(self, /)\n",
      " |      Return repr(self).\n",
      " |  \n",
      " |  __reversed__(...)\n",
      " |      Return a reverse iterator.\n",
      " |  \n",
      " |  count(...)\n",
      " |      rangeobject.count(value) -> integer -- return number of occurrences of value\n",
      " |  \n",
      " |  index(...)\n",
      " |      rangeobject.index(value, [start, [stop]]) -> integer -- return index of value.\n",
      " |      Raise ValueError if the value is not present.\n",
      " |  \n",
      " |  ----------------------------------------------------------------------\n",
      " |  Data descriptors defined here:\n",
      " |  \n",
      " |  start\n",
      " |  \n",
      " |  step\n",
      " |  \n",
      " |  stop\n",
      "\n"
     ]
    }
   ],
   "source": [
    "help(range)"
   ]
  },
  {
   "cell_type": "code",
   "execution_count": 15,
   "metadata": {},
   "outputs": [
    {
     "name": "stdout",
     "output_type": "stream",
     "text": [
      "3\n",
      "5\n",
      "7\n",
      "9\n"
     ]
    }
   ],
   "source": [
    "for i in range(3, 10, 2):\n",
    "    print(i)"
   ]
  },
  {
   "cell_type": "markdown",
   "metadata": {},
   "source": [
    "Notar que los rangos en Python comienzan en 0. Esta es una particularidad de Python (distinto de R, por ejemplo), donde el índice de comienzo es generalmente la posición \"0\".\n",
    "\n",
    "La idea detrás de esto quedará clara cuando veamos \"listas\""
   ]
  },
  {
   "cell_type": "markdown",
   "metadata": {},
   "source": [
    "La clase pasada vimos otro uso de la instrucción *for*, cuando leimos las lineas de un archivo de texto."
   ]
  },
  {
   "cell_type": "markdown",
   "metadata": {},
   "source": [
    "Otra característica interesante de Python es que nos permite asignar múltiples valores en una sola instrucción. Por ejemplo:"
   ]
  },
  {
   "cell_type": "code",
   "execution_count": 17,
   "metadata": {},
   "outputs": [
    {
     "name": "stdout",
     "output_type": "stream",
     "text": [
      "2\n"
     ]
    }
   ],
   "source": [
    "n, m, p = 1, 2, 3\n",
    "\n",
    "print(m)"
   ]
  },
  {
   "cell_type": "markdown",
   "metadata": {},
   "source": [
    "¿Por qué esto es relevante? Este tipo de sintaxis se utiliza mucho en instrucciones \"for\", para \"unpack\" (desempacar?) valores contenidos en algun objeto de datos:"
   ]
  },
  {
   "cell_type": "code",
   "execution_count": 18,
   "metadata": {},
   "outputs": [
    {
     "name": "stdout",
     "output_type": "stream",
     "text": [
      "2010 10\n",
      "2011 7\n",
      "2012 40\n",
      "2013 48\n"
     ]
    }
   ],
   "source": [
    "data = [(2010, 10), (2011, 7), (2012, 40), (2013, 48)]\n",
    "\n",
    "for anio, valor in data:\n",
    "    print(anio, valor)"
   ]
  },
  {
   "cell_type": "markdown",
   "metadata": {},
   "source": [
    "¿qué pasa si tratamos de unpack valores que no calzan con el número de elementos que estamos haciendo mención?"
   ]
  },
  {
   "cell_type": "code",
   "execution_count": 19,
   "metadata": {},
   "outputs": [
    {
     "ename": "ValueError",
     "evalue": "not enough values to unpack (expected 3, got 2)",
     "output_type": "error",
     "traceback": [
      "\u001b[1;31m---------------------------------------------------------------------------\u001b[0m",
      "\u001b[1;31mValueError\u001b[0m                                Traceback (most recent call last)",
      "\u001b[1;32m<ipython-input-19-13f629ad8d8a>\u001b[0m in \u001b[0;36m<module>\u001b[1;34m()\u001b[0m\n\u001b[1;32m----> 1\u001b[1;33m \u001b[1;32mfor\u001b[0m \u001b[0manio\u001b[0m\u001b[1;33m,\u001b[0m \u001b[0mvalor1\u001b[0m\u001b[1;33m,\u001b[0m \u001b[0mvalor2\u001b[0m \u001b[1;32min\u001b[0m \u001b[0mdata\u001b[0m\u001b[1;33m:\u001b[0m\u001b[1;33m\u001b[0m\u001b[0m\n\u001b[0m\u001b[0;32m      2\u001b[0m     \u001b[0mprint\u001b[0m\u001b[1;33m(\u001b[0m\u001b[0manio\u001b[0m\u001b[1;33m,\u001b[0m \u001b[0mvalor1\u001b[0m\u001b[1;33m,\u001b[0m \u001b[0mvalor2\u001b[0m\u001b[1;33m)\u001b[0m\u001b[1;33m\u001b[0m\u001b[0m\n",
      "\u001b[1;31mValueError\u001b[0m: not enough values to unpack (expected 3, got 2)"
     ]
    }
   ],
   "source": [
    "for anio, valor1, valor2 in data:\n",
    "    print(anio, valor1, valor2)"
   ]
  },
  {
   "cell_type": "markdown",
   "metadata": {},
   "source": [
    "##### Instrucciones adicionales para instrucciones iterativas: break y continue\n",
    "\n",
    "*break*: permite terminar una iteración  \n",
    "*continue*: permite continuar con la siguiente iteracion, sin ejecutar el resto del código dentro del loop"
   ]
  },
  {
   "cell_type": "code",
   "execution_count": 32,
   "metadata": {},
   "outputs": [
    {
     "name": "stdout",
     "output_type": "stream",
     "text": [
      "1\n",
      "2\n",
      "2\n",
      "3\n",
      "4\n",
      "4\n",
      "5\n",
      "6\n",
      "6\n",
      "7\n",
      "8\n",
      "8\n",
      "9\n",
      "0\n"
     ]
    }
   ],
   "source": [
    "for num in range(1, 20):\n",
    "    print(num % 10)\n",
    "    \n",
    "    #me salto todos los impares\n",
    "    if num % 2:\n",
    "        continue\n",
    "    \n",
    "    #si aparece un numero divisible por 10, termino de iterar\n",
    "    if not num % 10:\n",
    "        break\n",
    "        \n",
    "    print(num)"
   ]
  },
  {
   "cell_type": "markdown",
   "metadata": {},
   "source": [
    "### Procesos iterativos: while\n",
    "\n",
    "*while* es una instrucción similar a *for*, con la diferencia de que ejecuta el código hasta que cierta condicion (o condiciones) se cumplan. La sintaxis más simple sería:"
   ]
  },
  {
   "cell_type": "code",
   "execution_count": 21,
   "metadata": {},
   "outputs": [
    {
     "name": "stdout",
     "output_type": "stream",
     "text": [
      "esta es la iteración 0\n",
      "esta es la iteración 1\n",
      "esta es la iteración 2\n",
      "esta es la iteración 3\n",
      "esta es la iteración 4\n",
      "esta es la iteración 5\n",
      "esta es la iteración 6\n",
      "esta es la iteración 7\n",
      "esta es la iteración 8\n",
      "esta es la iteración 9\n"
     ]
    }
   ],
   "source": [
    "max_num = 10\n",
    "\n",
    "iter_num = 0\n",
    "while iter_num < max_num:\n",
    "    print('esta es la iteración', iter_num)\n",
    "    iter_num += 1"
   ]
  },
  {
   "cell_type": "markdown",
   "metadata": {},
   "source": [
    "De cierta forma, *while* o *for* son redudantes, en el sentido de que podemos realizar casi las mismas operaciones con uno o con el otro (combinado con instrucciones *break* o *continue*). Sin embargo, la mayoría de los lenguajes de programación consideran ambas instrucciones, ya que en ciertas situaciones se entiende mejor el código si se utiliza uno versus el otro. Además, puede llevar a código más elegante."
   ]
  },
  {
   "cell_type": "code",
   "execution_count": 36,
   "metadata": {
    "scrolled": true
   },
   "outputs": [
    {
     "name": "stdout",
     "output_type": "stream",
     "text": [
      "10.0\n",
      "5.0\n",
      "3.3333333333333335\n",
      "2.5\n",
      "2.0\n",
      "1.6666666666666667\n",
      "1.4285714285714286\n",
      "1.25\n",
      "1.1111111111111112\n",
      "1.0\n",
      "0.9090909090909091\n",
      "0.8333333333333334\n",
      "0.7692307692307693\n",
      "0.7142857142857143\n",
      "0.6666666666666666\n",
      "0.625\n",
      "0.5882352941176471\n",
      "0.5555555555555556\n",
      "0.5263157894736842\n",
      "0.5\n",
      "0.47619047619047616\n"
     ]
    }
   ],
   "source": [
    "#aqui seria mejor ocupar *while*\n",
    "for i in range(100000000000000000):\n",
    "    X = 10 / (i + 1) \n",
    "    print(X)\n",
    "    if X < 0.5:\n",
    "        break"
   ]
  },
  {
   "cell_type": "code",
   "execution_count": 38,
   "metadata": {},
   "outputs": [
    {
     "name": "stdout",
     "output_type": "stream",
     "text": [
      "10.0\n",
      "5.0\n",
      "3.3333333333333335\n",
      "2.5\n",
      "2.0\n",
      "1.6666666666666667\n",
      "1.4285714285714286\n",
      "1.25\n",
      "1.1111111111111112\n",
      "1.0\n",
      "0.9090909090909091\n",
      "0.8333333333333334\n",
      "0.7692307692307693\n",
      "0.7142857142857143\n",
      "0.6666666666666666\n",
      "0.625\n",
      "0.5882352941176471\n",
      "0.5555555555555556\n",
      "0.5263157894736842\n",
      "0.5\n"
     ]
    }
   ],
   "source": [
    "N = 1\n",
    "X = 10 / N\n",
    "while X >= 0.5:\n",
    "    print(X)\n",
    "    N += 1\n",
    "    X = 10 / N "
   ]
  },
  {
   "cell_type": "markdown",
   "metadata": {},
   "source": [
    "Otra sintaxis típica usando \"while\":"
   ]
  },
  {
   "cell_type": "code",
   "execution_count": null,
   "metadata": {
    "collapsed": true
   },
   "outputs": [],
   "source": [
    "while True:\n",
    "    #corre codigo para siempre\n",
    "    \n",
    "    if cond1:\n",
    "        break\n",
    "    \n",
    "    if cond2:\n",
    "        break\n",
    "        \n",
    "    if not cond3:\n",
    "        break\n",
    "        "
   ]
  },
  {
   "cell_type": "markdown",
   "metadata": {},
   "source": [
    "### Procesos iterativos: funciones recursivas (más adelante)\n",
    "\n",
    "Otra forma de correr procesos iterativos en lenguajes de programación es con funciones recursivas. Una función recursiva es una función que se llama a si misma. Por ejemplo, la función factorial:"
   ]
  },
  {
   "cell_type": "code",
   "execution_count": 42,
   "metadata": {},
   "outputs": [
    {
     "name": "stdout",
     "output_type": "stream",
     "text": [
      "24\n"
     ]
    }
   ],
   "source": [
    "def factorial(n):\n",
    "    if n == 1:\n",
    "        return 1\n",
    "    return n * factorial(n - 1)\n",
    "\n",
    "print(factorial(4))"
   ]
  },
  {
   "cell_type": "markdown",
   "metadata": {},
   "source": [
    "### Detour: Sintaxis \"pythonica\"\n",
    "\n",
    "En muchos documentos sobre Python encontrarán referencias al concepto \"pythonic\", que se refiere a un estilo particular de escribir códigos en Python.\n",
    "\n",
    "En general, el estilo \"pythonico\" se asocia a un estilo \"simplificador\" y \"elegante\" de escribir códigos.\n",
    "\n",
    "[Guia de estilo resumida](http://www.cs.bu.edu/courses/cs108/guides/style.html)  \n",
    "[Guia de estilo larga](https://www.python.org/dev/peps/pep-0008/)\n",
    "\n",
    "Veamos un ejemplo con \"if\":\n"
   ]
  },
  {
   "cell_type": "code",
   "execution_count": 6,
   "metadata": {},
   "outputs": [
    {
     "name": "stdout",
     "output_type": "stream",
     "text": [
      "0\n",
      "10 es par\n"
     ]
    }
   ],
   "source": [
    "numero = 10\n",
    "\n",
    "es_impar = numero % 2\n",
    "\n",
    "print(es_impar)\n",
    "\n",
    "if es_impar == 1:\n",
    "    print('{} es impar'.format(numero))\n",
    "else:\n",
    "    print('{} es par'.format(numero))"
   ]
  },
  {
   "cell_type": "markdown",
   "metadata": {},
   "source": [
    "Si bien lo anterior no está mal, se dice que no es \"pythonico\". La forma \"pythonica\" de escribir este codigo sería:"
   ]
  },
  {
   "cell_type": "code",
   "execution_count": 8,
   "metadata": {},
   "outputs": [
    {
     "name": "stdout",
     "output_type": "stream",
     "text": [
      "10 es par\n"
     ]
    }
   ],
   "source": [
    "numero = 10\n",
    "es_impar = numero % 2\n",
    "\n",
    "if es_impar:\n",
    "    print('{} es impar'.format(numero))\n",
    "else:\n",
    "    print('{} es par'.format(numero))    "
   ]
  },
  {
   "cell_type": "markdown",
   "metadata": {},
   "source": [
    "Ojo que, en general, se considera *True* al valor 1, y *False* al valor 0, aunque esto no es cierto en todos los lenguajes de programación.\n",
    "\n",
    "Python va más allá, y considera cualquier valor no vacío, no nulo o distinto de 0 como \"verdadero\""
   ]
  },
  {
   "cell_type": "code",
   "execution_count": 29,
   "metadata": {},
   "outputs": [
    {
     "name": "stdout",
     "output_type": "stream",
     "text": [
      "8 es verdadero\n",
      "-10 es verdadero\n",
      "string es verdadero\n"
     ]
    }
   ],
   "source": [
    "num = 8\n",
    "\n",
    "if num:\n",
    "    print(num, 'es verdadero')\n",
    "    \n",
    "    \n",
    "num = -10\n",
    "\n",
    "if num:\n",
    "    print(num, 'es verdadero')\n",
    "    \n",
    "num = 'string'\n",
    "\n",
    "if num:\n",
    "    print(num, 'es verdadero')\n",
    "    \n"
   ]
  },
  {
   "cell_type": "markdown",
   "metadata": {},
   "source": [
    "## Ejercicio 2. \n",
    "\n",
    "Modifique su programa \"es_par.py\" para que le permita determinar qué números del archivo \"numeros.txt\" son pares y cuáles no.\n",
    "\n",
    "\n",
    "Ayuda 1: \n",
    "\n",
    "Para \"pasarle\" un archivo a python, pueden escribir lo siguiente en el Terminal:\n",
    "\n",
    "    `python es_par.py < numeros.txt`\n",
    "    \n",
    "Esta sintaxis quiere decir que queremos alimentar el primer comando (python es_par.py) con las líneas del archivo \"numeros.txt\"\n",
    "\n",
    "Ayuda 2:\n",
    "\n",
    "Para que su programa de python pueda leer un número de lineas indeterminadas, se recomienda ocupar el comando \"while\""
   ]
  },
  {
   "cell_type": "markdown",
   "metadata": {},
   "source": [
    "## Ejercicios propuestos\n"
   ]
  },
  {
   "cell_type": "markdown",
   "metadata": {},
   "source": [
    "### Operaciones Input/Output 2: leer desde Excel con openpyxl\n",
    "\n",
    "Busque en Google cómo cargar datos desde Excel, usando la librería \"openpyxl\"."
   ]
  },
  {
   "cell_type": "code",
   "execution_count": 2,
   "metadata": {
    "collapsed": true
   },
   "outputs": [],
   "source": [
    "import openpyxl\n"
   ]
  }
 ],
 "metadata": {
  "kernelspec": {
   "display_name": "Python 3",
   "language": "python",
   "name": "python3"
  },
  "language_info": {
   "codemirror_mode": {
    "name": "ipython",
    "version": 3
   },
   "file_extension": ".py",
   "mimetype": "text/x-python",
   "name": "python",
   "nbconvert_exporter": "python",
   "pygments_lexer": "ipython3",
   "version": "3.6.3"
  }
 },
 "nbformat": 4,
 "nbformat_minor": 2
}
