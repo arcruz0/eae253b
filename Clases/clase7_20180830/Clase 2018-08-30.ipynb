{
 "cells": [
  {
   "cell_type": "markdown",
   "metadata": {},
   "source": [
    "# 2018-08-30 (Jueves)\n",
    "\n",
    "## Tarea 2. Entrega hoy 23:59 hrs.\n",
    "\n",
    "## Reuniones proyecto\n",
    "\n",
    "## \"Vacaciones\"\n",
    "\n",
    "## Tarea 3: Martes 25 sept\n",
    "\n",
    "## Propuesta de proyecto formal:  Jueves 27 sept\n",
    "\n",
    "## Presentaciones Proyecto: 4 octubre\n",
    "\n",
    "--- \n"
   ]
  },
  {
   "cell_type": "markdown",
   "metadata": {},
   "source": [
    "## Funciones\n",
    "\n",
    "En todo lenguaje de programación podemos definir funciones que toman inputs y entregan un output. Se puede pensar una función como una caja negra que toma los objetos que le pasamos, los transforma, analiza y procesa, y produce un nuevo output dado esas transformaciones, analisis y procesos."
   ]
  },
  {
   "cell_type": "code",
   "execution_count": null,
   "metadata": {},
   "outputs": [],
   "source": [
    "def suma_uno(a):\n",
    "    '''\n",
    "    Esta función toma una lista \"a\" y le suma 1 a todos sus elementos\n",
    "    '''\n",
    "    \n",
    "    a = a + 1\n",
    "    \n",
    "    return a\n",
    "    "
   ]
  },
  {
   "cell_type": "markdown",
   "metadata": {},
   "source": [
    "Ahora podemos usar nuestra funcion en cualquier parte"
   ]
  },
  {
   "cell_type": "code",
   "execution_count": null,
   "metadata": {},
   "outputs": [],
   "source": [
    "print(suma_uno(3))\n",
    "\n"
   ]
  },
  {
   "cell_type": "code",
   "execution_count": null,
   "metadata": {},
   "outputs": [],
   "source": [
    "#que deberia pasar aqui?\n",
    "\n",
    "a = 3\n",
    "\n",
    "if suma_uno(a) == 4:\n",
    "    print('no')\n",
    "else: \n",
    "    print('si')\n"
   ]
  },
  {
   "cell_type": "code",
   "execution_count": null,
   "metadata": {},
   "outputs": [],
   "source": [
    "#que deberia pasar aqui?\n",
    "\n",
    "a = 2\n",
    "b = suma_uno(a) + a\n",
    "print(b)"
   ]
  },
  {
   "cell_type": "code",
   "execution_count": null,
   "metadata": {
    "collapsed": true
   },
   "outputs": [],
   "source": []
  },
  {
   "cell_type": "markdown",
   "metadata": {},
   "source": [
    "Es importante que nuestras funciones estén bien documentadas y que sean lo más \"comprensivas\" posible, respecto a la variedad de situaciones en las que se pueden poner"
   ]
  },
  {
   "cell_type": "code",
   "execution_count": null,
   "metadata": {},
   "outputs": [],
   "source": [
    "print(suma_uno('1'))"
   ]
  },
  {
   "cell_type": "markdown",
   "metadata": {},
   "source": [
    "La función anterior está mal definida, ya que arroja un error cuando se le entrega un input con tipo distinto a un tipo \"numerico\". \n",
    "\n",
    "Aquí hay varias opciones sobre qué hacer, lo mejor es siempre hacer explícita alguna restricción puntual de nuestras funciones"
   ]
  },
  {
   "cell_type": "code",
   "execution_count": 1,
   "metadata": {},
   "outputs": [],
   "source": [
    "def suma_uno_mejor(a):\n",
    "    '''\n",
    "    Input: \"a\", debe ser un número (int o float)\n",
    "    Return: entrega un número (int o float)\n",
    "    '''\n",
    "    \n",
    "    #primero, revisa el tipo de la variable \"a\"\n",
    "    if type(a) not in [int, float]:\n",
    "        print('Advertencia, input erroneo! Retornando \"None\"')\n",
    "        return None\n",
    "    \n",
    "    #si el tipo esta ok, procede\n",
    "    \n",
    "    return a + 1\n",
    "\n"
   ]
  },
  {
   "cell_type": "code",
   "execution_count": 2,
   "metadata": {},
   "outputs": [
    {
     "name": "stdout",
     "output_type": "stream",
     "text": [
      "Advertencia, input erroneo! Retornando \"None\"\n",
      "None\n",
      "4\n",
      "4.3\n"
     ]
    }
   ],
   "source": [
    "print(suma_uno_mejor('3'))\n",
    "print(suma_uno_mejor(3))\n",
    "print(suma_uno_mejor(3.3))"
   ]
  },
  {
   "cell_type": "markdown",
   "metadata": {},
   "source": [
    "#### Parametros opcionales\n"
   ]
  },
  {
   "cell_type": "markdown",
   "metadata": {},
   "source": [
    "Podemos definir funciones que tomen parametros opcionales, definiendo en la misma funcion cual sera el valor por defecto que tomará dicho parámetro cuando no definamos algún valor"
   ]
  },
  {
   "cell_type": "code",
   "execution_count": null,
   "metadata": {},
   "outputs": [],
   "source": [
    "def suma_delta(a, delta=1):\n",
    "    '''\n",
    "    Suma \"delta\" al número a. Si no entrega delta, se ocupa valor por defecto\n",
    "    '''\n",
    "    if type(a) not in (int, float):\n",
    "        print('Advertencia, input erroneo')\n",
    "        return None\n",
    "    \n",
    "    return a + delta\n",
    "\n",
    "print(suma_delta(4, 4))\n",
    "print(suma_delta(4))"
   ]
  },
  {
   "cell_type": "code",
   "execution_count": null,
   "metadata": {},
   "outputs": [],
   "source": [
    "# que pasara aqui?\n",
    "\n",
    "print(suma_delta(4, True))"
   ]
  },
  {
   "cell_type": "markdown",
   "metadata": {},
   "source": [
    "### Comentario: Funciones y Kattis\n"
   ]
  },
  {
   "cell_type": "markdown",
   "metadata": {},
   "source": [
    "** Ejercicio en clase **\n",
    "\n",
    "Dadas nuestras impresionantes habilidades en automatización, nuestro jefe nos pidió ahora determinar cuántos y cuáles caracteres distintos tiene cada línea, para poder priorizar cuáles líneas se imprimen primero. Por razones de imprenta, se imprimen primero aquellas líneas con un ratio de (largo de linea) / (caracteres distintos) mayor."
   ]
  },
  {
   "cell_type": "code",
   "execution_count": null,
   "metadata": {},
   "outputs": [],
   "source": [
    "# como sabemos programar, guardamos la definicion de la funcion \"costo_de_linea\" en \n",
    "# una \"libreria\" llamada \"funciones_de_linea\"\n",
    "\n",
    "from funciones_de_linea import costo_de_linea\n",
    "\n",
    "test_linea = 'hola Como Estas'\n",
    "\n",
    "print(costo_de_linea(test_linea))\n",
    "\n"
   ]
  },
  {
   "cell_type": "markdown",
   "metadata": {},
   "source": [
    "Complete las funciones señaladas"
   ]
  },
  {
   "cell_type": "code",
   "execution_count": null,
   "metadata": {
    "collapsed": true
   },
   "outputs": [],
   "source": [
    "def caracteres_distintos(linea):\n",
    "    '''\n",
    "    Input: linea de texto a imprimir\n",
    "    Output: lista de caracteres distintos\n",
    "    '''\n",
    "    caracteres = []\n",
    "    \n",
    "    return caracteres\n",
    "\n",
    "def ratio_impresion(linea):\n",
    "    '''\n",
    "    Input: linea de texto a imprimir\n",
    "    Output: ratio entre largo de linea y numero de caracteres distintos\n",
    "    '''\n",
    "    ratio = None\n",
    "    \n",
    "    return ratio"
   ]
  },
  {
   "cell_type": "markdown",
   "metadata": {},
   "source": [
    "Pruebe sus funciones"
   ]
  },
  {
   "cell_type": "code",
   "execution_count": null,
   "metadata": {},
   "outputs": [],
   "source": [
    "print(caracteres_distintos(test_linea))\n",
    "print(ratio_impresion(test_linea))\n"
   ]
  },
  {
   "cell_type": "markdown",
   "metadata": {},
   "source": [
    "Pasó el tiempo y su jefe cada vez le pide más funciones para distintos cálculos relacionados a las líneas. Por lo demás, usted ha tenido que comenzar a capacitar a sus compañeros en cómo usar cada una de estas funciones. Otros compañeros, en tanto, han comenzado a modificar las funciones para considerar otros escenarios o realizar los cálculos de formas un tanto distintas, pero esto ha provocado que ciertas funciones, que dependían de aquellas, dejen de funcionar...\n",
    "\n",
    "Para resolver esto, usted comenzo a pensar en estandarizar el concepto de \"que\" es una \"Linea\" desde la perspectiva de la imprenta, que operaciones se pueden realizar sobre ella, y como esas operaciones estaran relacionadas entre si.\n"
   ]
  },
  {
   "cell_type": "code",
   "execution_count": null,
   "metadata": {
    "collapsed": true
   },
   "outputs": [],
   "source": []
  },
  {
   "cell_type": "code",
   "execution_count": null,
   "metadata": {
    "collapsed": true
   },
   "outputs": [],
   "source": []
  },
  {
   "cell_type": "code",
   "execution_count": null,
   "metadata": {
    "collapsed": true
   },
   "outputs": [],
   "source": []
  },
  {
   "cell_type": "code",
   "execution_count": null,
   "metadata": {
    "collapsed": true
   },
   "outputs": [],
   "source": []
  },
  {
   "cell_type": "code",
   "execution_count": null,
   "metadata": {
    "collapsed": true
   },
   "outputs": [],
   "source": []
  },
  {
   "cell_type": "markdown",
   "metadata": {},
   "source": [
    "## Datos no estructurados\n",
    "\n",
    "Con datos no estructurado me refiero a cualquier colección de información que no esté en formato de base de datos y sobre la cual queramos extraer información relevante para nuestro análisis. En las siguientes clases trabajaremos extrayendo información de 3 tipos:\n",
    "\n",
    "- HTML\n",
    "- Texto (usando Expresiones Regulares)\n",
    "- APIs\n",
    "\n",
    "## 1. HTML\n",
    "\n",
    "HTML (Hypertext Markup Language) es el lenguaje estándar de páginas web. Dicho lenguaje permite estructurar y formatear documentos de texto a los cuales accedemos usualmente a través del explorador de internet (Chrome, Firefox, IExplorer, etc).\n",
    "\n",
    "La estructura típica de un documento HTML es la siguiente:\n",
    "\n",
    "```html\n",
    "<!DOCTYPE html>\n",
    "<html>\n",
    "    <head>\n",
    "    <title>Page Title</title>\n",
    "    </head>\n",
    "<body>\n",
    "    <div>\n",
    "        <h1>My First Heading</h1>\n",
    "        <p>My first paragraph.</p>\n",
    "    </div>\n",
    "</body>\n",
    "</html>\n",
    "```\n"
   ]
  },
  {
   "cell_type": "markdown",
   "metadata": {},
   "source": [
    "#### Ejemplo 1. Puntaje alumnos en Kattis"
   ]
  },
  {
   "cell_type": "code",
   "execution_count": null,
   "metadata": {},
   "outputs": [],
   "source": [
    "# es importante correr esta celda solo 1 vez, para evitar hacer \n",
    "# muchos GET requests a la pagina de Kattis\n",
    "\n",
    "import requests\n",
    "\n",
    "base_url = 'https://open.kattis.com/universities/uc.cl'\n",
    "\n",
    "# el metodo \"get\" de la libreria requests nos permite hacer una solicitud \"get\"\n",
    "# al servidor señalado. Dicha libreria nos entrega un objeto \"Response\",\n",
    "# que incluye información sobre la respuesta que tuvo nuestra solicitud\n",
    "\n",
    "request = requests.get(base_url)\n",
    "\n",
    "print(request.text)"
   ]
  },
  {
   "cell_type": "markdown",
   "metadata": {},
   "source": [
    "Existen librerías de Python que nos permiten \"navegar\" a través de la estructura (tags) y extraer información relevante. La librería que usaremos aquí se llama \"BeautifulSoup\"."
   ]
  },
  {
   "cell_type": "code",
   "execution_count": null,
   "metadata": {},
   "outputs": [],
   "source": [
    "from bs4 import BeautifulSoup\n",
    "\n",
    "soup = BeautifulSoup(request.content, 'html.parser')\n",
    "\n",
    "tags = soup.find_all('table')\n",
    "\n",
    "print(tags)"
   ]
  },
  {
   "cell_type": "code",
   "execution_count": null,
   "metadata": {},
   "outputs": [],
   "source": [
    "score_table = tags[1]\n",
    "\n",
    "print(score_table)"
   ]
  },
  {
   "cell_type": "code",
   "execution_count": null,
   "metadata": {},
   "outputs": [],
   "source": [
    "#cargo lista de usuarios a buscar\n",
    "with open('usuarios_kattis.txt', 'r', encoding='utf-8-sig') as archivo:\n",
    "    alumnos = [line.strip() for line in archivo]\n",
    "\n",
    "print('Lista de usuarios a buscar:')\n",
    "print(alumnos)\n",
    "print()\n",
    "\n",
    "#selecciono las filas de la tabla\n",
    "row_tags = score_table.select('tr')\n",
    "print('Hay {} filas en la tabla'.format(len(row_tags)))\n"
   ]
  },
  {
   "cell_type": "code",
   "execution_count": null,
   "metadata": {},
   "outputs": [],
   "source": [
    "\n",
    "print('Descargando datos de la tabla:...')\n",
    "print()\n",
    "\n",
    "rows_out = []\n",
    "\n",
    "#extraigo información fila por fila\n",
    "for row in row_tags:\n",
    "    \n",
    "    #selecciono las columnas de esa fila\n",
    "    col_tags = row.select('td')\n",
    "    \n",
    "    #extraigo el texto de cada \"celda\"\n",
    "    aux_row = [celda.get_text().strip() for celda in col_tags]\n",
    "    \n",
    "    #si hay información, la guardo\n",
    "    if aux_row:\n",
    "        rows_out.append(aux_row)\n",
    "\n",
    "for row in rows_out:\n",
    "    print(row)\n"
   ]
  },
  {
   "cell_type": "code",
   "execution_count": null,
   "metadata": {},
   "outputs": [],
   "source": [
    "#extraigo información relevante de los usuarios que me interesan\n",
    "for num, nombre, pais, puntaje in rows_out:\n",
    "    if nombre in alumnos:\n",
    "        print((num, nombre, pais, puntaje))"
   ]
  },
  {
   "cell_type": "markdown",
   "metadata": {},
   "source": [
    "#### Ejemplo 2. Búsqueda información \"I'm feeling lucky\""
   ]
  },
  {
   "cell_type": "code",
   "execution_count": null,
   "metadata": {},
   "outputs": [],
   "source": [
    "import requests\n",
    "\n",
    "base_url = 'http://www.google.com/search?q={}&btnI'\n",
    "\n",
    "terminos_a_buscar = ['paulo', 'rosales']\n",
    "\n",
    "url = base_url.format('+'.join(terminos_a_buscar))\n",
    "\n",
    "print(url)\n",
    "\n",
    "request = requests.get(url)\n"
   ]
  },
  {
   "cell_type": "code",
   "execution_count": null,
   "metadata": {},
   "outputs": [],
   "source": [
    "\n",
    "soup = BeautifulSoup(request.content, 'html.parser')\n",
    "\n",
    "print(soup.get_text())"
   ]
  },
  {
   "cell_type": "code",
   "execution_count": null,
   "metadata": {
    "collapsed": true
   },
   "outputs": [],
   "source": [
    "from bs4 import BeautifulSoup\n",
    "\n",
    "soup = BeautifulSoup(request.content, 'html.parser')\n",
    "\n",
    "print(soup.get_text())"
   ]
  }
 ],
 "metadata": {
  "anaconda-cloud": {},
  "kernelspec": {
   "display_name": "Python 3",
   "language": "python",
   "name": "python3"
  },
  "language_info": {
   "codemirror_mode": {
    "name": "ipython",
    "version": 3
   },
   "file_extension": ".py",
   "mimetype": "text/x-python",
   "name": "python",
   "nbconvert_exporter": "python",
   "pygments_lexer": "ipython3",
   "version": "3.6.3"
  }
 },
 "nbformat": 4,
 "nbformat_minor": 2
}
