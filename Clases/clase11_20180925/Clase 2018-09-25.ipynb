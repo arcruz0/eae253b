{
 "cells": [
  {
   "cell_type": "markdown",
   "metadata": {},
   "source": [
    "# 2018-09-25 (martes)\n",
    "\n",
    "## Encuesta docente\n",
    "\n",
    "## Ejercicio Tarifa\n",
    "\n",
    "--> Estructura \"base\" no lee toda la información necesaria. Ustedes deben escribir código para leer el resto de lineas.\n",
    "\n",
    "## Problemas con Casen\n",
    "\n",
    "--> Usar \"Casen small\"\n",
    "\n",
    "--- \n",
    "\n",
    "## Exportar datos en Pandas\n",
    "\n",
    "Hasta ahora hemos visto:\n",
    "\n",
    "- cargar información en Pandas\n",
    "    - Desde otras bases de datos (txt, csv, dta, xls)\n",
    "    - Con listas de tuplas (webscraping)\n",
    "- realizar ciertas manipulaciones\n",
    "    - filtrar o agregar\n",
    "    - crear nuevas variables\n",
    "    - agregar más información (\"merge\" o \"concat\")\n",
    "- comenzar a analizar la información \n",
    "    - tablas agregadas\n",
    "    - gráficos\n",
    "\n",
    "Hoy veremos cómo exportar datos, y cómo eso se relaciona con el flujo de análisis.\n"
   ]
  },
  {
   "cell_type": "code",
   "execution_count": 7,
   "metadata": {
    "collapsed": false
   },
   "outputs": [],
   "source": [
    "# Primero, cargamos algunos datos de prueba\n",
    "\n",
    "import pandas as pd\n",
    "\n",
    "data = [(2010, 1, 3), \n",
    "        (2010, 2, 6),\n",
    "        (2010, 3, 8),\n",
    "        (2010, 4, 1),\n",
    "        (2011, 1, 4),\n",
    "        (2011, 2, 3),\n",
    "        (2011, 3, 7),\n",
    "        (2011, 4, 70)]\n",
    "\n",
    "df = pd.DataFrame(data, columns=['year', 'quarter', 'valor'])\n"
   ]
  },
  {
   "cell_type": "code",
   "execution_count": 8,
   "metadata": {
    "collapsed": false
   },
   "outputs": [
    {
     "data": {
      "text/html": [
       "<div>\n",
       "<table border=\"1\" class=\"dataframe\">\n",
       "  <thead>\n",
       "    <tr style=\"text-align: right;\">\n",
       "      <th></th>\n",
       "      <th>year</th>\n",
       "      <th>quarter</th>\n",
       "      <th>valor</th>\n",
       "    </tr>\n",
       "  </thead>\n",
       "  <tbody>\n",
       "    <tr>\n",
       "      <th>0</th>\n",
       "      <td>2010</td>\n",
       "      <td>1</td>\n",
       "      <td>3</td>\n",
       "    </tr>\n",
       "    <tr>\n",
       "      <th>1</th>\n",
       "      <td>2010</td>\n",
       "      <td>2</td>\n",
       "      <td>6</td>\n",
       "    </tr>\n",
       "    <tr>\n",
       "      <th>2</th>\n",
       "      <td>2010</td>\n",
       "      <td>3</td>\n",
       "      <td>8</td>\n",
       "    </tr>\n",
       "    <tr>\n",
       "      <th>3</th>\n",
       "      <td>2010</td>\n",
       "      <td>4</td>\n",
       "      <td>1</td>\n",
       "    </tr>\n",
       "    <tr>\n",
       "      <th>4</th>\n",
       "      <td>2011</td>\n",
       "      <td>1</td>\n",
       "      <td>4</td>\n",
       "    </tr>\n",
       "    <tr>\n",
       "      <th>5</th>\n",
       "      <td>2011</td>\n",
       "      <td>2</td>\n",
       "      <td>3</td>\n",
       "    </tr>\n",
       "    <tr>\n",
       "      <th>6</th>\n",
       "      <td>2011</td>\n",
       "      <td>3</td>\n",
       "      <td>7</td>\n",
       "    </tr>\n",
       "    <tr>\n",
       "      <th>7</th>\n",
       "      <td>2011</td>\n",
       "      <td>4</td>\n",
       "      <td>70</td>\n",
       "    </tr>\n",
       "  </tbody>\n",
       "</table>\n",
       "</div>"
      ],
      "text/plain": [
       "   year  quarter  valor\n",
       "0  2010        1      3\n",
       "1  2010        2      6\n",
       "2  2010        3      8\n",
       "3  2010        4      1\n",
       "4  2011        1      4\n",
       "5  2011        2      3\n",
       "6  2011        3      7\n",
       "7  2011        4     70"
      ]
     },
     "execution_count": 8,
     "metadata": {},
     "output_type": "execute_result"
    }
   ],
   "source": [
    "df"
   ]
  },
  {
   "cell_type": "markdown",
   "metadata": {},
   "source": [
    "### Exportar a CSV"
   ]
  },
  {
   "cell_type": "code",
   "execution_count": 14,
   "metadata": {
    "collapsed": false
   },
   "outputs": [],
   "source": [
    "df.to_csv('data.csv')"
   ]
  },
  {
   "cell_type": "markdown",
   "metadata": {},
   "source": [
    "### Exportar a Excel"
   ]
  },
  {
   "cell_type": "code",
   "execution_count": 15,
   "metadata": {
    "collapsed": true
   },
   "outputs": [],
   "source": [
    "df.to_excel('data_excel.xlsx')"
   ]
  },
  {
   "cell_type": "markdown",
   "metadata": {},
   "source": [
    "### Exportar a SQL"
   ]
  },
  {
   "cell_type": "code",
   "execution_count": 19,
   "metadata": {
    "collapsed": false
   },
   "outputs": [],
   "source": [
    "#En este caso, vamos a exportar a una base de datos SQL, usando el motor SQLite3:\n",
    "\n",
    "import sqlite3\n",
    "\n",
    "db_path = 'data_sql.db'\n",
    "\n",
    "db_conn = sqlite3.connect(db_path)\n",
    "\n",
    "df.to_sql('mis_datos', db_conn, if_exists='replace')\n"
   ]
  },
  {
   "cell_type": "markdown",
   "metadata": {},
   "source": [
    "\n",
    "## SQL\n",
    "\n",
    "\"Structured Query Language\", es un lenguaje creado para interactuar con bases de datos relacionales.\n",
    "\n",
    "Principal instrucción: **SELECT**\n",
    "\n",
    "```\n",
    "SELECT\n",
    "FROM \n",
    "WHERE\n",
    "GROUP BY\n",
    "```\n",
    "\n",
    "Nota: existen multiples variaciones de este lenguaje, con pequeñas diferencias de sintaxis según el \"motor\" de bases de datos con el que estemos trabajando (Oracle, Postgres, MySQL, SQLite3, etc).\n",
    "\n",
    "\n",
    "- SELECT: nos permite decirle al servidor de datos qué variables queremos extraer\n",
    "- FROM: identifica el nombre de la tabla (o tablas) desde donde obtener los datos\n",
    "- WHERE: sentencia opcional; nos permite filtrar las filas de la tabla señalada en \"FROM\" según algún criterio\n",
    "- GROUP BY: sentencia opcional; nos permite agrupar los resultados por algún nivel de agrupación"
   ]
  },
  {
   "cell_type": "markdown",
   "metadata": {},
   "source": [
    "### Ejemplos\n",
    "\n",
    "Seleccione todas las filas con año igual a 2010\n",
    "\n",
    "```\n",
    "SELECT * \n",
    "FROM mis_datos \n",
    "WHERE year = 2010 ```\n"
   ]
  },
  {
   "cell_type": "markdown",
   "metadata": {},
   "source": [
    "Seleccione el \"valor\" del último trimestre de cada año\n",
    "\n",
    "```\n",
    "SELECT year, valor \n",
    "FROM mis_datos \n",
    "WHERE quarter = 4\n",
    "```\n"
   ]
  },
  {
   "cell_type": "markdown",
   "metadata": {},
   "source": [
    "Seleccione el número de observaciones de la tabla\n",
    "\n",
    "```\n",
    "SELECT COUNT(*) \n",
    "FROM mis_datos\n",
    "```"
   ]
  },
  {
   "cell_type": "markdown",
   "metadata": {},
   "source": [
    "Seleccione el promedio de \"valor\" por año\n",
    "\n",
    "```\n",
    "SELECT YEAR, AVG(valor)\n",
    "FROM mis_datos\n",
    "GROUP BY year\n",
    "```"
   ]
  },
  {
   "cell_type": "markdown",
   "metadata": {},
   "source": [
    "### Ejercicios\n",
    "\n",
    "Calcule el promedio de \"valor\" para cada trimestre.\n"
   ]
  },
  {
   "cell_type": "markdown",
   "metadata": {},
   "source": [
    "SELECT QUARTER, AVG(VALOR)\n",
    "FROM mis_datos\n",
    "GROUP BY quarter"
   ]
  },
  {
   "cell_type": "markdown",
   "metadata": {},
   "source": [
    "Seleccione las observaciones donde \"valor\" haya sido superior a 5."
   ]
  },
  {
   "cell_type": "markdown",
   "metadata": {},
   "source": [
    "select *\n",
    "from mis_datos\n",
    "where valor > 5\n"
   ]
  },
  {
   "cell_type": "markdown",
   "metadata": {},
   "source": [
    "Calcule el promedio de \"valor\" para cada año, considerando sólo el \"valor\" de los dos primeros trimestres de cada año.\n"
   ]
  },
  {
   "cell_type": "markdown",
   "metadata": {},
   "source": [
    "select year, avg(valor)\n",
    "from mis_datos\n",
    "where quarter = 1 or quarter = 2\n",
    "group by year"
   ]
  },
  {
   "cell_type": "markdown",
   "metadata": {},
   "source": []
  },
  {
   "cell_type": "markdown",
   "metadata": {},
   "source": [
    "Calcule el número de trimestres de cada año, donde \"valor\" haya sido superior a 5."
   ]
  },
  {
   "cell_type": "markdown",
   "metadata": {},
   "source": [
    "select year, count(*)\n",
    "from mis_datos\n",
    "where valor > 5\n",
    "group by year"
   ]
  },
  {
   "cell_type": "code",
   "execution_count": null,
   "metadata": {
    "collapsed": true
   },
   "outputs": [],
   "source": []
  },
  {
   "cell_type": "code",
   "execution_count": null,
   "metadata": {
    "collapsed": true
   },
   "outputs": [],
   "source": []
  },
  {
   "cell_type": "code",
   "execution_count": null,
   "metadata": {
    "collapsed": true
   },
   "outputs": [],
   "source": []
  },
  {
   "cell_type": "markdown",
   "metadata": {},
   "source": [
    "## Sentencia \"JOIN\""
   ]
  },
  {
   "cell_type": "markdown",
   "metadata": {},
   "source": [
    "La sentencia \"JOIN\" nos permite juntar información de tablas distintas (piensen en \"merge\").\n",
    "\n",
    "Existen 5 tipos de JOIN:\n",
    "\n",
    "- Cross join: producto cartesiano de dos tablas (todas las combinaciones posibles de filas)\n",
    "- Inner join: \"Intersección\" entre dos tablas, según una \"llave\"\n",
    "- Left outer join: \"Intersección\" + filas en A, según una \"llave\"\n",
    "- Right outer join: \"Intersección\" + filas en B, según una \"llave\"\n",
    "- Full outer join: \"Intersección + filas en A + filas en B, según una \"llave\""
   ]
  },
  {
   "cell_type": "markdown",
   "metadata": {},
   "source": [
    "### Ejemplos\n",
    "\n",
    "Antes de comenzar, agreguemos un poco más de informacion a la base de datos:\n"
   ]
  },
  {
   "cell_type": "code",
   "execution_count": 6,
   "metadata": {
    "collapsed": true
   },
   "outputs": [],
   "source": [
    "nueva_data = [(1, 'Primero'),\n",
    "             (2, 'Segundo'),\n",
    "             (3, 'Tercero'),\n",
    "             (4, 'Cuarto')]\n",
    "\n",
    "new_df = pd.DataFrame(nueva_data, columns=['quarter', 'nombre'])\n",
    "\n",
    "new_df.to_sql('tabla_nombres', db_conn, if_exists='replace')\n"
   ]
  },
  {
   "cell_type": "markdown",
   "metadata": {},
   "source": [
    "1. Calcule el promedio de \"valor\" para cada trimestre, usando el nombre del trimestre\n",
    "```\n",
    "SELECT nombre, AVG(valor)\n",
    "FROM mis_datos\n",
    "    INNER JOIN tabla_nombres ON mis_datos.quarter = tabla_nombres.quarter\n",
    "GROUP BY nombre\n",
    "\n",
    "```\n"
   ]
  },
  {
   "cell_type": "markdown",
   "metadata": {},
   "source": [
    "1. Identifique los años/trimestres (con el \"nombre\" del trimestre) donde \"valor\" haya sido mayor a 10\n",
    "\n",
    "```\n",
    "SELECT year, nombre\n",
    "FROM mis_datos\n",
    "    INNER JOIN tabla_nombres ON mis_datos.quarter = tabla_nombres.quarter\n",
    "WHERE valor > 5\n",
    "\n",
    "```"
   ]
  },
  {
   "cell_type": "markdown",
   "metadata": {},
   "source": [
    "### Ejemplo de lectura de base de datos en SQLite3"
   ]
  },
  {
   "cell_type": "code",
   "execution_count": null,
   "metadata": {
    "collapsed": true
   },
   "outputs": [],
   "source": [
    "import sqlite3\n",
    "from IPython.display import display\n",
    "\n",
    "#creamos una conexión para leer la base de datos\n",
    "db_path = 'data_sql.db'\n",
    "db_conn = sqlite3.connect(db_path)\n",
    "\n",
    "#armamos un string, con la query que queremos correr\n",
    "sql_query = '''\n",
    "    SELECT *\n",
    "    FROM mis_datos\n",
    "    WHERE quarter = 4\n",
    "'''\n",
    "\n",
    "#ocupamos la función \"read_sql\", para leer la base de datos y simultáneamente cargar los datos a un DataFrame\n",
    "new_data = pd.read_sql(sql_query, db_conn)\n",
    "\n",
    "#mostramos la tabla obtenida\n",
    "display(new_data)"
   ]
  },
  {
   "cell_type": "code",
   "execution_count": null,
   "metadata": {
    "collapsed": true
   },
   "outputs": [],
   "source": [
    "import sqlite3\n",
    "from IPython.display import display\n",
    "\n",
    "#creamos una conexión para leer la base de datos\n",
    "db_path = 'data_sql.db'\n",
    "db_conn = sqlite3.connect(db_path)\n",
    "\n",
    "#armamos un string, con la query que queremos correr\n",
    "sql_query = '''\n",
    "    select *\n",
    "    from mis_datos\n",
    "    where year = 2010\n",
    "'''\n",
    "\n",
    "#ocupamos la función \"read_sql\", para leer la base de datos y simultáneamente cargar los datos a un DataFrame\n",
    "%time new_data = pd.read_sql(sql_query, db_conn)\n",
    "\n",
    "#mostramos la tabla obtenida\n",
    "display(new_data)"
   ]
  },
  {
   "cell_type": "code",
   "execution_count": null,
   "metadata": {
    "collapsed": true
   },
   "outputs": [],
   "source": [
    "\n",
    "#armamos un string, con la query que queremos correr\n",
    "sql_query = '''\n",
    "    select AVG(valor) as promedio\n",
    "    from mis_datos\n",
    "'''\n",
    "\n",
    "#ocupamos la función \"read_sql\", para leer la base de datos y simultáneamente cargar los datos a un DataFrame\n",
    "new_data = pd.read_sql(sql_query, db_conn)\n",
    "\n",
    "#mostramos la tabla obtenida\n",
    "display(new_data)"
   ]
  },
  {
   "cell_type": "code",
   "execution_count": 2,
   "metadata": {
    "collapsed": false
   },
   "outputs": [
    {
     "data": {
      "text/html": [
       "<div>\n",
       "<style scoped>\n",
       "    .dataframe tbody tr th:only-of-type {\n",
       "        vertical-align: middle;\n",
       "    }\n",
       "\n",
       "    .dataframe tbody tr th {\n",
       "        vertical-align: top;\n",
       "    }\n",
       "\n",
       "    .dataframe thead th {\n",
       "        text-align: right;\n",
       "    }\n",
       "</style>\n",
       "<table border=\"1\" class=\"dataframe\">\n",
       "  <thead>\n",
       "    <tr style=\"text-align: right;\">\n",
       "      <th></th>\n",
       "      <th>year</th>\n",
       "      <th>nombre</th>\n",
       "    </tr>\n",
       "  </thead>\n",
       "  <tbody>\n",
       "    <tr>\n",
       "      <th>0</th>\n",
       "      <td>2010</td>\n",
       "      <td>Segundo</td>\n",
       "    </tr>\n",
       "    <tr>\n",
       "      <th>1</th>\n",
       "      <td>2010</td>\n",
       "      <td>Tercero</td>\n",
       "    </tr>\n",
       "    <tr>\n",
       "      <th>2</th>\n",
       "      <td>2011</td>\n",
       "      <td>Tercero</td>\n",
       "    </tr>\n",
       "    <tr>\n",
       "      <th>3</th>\n",
       "      <td>2011</td>\n",
       "      <td>Cuarto</td>\n",
       "    </tr>\n",
       "  </tbody>\n",
       "</table>\n",
       "</div>"
      ],
      "text/plain": [
       "   year   nombre\n",
       "0  2010  Segundo\n",
       "1  2010  Tercero\n",
       "2  2011  Tercero\n",
       "3  2011   Cuarto"
      ]
     },
     "metadata": {},
     "output_type": "display_data"
    }
   ],
   "source": [
    "import pandas as pd\n",
    "import sqlite3\n",
    "\n",
    "#leo los datos\n",
    "db_path = 'data_sql.db'\n",
    "db_conn = sqlite3.connect(db_path)\n",
    "\n",
    "\n",
    "#armamos un string, con la query que queremos correr\n",
    "sql_query = '''\n",
    "SELECT year, nombre\n",
    "FROM mis_datos\n",
    "    INNER JOIN tabla_nombres ON mis_datos.quarter = tabla_nombres.quarter\n",
    "WHERE valor > 5\n",
    "'''\n",
    "\n",
    "#ocupamos la función \"read_sql\", para leer la base de datos y simultáneamente cargar los datos a un DataFrame\n",
    "new_data = pd.read_sql(sql_query, db_conn)\n",
    "\n",
    "#mostramos la tabla obtenida\n",
    "display(new_data)\n",
    "\n"
   ]
  },
  {
   "cell_type": "code",
   "execution_count": 17,
   "metadata": {
    "collapsed": false
   },
   "outputs": [
    {
     "data": {
      "text/html": [
       "<div>\n",
       "<style scoped>\n",
       "    .dataframe tbody tr th:only-of-type {\n",
       "        vertical-align: middle;\n",
       "    }\n",
       "\n",
       "    .dataframe tbody tr th {\n",
       "        vertical-align: top;\n",
       "    }\n",
       "\n",
       "    .dataframe thead th {\n",
       "        text-align: right;\n",
       "    }\n",
       "</style>\n",
       "<table border=\"1\" class=\"dataframe\">\n",
       "  <thead>\n",
       "    <tr style=\"text-align: right;\">\n",
       "      <th></th>\n",
       "      <th>nombre</th>\n",
       "      <th>AVG(valor)</th>\n",
       "    </tr>\n",
       "  </thead>\n",
       "  <tbody>\n",
       "    <tr>\n",
       "      <th>0</th>\n",
       "      <td>Cuarto</td>\n",
       "      <td>35.5</td>\n",
       "    </tr>\n",
       "    <tr>\n",
       "      <th>1</th>\n",
       "      <td>Primero</td>\n",
       "      <td>3.5</td>\n",
       "    </tr>\n",
       "    <tr>\n",
       "      <th>2</th>\n",
       "      <td>Segundo</td>\n",
       "      <td>4.5</td>\n",
       "    </tr>\n",
       "    <tr>\n",
       "      <th>3</th>\n",
       "      <td>Tercero</td>\n",
       "      <td>7.5</td>\n",
       "    </tr>\n",
       "  </tbody>\n",
       "</table>\n",
       "</div>"
      ],
      "text/plain": [
       "    nombre  AVG(valor)\n",
       "0   Cuarto        35.5\n",
       "1  Primero         3.5\n",
       "2  Segundo         4.5\n",
       "3  Tercero         7.5"
      ]
     },
     "metadata": {},
     "output_type": "display_data"
    }
   ],
   "source": [
    "import pandas as pd\n",
    "import sqlite3\n",
    "\n",
    "#leo los datos\n",
    "db_path = 'data_sql.db'\n",
    "db_conn = sqlite3.connect(db_path)\n",
    "\n",
    "\n",
    "#armamos un string, con la query que queremos correr\n",
    "sql_query = '''\n",
    "SELECT nombre, AVG(valor)\n",
    "FROM mis_datos\n",
    "    INNER JOIN tabla_nombres ON mis_datos.quarter = tabla_nombres.quarter\n",
    "GROUP BY nombre\n",
    "'''\n",
    "\n",
    "#ocupamos la función \"read_sql\", para leer la base de datos y simultáneamente cargar los datos a un DataFrame\n",
    "new_data = pd.read_sql(sql_query, db_conn)\n",
    "\n",
    "#mostramos la tabla obtenida\n",
    "display(new_data)\n",
    "\n"
   ]
  },
  {
   "cell_type": "code",
   "execution_count": 16,
   "metadata": {
    "collapsed": false
   },
   "outputs": [
    {
     "data": {
      "text/plain": [
       "0    1\n",
       "1    2\n",
       "2    3\n",
       "3    4\n",
       "Name: quarter, dtype: int64"
      ]
     },
     "execution_count": 16,
     "metadata": {},
     "output_type": "execute_result"
    }
   ],
   "source": [
    "new_data.quarter"
   ]
  }
 ],
 "metadata": {
  "anaconda-cloud": {},
  "kernelspec": {
   "display_name": "Python [default]",
   "language": "python",
   "name": "python3"
  },
  "language_info": {
   "codemirror_mode": {
    "name": "ipython",
    "version": 3
   },
   "file_extension": ".py",
   "mimetype": "text/x-python",
   "name": "python",
   "nbconvert_exporter": "python",
   "pygments_lexer": "ipython3",
   "version": "3.5.5"
  }
 },
 "nbformat": 4,
 "nbformat_minor": 2
}
