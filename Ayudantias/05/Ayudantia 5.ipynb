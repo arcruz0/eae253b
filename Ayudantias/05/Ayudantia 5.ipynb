{
 "cells": [
  {
   "cell_type": "markdown",
   "metadata": {},
   "source": [
    "<center><h1>Ayudantía 5</h1></center>\n",
    "<hr style=\"color=skyblue; border-color:skyblue\"/>\n",
    "<div style=\"display:inline-block;float:left\"><h3>Profesor: Carlos Alvarado</h3></div>\n",
    "<div style=\"display:inline-block;float:right\"><h3>Ayudante: Pablo González</h3></div>\n",
    "\n",
    "\n",
    "<table style=\"width:90%; font-size:18px; float:left;color:#333;\">\n",
    "  <tr style=\"background:#90ffc8\">\n",
    "    <th style=\"text-align:left\">Actividad</th>\n",
    "    <th style=\"text-align:left\">Objetivo</th> \n",
    "  </tr>\n",
    "  <tr>\n",
    "    <td style=\"text-align:left\">Repaso</td>\n",
    "    <td style=\"text-align:left\"><ul>\n",
    "        <li>Funciones.</li>\n",
    "        <li>HTML.</li>\n",
    "        <li>Scraping.</li>\n",
    "    </ul></td> \n",
    "  </tr>\n",
    "    \n",
    "  <tr>\n",
    "    <td style=\"text-align:left\">Ejercicios con funciones</td>\n",
    "    <td style=\"text-align:left\"><ul>\n",
    "        <li>Espejo</li>\n",
    "        <li>Busca números</li>\n",
    "    </ul></td> \n",
    "  </tr>\n",
    "    \n",
    "   <tr>\n",
    "    <td style=\"text-align:left\">Ejercicios de Scraping</td>\n",
    "    <td style=\"text-align:left\"><ul>\n",
    "        <li>Extrayendo la etiqueta que queremos.</li>\n",
    "        <li>PIB por país.</li>\n",
    "    </ul></td> \n",
    "  </tr>\n",
    "    \n",
    "   <tr>\n",
    "    <td style=\"text-align:left\">Propuestos</td>\n",
    "    <td style=\"text-align:left\"><ul>\n",
    "        <li>¿Qué tienes para mi Kattis?</li>\n",
    "    </ul></td> \n",
    "  </tr>\n",
    "    \n",
    "   <tr>\n",
    "    <td style=\"text-align:left\">Cierre</td>\n",
    "    <td style=\"text-align:left\"><ul>\n",
    "        <li>Dudas ayudantía</li>\n",
    "    </ul></td> \n",
    "  </tr>\n",
    "  \n",
    "</table>"
   ]
  },
  {
   "cell_type": "markdown",
   "metadata": {},
   "source": [
    "<h3>Repaso</h3>\n",
    "<hr />"
   ]
  },
  {
   "cell_type": "markdown",
   "metadata": {},
   "source": [
    "#### Funciones\n",
    "Las funciones nos sirven para llamar por un nombre a un conjunto de acciones determinadas que necesitaremos realizar en el futuro. Vea el siguiente ejemplo y pruebe agregar la linea \"global s\" al inicio de la función. ¿Cómo cambiarán los resultados?"
   ]
  },
  {
   "cell_type": "code",
   "execution_count": 2,
   "metadata": {},
   "outputs": [
    {
     "name": "stdout",
     "output_type": "stream",
     "text": [
      "El valor de s es localmente 2\n",
      "El valor de s es globalmente 24\n"
     ]
    }
   ],
   "source": [
    "s = 24\n",
    "\n",
    "def mi_funcion(): #Definimos una función de la siguiente forma def nombre_de_mi_funcion():\n",
    "    s = 2\n",
    "    print('El valor de s es localmente %i' %s)\n",
    "    return s\n",
    "\n",
    "mi_funcion()\n",
    "print('El valor de s es globalmente %i' %s)"
   ]
  },
  {
   "cell_type": "markdown",
   "metadata": {},
   "source": [
    "----------\n",
    "También podemos establecer parámetors default, de forma que no obtengamos algún error si es que alguien olvida definir una acción."
   ]
  },
  {
   "cell_type": "code",
   "execution_count": 9,
   "metadata": {},
   "outputs": [
    {
     "name": "stdout",
     "output_type": "stream",
     "text": [
      "No volveré a olvidar escribir un parámetro No volveré a olvidar escribir un parámetro No volveré a olvidar escribir un parámetro No volveré a olvidar escribir un parámetro No volveré a olvidar escribir un parámetro No volveré a olvidar escribir un parámetro No volveré a olvidar escribir un parámetro No volveré a olvidar escribir un parámetro No volveré a olvidar escribir un parámetro No volveré a olvidar escribir un parámetro No volveré a olvidar escribir un parámetro No volveré a olvidar escribir un parámetro No volveré a olvidar escribir un parámetro No volveré a olvidar escribir un parámetro No volveré a olvidar escribir un parámetro No volveré a olvidar escribir un parámetro No volveré a olvidar escribir un parámetro No volveré a olvidar escribir un parámetro No volveré a olvidar escribir un parámetro No volveré a olvidar escribir un parámetro No volveré a olvidar escribir un parámetro No volveré a olvidar escribir un parámetro No volveré a olvidar escribir un parámetro No volveré a olvidar escribir un parámetro No volveré a olvidar escribir un parámetro No volveré a olvidar escribir un parámetro No volveré a olvidar escribir un parámetro No volveré a olvidar escribir un parámetro No volveré a olvidar escribir un parámetro No volveré a olvidar escribir un parámetro No volveré a olvidar escribir un parámetro No volveré a olvidar escribir un parámetro No volveré a olvidar escribir un parámetro No volveré a olvidar escribir un parámetro No volveré a olvidar escribir un parámetro No volveré a olvidar escribir un parámetro No volveré a olvidar escribir un parámetro No volveré a olvidar escribir un parámetro No volveré a olvidar escribir un parámetro No volveré a olvidar escribir un parámetro No volveré a olvidar escribir un parámetro No volveré a olvidar escribir un parámetro No volveré a olvidar escribir un parámetro No volveré a olvidar escribir un parámetro No volveré a olvidar escribir un parámetro No volveré a olvidar escribir un parámetro No volveré a olvidar escribir un parámetro No volveré a olvidar escribir un parámetro No volveré a olvidar escribir un parámetro No volveré a olvidar escribir un parámetro \n"
     ]
    }
   ],
   "source": [
    "def pizarra(texto, num=50):\n",
    "    print(texto * num)\n",
    "\n",
    "pizarra(\"No volveré a olvidar escribir un parámetro \")"
   ]
  },
  {
   "cell_type": "markdown",
   "metadata": {},
   "source": [
    "----------\n",
    "Además, las funciones también soportan control de flujo dentro de ellas, de forma que podemos evaluar diferentes casos, como vieron en la tarea 2."
   ]
  },
  {
   "cell_type": "code",
   "execution_count": 12,
   "metadata": {},
   "outputs": [
    {
     "name": "stdout",
     "output_type": "stream",
     "text": [
      "Por favor escriba 2 números: 5 5\n",
      "5 es igual a 5\n"
     ]
    }
   ],
   "source": [
    "def menor_valor(a, b):\n",
    "    if a < b:\n",
    "        print(a, 'es menor')\n",
    "    elif a == b:\n",
    "        print('%i es igual a %i' % (a,b))\n",
    "    else:\n",
    "        print(b, 'es menor')\n",
    "\n",
    "# directly pass literal values\n",
    "v1, v2 = input(\"Por favor escriba 2 números: \").strip().split()\n",
    "\n",
    "menor_valor(int(v1),int(v2))"
   ]
  },
  {
   "cell_type": "markdown",
   "metadata": {},
   "source": [
    "#### HTML\n",
    "Html no es un lenguaje de programación, sino uno de etiquetado. Este nos permite marcar a qué corresponde cada elemento de un sitio web, definir identificadores y/o clases para cada elemento, para luego añadir diseños o establecer acciones con otros programas. A continuación podrán ver una estructura básica de html."
   ]
  },
  {
   "cell_type": "raw",
   "metadata": {},
   "source": [
    "<!DOCTYPE html>\n",
    "<html>\n",
    "<head>\n",
    "<title>Página del sitio</title>\n",
    "</head>\n",
    "<body>\n",
    "\n",
    "Títulos: <h1>Título 1</h1><h2>Título 2</h2><h3>Título 3</h3>\n",
    "\n",
    "Espaciado: <br/>\n",
    "\n",
    "Contenedor: <div> </div>\n",
    "Párrafo: <p>Esto es un parrafo.</p>\n",
    "Link: <a href=\"dirección del sitio web\">Link</a>\n",
    "\n",
    "</body>\n",
    "</html>"
   ]
  },
  {
   "cell_type": "markdown",
   "metadata": {},
   "source": [
    "Existen muchas más etiquetas en html como veremos ahora. Dirígase a [este sitio](http://economiayadministracion.uc.cl/pregrado/malla/) en donde continuaremos viendo lo básico de este lenguaje, utilizando la opción \"inspeccionar\" del navegador."
   ]
  },
  {
   "cell_type": "markdown",
   "metadata": {},
   "source": [
    "#### Web Scraping básico:\n",
    "En ocasiones querremos extraer ciertos datos o información desde la web de forma automática para su posterior análisis. Esto se puede lograr mediante técnicas de web-scraping que nos permiten extraer específicamente los elementos que queremos de la web.\n",
    "Para ello, utilizaremos las librerías \"requests\" y \"bs4\" (ambos incluidos en Anaconda), además del conocimiento básico que tienen de HTML."
   ]
  },
  {
   "cell_type": "code",
   "execution_count": 13,
   "metadata": {},
   "outputs": [
    {
     "data": {
      "text/plain": [
       "<Response [200]>"
      ]
     },
     "execution_count": 13,
     "metadata": {},
     "output_type": "execute_result"
    }
   ],
   "source": [
    "import requests\n",
    "from bs4 import BeautifulSoup\n",
    "page = requests.get(\"http://economiayadministracion.uc.cl/category/novedades/\")\n",
    "page #Debiesemos recibir un <Response [200]>, indicando que obtuvimos correctamente la página web.\n",
    "\n",
    "#print(page.content) #Claramente necesitaremos limpiar este código."
   ]
  },
  {
   "cell_type": "markdown",
   "metadata": {},
   "source": [
    "Para poder limpiar toda la información que obtuvimos y posteriormente poder navegar a través de esta, utilizamos la módulo BeautifulSoup de la librería bs4 mencionada anteriormente."
   ]
  },
  {
   "cell_type": "code",
   "execution_count": 15,
   "metadata": {},
   "outputs": [],
   "source": [
    "soup = BeautifulSoup(page.content, 'html.parser')\n",
    "#print(soup.prettify()) #Observemos los cambios"
   ]
  },
  {
   "cell_type": "markdown",
   "metadata": {},
   "source": [
    "Ahora que tenemos un código html ya limpio, podemos buscar dentro de éste, ya sea por atributo, etiqueta o clase.\n",
    "<br/> Veamos un ejemplo:"
   ]
  },
  {
   "cell_type": "code",
   "execution_count": 24,
   "metadata": {},
   "outputs": [],
   "source": [
    "comercial = soup.find_all('p') #Esto hará que la variable comercial almacene todos los atributos <p>...</p>\n",
    "\n",
    "#for x in comercial:\n",
    "#    print(x) #Imprimimos nuestro botín."
   ]
  },
  {
   "cell_type": "markdown",
   "metadata": {},
   "source": [
    "Supongamos, por ejemplo, que queremos extraer el enunciado de la primera noticia de la página de ingeniería comercial uc. En ese caso lo podríamos hacer, mediante la siguiente acción."
   ]
  },
  {
   "cell_type": "code",
   "execution_count": 25,
   "metadata": {},
   "outputs": [
    {
     "name": "stdout",
     "output_type": "stream",
     "text": [
      "El próximo martes 4 de septiembre la Facultad de Ciencias Económicas y Administrativas recibirá un concierto en el que participará el estudiante de Ingeniería Comercial y pianista, Martín Cruzat junto al reconocido violinista alemán, Manuel Druminski. Manuel Druminski ha recorrido el mundo de la mano de su violín. Así ha tocado en diversas ciudades de […]\n"
     ]
    }
   ],
   "source": [
    "primera = soup.find_all('p')[0].get_text()\n",
    "print(primera)"
   ]
  },
  {
   "cell_type": "markdown",
   "metadata": {},
   "source": [
    "--------------\n",
    "La misma acción de busqueda la podemos realizar tanto mediante id, como mediante clases. En estos casos simplemente alteramos un poco el método find."
   ]
  },
  {
   "cell_type": "code",
   "execution_count": 35,
   "metadata": {},
   "outputs": [],
   "source": [
    "por_identificador = list(soup.find(id=\"listado-contenido\").children)\n",
    "#print(por_identificador)\n",
    "\n",
    "por_clase = soup.find_all(class_=\"grid_5 last\")[0].get_text()\n",
    "#print(por_clase)"
   ]
  },
  {
   "cell_type": "markdown",
   "metadata": {},
   "source": [
    "---------\n",
    "Durante las próximas semanas estaremos trabajando estos métodos, interactuando también con expresiones regulares para poder realizar acciones más complejas.\n",
    "Por mientras, les recomiendo leer la [API de la librería](https://www.crummy.com/software/BeautifulSoup/bs4/doc/) para aprender más al respecto."
   ]
  },
  {
   "cell_type": "markdown",
   "metadata": {},
   "source": [
    "<h2>Ejercicios</h2><br/>\n",
    "\n",
    "#### Ejercicio 1:\n",
    "Escriba una función que invierta sus palabras. Es decir, que al ingresar una palabra como, por ejemplo, \"espejo\", esta devuelva la misma palabra, pero escrita al revés."
   ]
  },
  {
   "cell_type": "code",
   "execution_count": 16,
   "metadata": {},
   "outputs": [
    {
     "name": "stdout",
     "output_type": "stream",
     "text": [
      "Escriba su palabra: join the navy\n",
      "yvan eht nioj\n"
     ]
    }
   ],
   "source": []
  },
  {
   "cell_type": "markdown",
   "metadata": {},
   "source": [
    "#### Ejercicio 2:\n",
    "Genere una función con cuatro parámetros que busque los números entre dos valores (incluyendolos) que sean divisibles por un número, pero no por otro (ambos dados). Cree la función de tal forma que si ningún parámetro es introducido, ésta busque los números entre 120 y 556 que son divisibles por 5, pero no por 10."
   ]
  },
  {
   "cell_type": "code",
   "execution_count": 29,
   "metadata": {},
   "outputs": [
    {
     "name": "stdout",
     "output_type": "stream",
     "text": [
      "125,135,145,155,165,175,185,195,205,215,225,235,245,255,265,275,285,295,305,315,325,335,345,355,365,375,385,395,405,415,425,435,445,455,465,475,485,495,505,515,525,535,545,555\n",
      "5,15,25,35,45,55,65,75,85,95\n"
     ]
    }
   ],
   "source": []
  },
  {
   "cell_type": "markdown",
   "metadata": {},
   "source": [
    "#### Ejercicio 3\n",
    "Descargue todos los links de la primera página de problemas de Kattis y almacenelos en un archivo .txt"
   ]
  },
  {
   "cell_type": "code",
   "execution_count": 63,
   "metadata": {},
   "outputs": [],
   "source": []
  },
  {
   "cell_type": "markdown",
   "metadata": {},
   "source": [
    "#### Ejercicio 4\n",
    "Importe la primera tabla del [siguiente sitio web](https://goo.gl/XYkyoa) y, utilizando pandas, recreela hasta los primeros 10 países.\n"
   ]
  },
  {
   "cell_type": "code",
   "execution_count": 62,
   "metadata": {
    "scrolled": false
   },
   "outputs": [
    {
     "data": {
      "text/html": [
       "<div>\n",
       "<style scoped>\n",
       "    .dataframe tbody tr th:only-of-type {\n",
       "        vertical-align: middle;\n",
       "    }\n",
       "\n",
       "    .dataframe tbody tr th {\n",
       "        vertical-align: top;\n",
       "    }\n",
       "\n",
       "    .dataframe thead th {\n",
       "        text-align: right;\n",
       "    }\n",
       "</style>\n",
       "<table border=\"1\" class=\"dataframe\">\n",
       "  <thead>\n",
       "    <tr style=\"text-align: right;\">\n",
       "      <th></th>\n",
       "      <th></th>\n",
       "      <th>PIB</th>\n",
       "    </tr>\n",
       "    <tr>\n",
       "      <th>Posición</th>\n",
       "      <th>País</th>\n",
       "      <th></th>\n",
       "    </tr>\n",
       "  </thead>\n",
       "  <tbody>\n",
       "    <tr>\n",
       "      <th></th>\n",
       "      <th>Mundo</th>\n",
       "      <td>79 865 481</td>\n",
       "    </tr>\n",
       "    <tr>\n",
       "      <th>1</th>\n",
       "      <th>Estados Unidos</th>\n",
       "      <td>20 412 870</td>\n",
       "    </tr>\n",
       "    <tr>\n",
       "      <th></th>\n",
       "      <th>Unión Europea</th>\n",
       "      <td>19 669 743</td>\n",
       "    </tr>\n",
       "    <tr>\n",
       "      <th>2</th>\n",
       "      <th>China</th>\n",
       "      <td>14 092 514</td>\n",
       "    </tr>\n",
       "    <tr>\n",
       "      <th>3</th>\n",
       "      <th>Japón</th>\n",
       "      <td>5 167 051</td>\n",
       "    </tr>\n",
       "    <tr>\n",
       "      <th>4</th>\n",
       "      <th>Alemania</th>\n",
       "      <td>4 211 635</td>\n",
       "    </tr>\n",
       "    <tr>\n",
       "      <th>5</th>\n",
       "      <th>Reino Unido</th>\n",
       "      <td>2 936 286</td>\n",
       "    </tr>\n",
       "    <tr>\n",
       "      <th>6</th>\n",
       "      <th>Francia</th>\n",
       "      <td>2 925 096</td>\n",
       "    </tr>\n",
       "    <tr>\n",
       "      <th>7</th>\n",
       "      <th>India</th>\n",
       "      <td>2 848 231</td>\n",
       "    </tr>\n",
       "    <tr>\n",
       "      <th>8</th>\n",
       "      <th>Italia</th>\n",
       "      <td>2 181 970</td>\n",
       "    </tr>\n",
       "    <tr>\n",
       "      <th>9</th>\n",
       "      <th>Brasil</th>\n",
       "      <td>2 138 918</td>\n",
       "    </tr>\n",
       "    <tr>\n",
       "      <th>10</th>\n",
       "      <th>Canadá</th>\n",
       "      <td>1 798 512</td>\n",
       "    </tr>\n",
       "  </tbody>\n",
       "</table>\n",
       "</div>"
      ],
      "text/plain": [
       "                                PIB\n",
       "Posición País                      \n",
       "         Mundo           79 865 481\n",
       "1        Estados Unidos  20 412 870\n",
       "         Unión Europea   19 669 743\n",
       "2        China           14 092 514\n",
       "3        Japón            5 167 051\n",
       "4        Alemania         4 211 635\n",
       "5        Reino Unido      2 936 286\n",
       "6        Francia          2 925 096\n",
       "7        India            2 848 231\n",
       "8        Italia           2 181 970\n",
       "9        Brasil           2 138 918\n",
       "10       Canadá           1 798 512"
      ]
     },
     "execution_count": 62,
     "metadata": {},
     "output_type": "execute_result"
    }
   ],
   "source": [
    "import pandas as pd #Nos permitirá tratar las tablas.\n",
    "import requests\n",
    "from bs4 import BeautifulSoup\n",
    "\n",
    "data = []\n",
    "url = \"https://es.wikipedia.org/wiki/Anexo:Pa%C3%ADses_por_PIB_(nominal)\"\n",
    "page = requests.get(url)\n",
    "html = BeautifulSoup(page.content, 'html.parser')\n",
    "table = html.find_all(\"table\", attrs={'class':\"sortable\"})[0]\n",
    "rows = table.find_all('tr')[1:]\n",
    "\n",
    "for x in rows:\n",
    "    cols = x.find_all('td')\n",
    "    if x.find('a'):\n",
    "        cols[1] = cols[1].find_all('span')[0]\n",
    "        \n",
    "    cols = [ele.text.strip() for ele in cols]\n",
    "\n",
    "    data.append(cols)\n",
    "\n",
    "df = pd.DataFrame.from_records(data = data,columns = ['Posición', \"País\", \"PIB\"])\n",
    "df.set_index(['Posición', \"País\"], inplace=True)\n",
    "df.iloc[range(12)]"
   ]
  },
  {
   "cell_type": "markdown",
   "metadata": {},
   "source": [
    "<h2>Ejercicios Propuestos</h2>"
   ]
  },
  {
   "cell_type": "markdown",
   "metadata": {},
   "source": [
    "### Ejercicio 1\n",
    "En base al ejercicio 3, cree una función que descargue todos los links de los problemas de Kattis. Es importante que sean solo links de los problemas y que se llegue hasta la última página, identificando correctamente cuál es esta."
   ]
  },
  {
   "cell_type": "code",
   "execution_count": 62,
   "metadata": {},
   "outputs": [
    {
     "name": "stdout",
     "output_type": "stream",
     "text": [
      "La última página con ejercicios es la número 20\n"
     ]
    }
   ],
   "source": []
  },
  {
   "cell_type": "markdown",
   "metadata": {},
   "source": [
    "<hr style=\"color=orange; border-color:red; height:2px; background:orange\" />\n",
    "<h2 style=\"text-align:center; font-weight:bold;\">¿Dudas?</h2>"
   ]
  }
 ],
 "metadata": {
  "kernelspec": {
   "display_name": "Python 3",
   "language": "python",
   "name": "python3"
  },
  "language_info": {
   "codemirror_mode": {
    "name": "ipython",
    "version": 3
   },
   "file_extension": ".py",
   "mimetype": "text/x-python",
   "name": "python",
   "nbconvert_exporter": "python",
   "pygments_lexer": "ipython3",
   "version": "3.6.5"
  }
 },
 "nbformat": 4,
 "nbformat_minor": 2
}
