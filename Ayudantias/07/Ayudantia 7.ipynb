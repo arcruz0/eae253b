{
 "cells": [
  {
   "cell_type": "markdown",
   "metadata": {},
   "source": [
    "<center><h1>Ayudantía 7</h1></center>\n",
    "<hr style=\"color=skyblue; border-color:skyblue\"/>\n",
    "<div style=\"display:inline-block;float:left\"><h3>Profesor: Carlos Alvarado</h3></div>\n",
    "<div style=\"display:inline-block;float:right\"><h3>Ayudante: Pablo González</h3></div>\n",
    "\n",
    "\n",
    "<table style=\"width:90%; font-size:18px; float:left;color:#333;\">\n",
    "  <tr style=\"background:#90ffc8\">\n",
    "    <th style=\"text-align:left\">Actividad</th>\n",
    "    <th style=\"text-align:left\">Objetivo</th> \n",
    "  </tr>\n",
    "  <tr>\n",
    "    <td style=\"text-align:left\">Repaso SQL</td>\n",
    "    <td style=\"text-align:left\"><ul>\n",
    "        <li>Código</li>\n",
    "        <li>Relación con Access</li>\n",
    "        <li>Librería pyodbc</li>\n",
    "    </ul></td> \n",
    "  </tr>\n",
    "    \n",
    "  <tr>\n",
    "    <td style=\"text-align:left\">Ejercicios básicos con SQL</td>\n",
    "    <td style=\"text-align:left\"><ul>\n",
    "        <li>Uso de SQL + Python</li>\n",
    "        <li>Explorar db de inmigración</li>\n",
    "    </ul></td> \n",
    "  </tr>\n",
    "    \n",
    "   <tr>\n",
    "    <td style=\"text-align:left\">Propuestos</td>\n",
    "    <td style=\"text-align:left\"><ul>\n",
    "        <li>Modificar db</li>\n",
    "    </ul></td>\n",
    "  </tr>\n",
    "    \n",
    "   <tr>\n",
    "    <td style=\"text-align:left\">Cierre</td>\n",
    "    <td style=\"text-align:left\"><ul>\n",
    "        <li>Dudas ayudantía</li>\n",
    "        <li>Dudas tarea </li>\n",
    "    </ul></td> \n",
    "  </tr>\n",
    "  \n",
    "</table>"
   ]
  },
  {
   "cell_type": "markdown",
   "metadata": {},
   "source": [
    "<h3>Repaso</h3>\n",
    "<hr />"
   ]
  },
  {
   "cell_type": "markdown",
   "metadata": {},
   "source": [
    "#### Código SQL\n",
    "Algunso comandos básicos que usaremos. <br/>\n",
    "Si quieren aprender más y practicar, les recomiendo el siguiente [sitio web](https://www.w3schools.com/sql/)"
   ]
  },
  {
   "cell_type": "raw",
   "metadata": {},
   "source": [
    "SELECT [COLUMNA(S)] FROM [NOMBRE DE LA TABLA]; <- Nos permite seleccionar (filtrar) los datos que queramos.\n",
    "\n",
    "SELECT [COLUMNA(S)] FROM [NOMBRE DE LA TABLA] WHERE (NOT) [CONDICIÓN1] AND/OR [CONDICION2]; \n",
    "Nos permite agregar condiciones a nuestra selección.\n",
    "\n",
    "SELECT [COLUMNA(S)] FROM [NOMBRE DE LA TABLA] ORDER BY [COLUMNA(S) QUE USAREMOS COMO INDICE] ASC/DESC;\n",
    "Mediante el comando Order by, podemos ordenar nuestras consultas como queramos.\n",
    "\n",
    "INSERT INTO [NOMBRE DE LA TABLA] ([COLUMNA(S)]) VALUES ([VALORES A INSERTAR EN CADA COLUMNA MENCIONADA]);\n",
    "Esto nos permite insertar una nueva observacion los valores que queramos. En caso de que omitamos alguna columna, esta quedará en blanco o con el valor predeterminado.\n",
    "\n",
    "DELETE [COLUMNA(S)] FROM [NOMBRE DE LA TABLA] WHERE condition;\n",
    "NOS PERMITE ELIMINAR COLUMNAS/OBSERVACIONES, SEGÚN LO NECESITEMOS.\n",
    "\n",
    "LA SEPARACIÓN EN [COLUMNA(S) SE REALIZA MEDIANTE UNA COMA (,).\n",
    "SI QUEREMOS ELEGIR TODAS LAS COLUMNAS, SIMPLEMENTE ESCRIBIMOS *"
   ]
  },
  {
   "cell_type": "markdown",
   "metadata": {},
   "source": [
    "#### Relación entre SQL y Access\n",
    "SQL es un lenguaje para trabajar con bases de datos del cual el software Accessse basa para realizar consultas a nuestros conjuntos de datos y relacionarlos.\n",
    "¿De qué nos sirve saber esto? Esto nos permite practicar el lenguaje en cualquier computador con Microsoft Access, aunque no tenga servidores como Mysql instalados y, además, relacionar los conocimientos antes ya obtenidos en el \"Taller de computación II\", para facilitar el aprendizaje de este lenguaje y la estructura de las bases de datos. "
   ]
  },
  {
   "cell_type": "markdown",
   "metadata": {},
   "source": [
    "![SQL en Access](access.png)"
   ]
  },
  {
   "cell_type": "markdown",
   "metadata": {},
   "source": [
    "#### Librería pyodbc\n",
    "Esta librería nos permite conectarnos con diferentes fuentes de base de datos y ejecutar consultas a través del lenguaje SQL. A continuación trabajaremos con una base de datos en formato Access, pero también podríamos conectarnos a un archivo excel o incluso a un servidor. <br />\n",
    "Para acostumbrarse a pyodbc, se recomienda revisar la [API de la librería](https://github.com/mkleehammer/pyodbc/wiki) antes del día de la ayudantía."
   ]
  },
  {
   "cell_type": "markdown",
   "metadata": {},
   "source": [
    "<h3>Ejercicios</h3>\n",
    "<hr />"
   ]
  },
  {
   "cell_type": "markdown",
   "metadata": {},
   "source": [
    "Primero revise si cuenta con lo necesario para conectarse a un archivo accdb, con el que trabajaremos temporalmente. En caso de obtener un resultado vacío, dirijase al [siguiente sitio](https://www.microsoft.com/en-US/download/details.aspx?id=13255) o, en caso de usar Mac, desde el [siguiente sitio](http://www.iodbc.org/dataspace/doc/iodbc/wiki/iodbcWiki/Downloads)"
   ]
  },
  {
   "cell_type": "code",
   "execution_count": 9,
   "metadata": {},
   "outputs": [
    {
     "data": {
      "text/plain": [
       "['Microsoft Access Driver (*.mdb, *.accdb)']"
      ]
     },
     "execution_count": 9,
     "metadata": {},
     "output_type": "execute_result"
    }
   ],
   "source": [
    "import pyodbc\n",
    "[x for x in pyodbc.drivers() if x.startswith('Microsoft Access Driver')]"
   ]
  },
  {
   "cell_type": "markdown",
   "metadata": {},
   "source": [
    "#### Ejercicio 1\n",
    "Descargue la base de datos necesaria [aquí](https://drive.google.com/file/d/14PpQnrjP9kXdTTkX8Ua6fFyd7zyAXCaF/view?usp=sharing) <br/>\n",
    "Conectese a la base de datos \"db.accdb\" e imprima el nombre de las tablas. Esta base de datos proviene de [datachile](https://en.datachile.io/about/data)"
   ]
  },
  {
   "cell_type": "code",
   "execution_count": 11,
   "metadata": {},
   "outputs": [],
   "source": [
    "from os import getcwd\n",
    "import pyodbc\n",
    "controlador = \"Microsoft Access Driver (*.mdb, *.accdb)\"\n",
    "directorio = getcwd() + \"\\db.accdb\"\n",
    "conn = pyodbc.connect(r\"Driver={%s};DBQ=%s;\" % (controlador, directorio))\n",
    "cursor = conn.cursor()"
   ]
  },
  {
   "cell_type": "code",
   "execution_count": 19,
   "metadata": {},
   "outputs": [
    {
     "name": "stdout",
     "output_type": "stream",
     "text": [
      "Actividad\n",
      "Estudios\n",
      "Sexo\n",
      "TIpo de visa\n",
      "Visas\n"
     ]
    }
   ],
   "source": [
    "for table_info in cursor.tables(tableType='TABLE'):\n",
    "    print(table_info.table_name)"
   ]
  },
  {
   "cell_type": "markdown",
   "metadata": {},
   "source": [
    "#### Ejercicio 2\n",
    "Obtenga\n",
    "(a) El número de visas de la cual esta base de datos contiene información.\n",
    "(b) Separe dicho número por año."
   ]
  },
  {
   "cell_type": "code",
   "execution_count": 82,
   "metadata": {},
   "outputs": [
    {
     "data": {
      "text/plain": [
       "1494873"
      ]
     },
     "execution_count": 82,
     "metadata": {},
     "output_type": "execute_result"
    }
   ],
   "source": []
  },
  {
   "cell_type": "code",
   "execution_count": 81,
   "metadata": {},
   "outputs": [
    {
     "data": {
      "text/html": [
       "<div>\n",
       "<style scoped>\n",
       "    .dataframe tbody tr th:only-of-type {\n",
       "        vertical-align: middle;\n",
       "    }\n",
       "\n",
       "    .dataframe tbody tr th {\n",
       "        vertical-align: top;\n",
       "    }\n",
       "\n",
       "    .dataframe thead th {\n",
       "        text-align: right;\n",
       "    }\n",
       "</style>\n",
       "<table border=\"1\" class=\"dataframe\">\n",
       "  <thead>\n",
       "    <tr style=\"text-align: right;\">\n",
       "      <th></th>\n",
       "      <th>Año</th>\n",
       "      <th>Número de visas</th>\n",
       "    </tr>\n",
       "  </thead>\n",
       "  <tbody>\n",
       "    <tr>\n",
       "      <th>0</th>\n",
       "      <td>2005</td>\n",
       "      <td>53187</td>\n",
       "    </tr>\n",
       "    <tr>\n",
       "      <th>1</th>\n",
       "      <td>2006</td>\n",
       "      <td>61884</td>\n",
       "    </tr>\n",
       "    <tr>\n",
       "      <th>2</th>\n",
       "      <td>2007</td>\n",
       "      <td>102471</td>\n",
       "    </tr>\n",
       "    <tr>\n",
       "      <th>3</th>\n",
       "      <td>2008</td>\n",
       "      <td>85132</td>\n",
       "    </tr>\n",
       "    <tr>\n",
       "      <th>4</th>\n",
       "      <td>2009</td>\n",
       "      <td>101559</td>\n",
       "    </tr>\n",
       "    <tr>\n",
       "      <th>5</th>\n",
       "      <td>2010</td>\n",
       "      <td>85339</td>\n",
       "    </tr>\n",
       "    <tr>\n",
       "      <th>6</th>\n",
       "      <td>2011</td>\n",
       "      <td>98506</td>\n",
       "    </tr>\n",
       "    <tr>\n",
       "      <th>7</th>\n",
       "      <td>2012</td>\n",
       "      <td>132218</td>\n",
       "    </tr>\n",
       "    <tr>\n",
       "      <th>8</th>\n",
       "      <td>2013</td>\n",
       "      <td>157999</td>\n",
       "    </tr>\n",
       "    <tr>\n",
       "      <th>9</th>\n",
       "      <td>2014</td>\n",
       "      <td>173216</td>\n",
       "    </tr>\n",
       "    <tr>\n",
       "      <th>10</th>\n",
       "      <td>2015</td>\n",
       "      <td>215109</td>\n",
       "    </tr>\n",
       "    <tr>\n",
       "      <th>11</th>\n",
       "      <td>2016</td>\n",
       "      <td>228253</td>\n",
       "    </tr>\n",
       "  </tbody>\n",
       "</table>\n",
       "</div>"
      ],
      "text/plain": [
       "     Año  Número de visas\n",
       "0   2005            53187\n",
       "1   2006            61884\n",
       "2   2007           102471\n",
       "3   2008            85132\n",
       "4   2009           101559\n",
       "5   2010            85339\n",
       "6   2011            98506\n",
       "7   2012           132218\n",
       "8   2013           157999\n",
       "9   2014           173216\n",
       "10  2015           215109\n",
       "11  2016           228253"
      ]
     },
     "execution_count": 81,
     "metadata": {},
     "output_type": "execute_result"
    }
   ],
   "source": []
  },
  {
   "cell_type": "markdown",
   "metadata": {},
   "source": [
    "#### Ejercicio 3\n",
    "Calcule el promedio de edad de los solicitantes de visa por año. Recuerde que la edad es un número entero."
   ]
  },
  {
   "cell_type": "code",
   "execution_count": 80,
   "metadata": {},
   "outputs": [
    {
     "data": {
      "text/html": [
       "<div>\n",
       "<style scoped>\n",
       "    .dataframe tbody tr th:only-of-type {\n",
       "        vertical-align: middle;\n",
       "    }\n",
       "\n",
       "    .dataframe tbody tr th {\n",
       "        vertical-align: top;\n",
       "    }\n",
       "\n",
       "    .dataframe thead th {\n",
       "        text-align: right;\n",
       "    }\n",
       "</style>\n",
       "<table border=\"1\" class=\"dataframe\">\n",
       "  <thead>\n",
       "    <tr style=\"text-align: right;\">\n",
       "      <th></th>\n",
       "      <th>Año</th>\n",
       "      <th>Edad promedio</th>\n",
       "    </tr>\n",
       "  </thead>\n",
       "  <tbody>\n",
       "    <tr>\n",
       "      <th>0</th>\n",
       "      <td>2005</td>\n",
       "      <td>30.0</td>\n",
       "    </tr>\n",
       "    <tr>\n",
       "      <th>1</th>\n",
       "      <td>2006</td>\n",
       "      <td>30.0</td>\n",
       "    </tr>\n",
       "    <tr>\n",
       "      <th>2</th>\n",
       "      <td>2007</td>\n",
       "      <td>30.0</td>\n",
       "    </tr>\n",
       "    <tr>\n",
       "      <th>3</th>\n",
       "      <td>2008</td>\n",
       "      <td>30.0</td>\n",
       "    </tr>\n",
       "    <tr>\n",
       "      <th>4</th>\n",
       "      <td>2009</td>\n",
       "      <td>30.0</td>\n",
       "    </tr>\n",
       "    <tr>\n",
       "      <th>5</th>\n",
       "      <td>2010</td>\n",
       "      <td>30.0</td>\n",
       "    </tr>\n",
       "    <tr>\n",
       "      <th>6</th>\n",
       "      <td>2011</td>\n",
       "      <td>30.0</td>\n",
       "    </tr>\n",
       "    <tr>\n",
       "      <th>7</th>\n",
       "      <td>2012</td>\n",
       "      <td>30.0</td>\n",
       "    </tr>\n",
       "    <tr>\n",
       "      <th>8</th>\n",
       "      <td>2013</td>\n",
       "      <td>30.0</td>\n",
       "    </tr>\n",
       "    <tr>\n",
       "      <th>9</th>\n",
       "      <td>2014</td>\n",
       "      <td>30.0</td>\n",
       "    </tr>\n",
       "    <tr>\n",
       "      <th>10</th>\n",
       "      <td>2015</td>\n",
       "      <td>30.0</td>\n",
       "    </tr>\n",
       "    <tr>\n",
       "      <th>11</th>\n",
       "      <td>2016</td>\n",
       "      <td>30.0</td>\n",
       "    </tr>\n",
       "  </tbody>\n",
       "</table>\n",
       "</div>"
      ],
      "text/plain": [
       "     Año  Edad promedio\n",
       "0   2005           30.0\n",
       "1   2006           30.0\n",
       "2   2007           30.0\n",
       "3   2008           30.0\n",
       "4   2009           30.0\n",
       "5   2010           30.0\n",
       "6   2011           30.0\n",
       "7   2012           30.0\n",
       "8   2013           30.0\n",
       "9   2014           30.0\n",
       "10  2015           30.0\n",
       "11  2016           30.0"
      ]
     },
     "execution_count": 80,
     "metadata": {},
     "output_type": "execute_result"
    }
   ],
   "source": []
  },
  {
   "cell_type": "markdown",
   "metadata": {},
   "source": [
    "#### Ejercicio 4\n",
    "Muestre en una tabla el total de visas entregadas entre los años 2005 y 2016, separándaolas según su tipo."
   ]
  },
  {
   "cell_type": "code",
   "execution_count": 78,
   "metadata": {},
   "outputs": [
    {
     "data": {
      "text/html": [
       "<div>\n",
       "<style scoped>\n",
       "    .dataframe tbody tr th:only-of-type {\n",
       "        vertical-align: middle;\n",
       "    }\n",
       "\n",
       "    .dataframe tbody tr th {\n",
       "        vertical-align: top;\n",
       "    }\n",
       "\n",
       "    .dataframe thead th {\n",
       "        text-align: right;\n",
       "    }\n",
       "</style>\n",
       "<table border=\"1\" class=\"dataframe\">\n",
       "  <thead>\n",
       "    <tr style=\"text-align: right;\">\n",
       "      <th></th>\n",
       "      <th>Tipo de Visa</th>\n",
       "      <th>Cantidad</th>\n",
       "    </tr>\n",
       "  </thead>\n",
       "  <tbody>\n",
       "    <tr>\n",
       "      <th>0</th>\n",
       "      <td>Estudiante</td>\n",
       "      <td>25570</td>\n",
       "    </tr>\n",
       "    <tr>\n",
       "      <th>1</th>\n",
       "      <td>Permanencia Definitiva</td>\n",
       "      <td>323026</td>\n",
       "    </tr>\n",
       "    <tr>\n",
       "      <th>2</th>\n",
       "      <td>Permanencia Definitiva Por Gracia</td>\n",
       "      <td>695</td>\n",
       "    </tr>\n",
       "    <tr>\n",
       "      <th>3</th>\n",
       "      <td>Sin Beneficio</td>\n",
       "      <td>1</td>\n",
       "    </tr>\n",
       "    <tr>\n",
       "      <th>4</th>\n",
       "      <td>Sujeta A Contrato</td>\n",
       "      <td>433023</td>\n",
       "    </tr>\n",
       "    <tr>\n",
       "      <th>5</th>\n",
       "      <td>Temp. Acuerdo Residencia Mercosur</td>\n",
       "      <td>1</td>\n",
       "    </tr>\n",
       "    <tr>\n",
       "      <th>6</th>\n",
       "      <td>Temporaria</td>\n",
       "      <td>712557</td>\n",
       "    </tr>\n",
       "  </tbody>\n",
       "</table>\n",
       "</div>"
      ],
      "text/plain": [
       "                        Tipo de Visa  Cantidad\n",
       "0                         Estudiante     25570\n",
       "1             Permanencia Definitiva    323026\n",
       "2  Permanencia Definitiva Por Gracia       695\n",
       "3                      Sin Beneficio         1\n",
       "4                  Sujeta A Contrato    433023\n",
       "5  Temp. Acuerdo Residencia Mercosur         1\n",
       "6                         Temporaria    712557"
      ]
     },
     "execution_count": 78,
     "metadata": {},
     "output_type": "execute_result"
    }
   ],
   "source": []
  },
  {
   "cell_type": "markdown",
   "metadata": {},
   "source": [
    "#### Ejercicio 5\n",
    "Cree un nuevo registro en la tabla Estudios. Este será el sexto registro y su valor será \"Curso en Wikipedia\".\n",
    "Dado a que este es el último ejercicio, cierre el cursor y la conexión."
   ]
  },
  {
   "cell_type": "code",
   "execution_count": 114,
   "metadata": {},
   "outputs": [],
   "source": []
  },
  {
   "cell_type": "markdown",
   "metadata": {},
   "source": [
    "<h2>Ejercicios Propuestos</h2>"
   ]
  },
  {
   "cell_type": "markdown",
   "metadata": {},
   "source": [
    "### Ejercicio 1\n",
    "La persona a cargo de esta base de datos notó que se cometieron ciertos errores. A usted se le pide:\n",
    "* Modificar la edad y fecha de nacimiento de la persona asociada a la solicitud de visa número 669768, que realmente tiene 20 años.\n",
    "* Las personas asociadas a las solicitudes número 106781 y 1419667 renunciaron a su postulación a Visa y quieren que borremos su registro."
   ]
  },
  {
   "cell_type": "code",
   "execution_count": null,
   "metadata": {},
   "outputs": [],
   "source": []
  },
  {
   "cell_type": "markdown",
   "metadata": {},
   "source": [
    "<hr style=\"color=orange; border-color:red; height:2px; background:orange\" />\n",
    "<h2 style=\"text-align:center; font-weight:bold;\">¿Dudas o preguntas sobre la tarea?</h2>"
   ]
  }
 ],
 "metadata": {
  "kernelspec": {
   "display_name": "Python 3",
   "language": "python",
   "name": "python3"
  },
  "language_info": {
   "codemirror_mode": {
    "name": "ipython",
    "version": 3
   },
   "file_extension": ".py",
   "mimetype": "text/x-python",
   "name": "python",
   "nbconvert_exporter": "python",
   "pygments_lexer": "ipython3",
   "version": "3.6.5"
  }
 },
 "nbformat": 4,
 "nbformat_minor": 2
}
