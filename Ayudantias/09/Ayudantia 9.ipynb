{
 "cells": [
  {
   "cell_type": "markdown",
   "metadata": {},
   "source": [
    "<center><h1>Ayudantía 9</h1></center>\n",
    "<hr style=\"color=skyblue; border-color:skyblue\"/>\n",
    "<div style=\"display:inline-block;float:left\"><h3>Profesor: Carlos Alvarado</h3></div>\n",
    "<div style=\"display:inline-block;float:right\"><h3>Ayudante: Pablo González</h3></div>\n",
    "\n",
    "\n",
    "<table style=\"width:90%; font-size:18px; float:left;color:#333;\">\n",
    "  <tr style=\"background:#90ffc8\">\n",
    "    <th style=\"text-align:left\">Actividad</th>\n",
    "    <th style=\"text-align:left\">Objetivo</th> \n",
    "  </tr>\n",
    "    \n",
    "  <tr>\n",
    "    <td style=\"text-align:left\">Multiples ejercicios con SQL</td>\n",
    "    <td style=\"text-align:left\"><ul>\n",
    "        <li>Uso de SQL + Python</li>\n",
    "        <li>Explorar db de rendimiento de colegios</li>\n",
    "    </ul></td> \n",
    "  </tr>\n",
    "    \n",
    "   <tr>\n",
    "    <td style=\"text-align:left\">Propuestos</td>\n",
    "    <td style=\"text-align:left\"><ul>\n",
    "        <li>Practicar la selección condicionada</li>\n",
    "        <li>Búsqueda de top X</li>\n",
    "    </ul></td>\n",
    "  </tr>\n",
    "    \n",
    "   <tr>\n",
    "    <td style=\"text-align:left\">Cierre</td>\n",
    "    <td style=\"text-align:left\"><ul>\n",
    "        <li>Dudas ayudantía</li>\n",
    "    </ul></td> \n",
    "  </tr>\n",
    "  \n",
    "</table>"
   ]
  },
  {
   "cell_type": "markdown",
   "metadata": {},
   "source": [
    "<h3>Ejercicios</h3>\n",
    "<hr />"
   ]
  },
  {
   "cell_type": "markdown",
   "metadata": {},
   "source": [
    "Primero revise si cuenta con lo necesario para conectarse a un archivo accdb, con el que trabajaremos temporalmente. Recuerde que en caso de obtener un resultado vacío, debe dirigirse al [siguiente sitio](https://www.microsoft.com/en-US/download/details.aspx?id=13255) o, en caso de usar Mac, al [siguiente sitio](http://www.iodbc.org/dataspace/doc/iodbc/wiki/iodbcWiki/Downloads)"
   ]
  },
  {
   "cell_type": "code",
   "execution_count": 1,
   "metadata": {},
   "outputs": [
    {
     "data": {
      "text/plain": [
       "['Microsoft Access Driver (*.mdb, *.accdb)']"
      ]
     },
     "execution_count": 1,
     "metadata": {},
     "output_type": "execute_result"
    }
   ],
   "source": [
    "import pyodbc\n",
    "[x for x in pyodbc.drivers() if x.startswith('Microsoft Access Driver')]"
   ]
  },
  {
   "cell_type": "markdown",
   "metadata": {},
   "source": [
    "#### Ejercicio 0\n",
    "Descargue la base de datos necesaria [aquí](https://drive.google.com/file/d/1EpGSxbDTGnw5GcnXOeWgD0m1vBUal7s2/view?usp=sharing) <br/>\n",
    "Conectese a la base de datos \"db.accdb\" e imprima el nombre de las tablas. Esta base de datos proviene de [datachile](https://en.datachile.io/about/data)"
   ]
  },
  {
   "cell_type": "code",
   "execution_count": 2,
   "metadata": {},
   "outputs": [],
   "source": [
    "from os import getcwd\n",
    "import pyodbc\n",
    "controlador = \"Microsoft Access Driver (*.mdb, *.accdb)\"\n",
    "directorio = getcwd() + \"\\db.accdb\"\n",
    "conn = pyodbc.connect(r\"Driver={%s};DBQ=%s;\" % (controlador, directorio))\n",
    "cursor = conn.cursor()"
   ]
  },
  {
   "cell_type": "code",
   "execution_count": 3,
   "metadata": {},
   "outputs": [
    {
     "name": "stdout",
     "output_type": "stream",
     "text": [
      "Administration_id\n",
      "Colegios_id\n",
      "Datos_rendimiento\n",
      "Rural_id\n",
      "Sex_id\n",
      "Teaching_id\n"
     ]
    }
   ],
   "source": [
    "for tablas in cursor.tables(tableType='TABLE'):\n",
    "    print(tablas.table_name)"
   ]
  },
  {
   "cell_type": "code",
   "execution_count": 3,
   "metadata": {},
   "outputs": [],
   "source": [
    "for row in cursor.columns(table = 'Nombre de la tabla'):\n",
    "        print(row.column_name)"
   ]
  },
  {
   "cell_type": "markdown",
   "metadata": {},
   "source": [
    "![Estructura](estructura.png)"
   ]
  },
  {
   "cell_type": "markdown",
   "metadata": {},
   "source": [
    "#### Ejercicio 1\n",
    "Calcule el número de instituciones que hay dependiendo de si se está en una zona rural o urbana."
   ]
  },
  {
   "cell_type": "code",
   "execution_count": 4,
   "metadata": {},
   "outputs": [
    {
     "data": {
      "text/html": [
       "<div>\n",
       "<style scoped>\n",
       "    .dataframe tbody tr th:only-of-type {\n",
       "        vertical-align: middle;\n",
       "    }\n",
       "\n",
       "    .dataframe tbody tr th {\n",
       "        vertical-align: top;\n",
       "    }\n",
       "\n",
       "    .dataframe thead th {\n",
       "        text-align: right;\n",
       "    }\n",
       "</style>\n",
       "<table border=\"1\" class=\"dataframe\">\n",
       "  <thead>\n",
       "    <tr style=\"text-align: right;\">\n",
       "      <th></th>\n",
       "      <th>Ubicación</th>\n",
       "      <th>N° de instituciones</th>\n",
       "    </tr>\n",
       "  </thead>\n",
       "  <tbody>\n",
       "    <tr>\n",
       "      <th>0</th>\n",
       "      <td>Rural</td>\n",
       "      <td>535841</td>\n",
       "    </tr>\n",
       "    <tr>\n",
       "      <th>1</th>\n",
       "      <td>Urbano</td>\n",
       "      <td>2737057</td>\n",
       "    </tr>\n",
       "  </tbody>\n",
       "</table>\n",
       "</div>"
      ],
      "text/plain": [
       "  Ubicación  N° de instituciones\n",
       "0     Rural               535841\n",
       "1    Urbano              2737057"
      ]
     },
     "execution_count": 4,
     "metadata": {},
     "output_type": "execute_result"
    }
   ],
   "source": []
  },
  {
   "cell_type": "markdown",
   "metadata": {},
   "source": [
    "#### Ejercicio 2\n",
    "Obtenga el rendimiento promedio de las zonas, separándolos por sexo."
   ]
  },
  {
   "cell_type": "code",
   "execution_count": 8,
   "metadata": {},
   "outputs": [
    {
     "data": {
      "text/html": [
       "<div>\n",
       "<style scoped>\n",
       "    .dataframe tbody tr th:only-of-type {\n",
       "        vertical-align: middle;\n",
       "    }\n",
       "\n",
       "    .dataframe tbody tr th {\n",
       "        vertical-align: top;\n",
       "    }\n",
       "\n",
       "    .dataframe thead th {\n",
       "        text-align: right;\n",
       "    }\n",
       "</style>\n",
       "<table border=\"1\" class=\"dataframe\">\n",
       "  <thead>\n",
       "    <tr style=\"text-align: right;\">\n",
       "      <th></th>\n",
       "      <th>rural</th>\n",
       "      <th>sex</th>\n",
       "      <th>PromedioDescores_average</th>\n",
       "    </tr>\n",
       "  </thead>\n",
       "  <tbody>\n",
       "    <tr>\n",
       "      <th>0</th>\n",
       "      <td>Rural</td>\n",
       "      <td>Hombre</td>\n",
       "      <td>5.0</td>\n",
       "    </tr>\n",
       "    <tr>\n",
       "      <th>1</th>\n",
       "      <td>Rural</td>\n",
       "      <td>Mujer</td>\n",
       "      <td>5.2</td>\n",
       "    </tr>\n",
       "    <tr>\n",
       "      <th>2</th>\n",
       "      <td>Urbano</td>\n",
       "      <td>Hombre</td>\n",
       "      <td>5.1</td>\n",
       "    </tr>\n",
       "    <tr>\n",
       "      <th>3</th>\n",
       "      <td>Urbano</td>\n",
       "      <td>Mujer</td>\n",
       "      <td>5.2</td>\n",
       "    </tr>\n",
       "  </tbody>\n",
       "</table>\n",
       "</div>"
      ],
      "text/plain": [
       "    rural     sex  PromedioDescores_average\n",
       "0   Rural  Hombre                       5.0\n",
       "1   Rural   Mujer                       5.2\n",
       "2  Urbano  Hombre                       5.1\n",
       "3  Urbano   Mujer                       5.2"
      ]
     },
     "execution_count": 8,
     "metadata": {},
     "output_type": "execute_result"
    }
   ],
   "source": []
  },
  {
   "cell_type": "markdown",
   "metadata": {},
   "source": [
    "#### Ejercicio 3\n",
    "¿Cuántas instituciones fueron calificadas en promedio con nota mayor a 6 para los hombres? Separe su resultado dependiendo de si se encuentra en una zona rural o urbana.\n",
    "¿Que debiesemos cambiar si queremos buscar ahora esta información para las mujeres?"
   ]
  },
  {
   "cell_type": "code",
   "execution_count": 39,
   "metadata": {},
   "outputs": [
    {
     "data": {
      "text/html": [
       "<div>\n",
       "<style scoped>\n",
       "    .dataframe tbody tr th:only-of-type {\n",
       "        vertical-align: middle;\n",
       "    }\n",
       "\n",
       "    .dataframe tbody tr th {\n",
       "        vertical-align: top;\n",
       "    }\n",
       "\n",
       "    .dataframe thead th {\n",
       "        text-align: right;\n",
       "    }\n",
       "</style>\n",
       "<table border=\"1\" class=\"dataframe\">\n",
       "  <thead>\n",
       "    <tr style=\"text-align: right;\">\n",
       "      <th></th>\n",
       "      <th>Ubicación</th>\n",
       "      <th>Cantidad</th>\n",
       "    </tr>\n",
       "  </thead>\n",
       "  <tbody>\n",
       "    <tr>\n",
       "      <th>0</th>\n",
       "      <td>Rural</td>\n",
       "      <td>23447</td>\n",
       "    </tr>\n",
       "    <tr>\n",
       "      <th>1</th>\n",
       "      <td>Urbano</td>\n",
       "      <td>129309</td>\n",
       "    </tr>\n",
       "  </tbody>\n",
       "</table>\n",
       "</div>"
      ],
      "text/plain": [
       "  Ubicación  Cantidad\n",
       "0     Rural     23447\n",
       "1    Urbano    129309"
      ]
     },
     "execution_count": 39,
     "metadata": {},
     "output_type": "execute_result"
    }
   ],
   "source": []
  },
  {
   "cell_type": "markdown",
   "metadata": {},
   "source": [
    "#### Ejercicio 4\n",
    "¿Cuántos colegios Municipales, Particulares Subvencionados y Particulares Pagados hay en la base de datos dependiendo de si se está en una zona rural o urbana?"
   ]
  },
  {
   "cell_type": "code",
   "execution_count": 48,
   "metadata": {},
   "outputs": [
    {
     "data": {
      "text/html": [
       "<div>\n",
       "<style scoped>\n",
       "    .dataframe tbody tr th:only-of-type {\n",
       "        vertical-align: middle;\n",
       "    }\n",
       "\n",
       "    .dataframe tbody tr th {\n",
       "        vertical-align: top;\n",
       "    }\n",
       "\n",
       "    .dataframe thead th {\n",
       "        text-align: right;\n",
       "    }\n",
       "</style>\n",
       "<table border=\"1\" class=\"dataframe\">\n",
       "  <thead>\n",
       "    <tr style=\"text-align: right;\">\n",
       "      <th></th>\n",
       "      <th>Zona</th>\n",
       "      <th>Administración</th>\n",
       "      <th>Cuenta</th>\n",
       "    </tr>\n",
       "  </thead>\n",
       "  <tbody>\n",
       "    <tr>\n",
       "      <th>0</th>\n",
       "      <td>Rural</td>\n",
       "      <td>Municipal DAEM</td>\n",
       "      <td>455227</td>\n",
       "    </tr>\n",
       "    <tr>\n",
       "      <th>1</th>\n",
       "      <td>Rural</td>\n",
       "      <td>Particular Subvencionado</td>\n",
       "      <td>45977</td>\n",
       "    </tr>\n",
       "    <tr>\n",
       "      <th>2</th>\n",
       "      <td>Urbano</td>\n",
       "      <td>Municipal DAEM</td>\n",
       "      <td>1222861</td>\n",
       "    </tr>\n",
       "    <tr>\n",
       "      <th>3</th>\n",
       "      <td>Urbano</td>\n",
       "      <td>Particular Pagado</td>\n",
       "      <td>106655</td>\n",
       "    </tr>\n",
       "    <tr>\n",
       "      <th>4</th>\n",
       "      <td>Urbano</td>\n",
       "      <td>Particular Subvencionado</td>\n",
       "      <td>664979</td>\n",
       "    </tr>\n",
       "  </tbody>\n",
       "</table>\n",
       "</div>"
      ],
      "text/plain": [
       "     Zona            Administración   Cuenta\n",
       "0   Rural            Municipal DAEM   455227\n",
       "1   Rural  Particular Subvencionado    45977\n",
       "2  Urbano            Municipal DAEM  1222861\n",
       "3  Urbano         Particular Pagado   106655\n",
       "4  Urbano  Particular Subvencionado   664979"
      ]
     },
     "execution_count": 48,
     "metadata": {},
     "output_type": "execute_result"
    }
   ],
   "source": []
  },
  {
   "cell_type": "markdown",
   "metadata": {},
   "source": [
    "<h2>Ejercicios Propuestos</h2>"
   ]
  },
  {
   "cell_type": "markdown",
   "metadata": {},
   "source": [
    "### Ejercicio 1\n",
    "¿CUáles son las 3 instituciones municipales DAEM de educación humanista/científica en zonas rurales para jovenes? ¿Cual es la evaluación promedio que estas recibieron?"
   ]
  },
  {
   "cell_type": "code",
   "execution_count": null,
   "metadata": {},
   "outputs": [],
   "source": []
  },
  {
   "cell_type": "markdown",
   "metadata": {},
   "source": [
    "#### Ejercicio 2\n",
    "¿Qué instituciones dentro de la categoría \"Educación Media Técnico/Profesional Marítima Jóvenes\" están dentro del top 1%?"
   ]
  },
  {
   "cell_type": "code",
   "execution_count": null,
   "metadata": {},
   "outputs": [],
   "source": []
  },
  {
   "cell_type": "markdown",
   "metadata": {},
   "source": [
    "<hr style=\"color=orange; border-color:red; height:2px; background:orange\" />\n",
    "<h2 style=\"text-align:center; font-weight:bold;\">¿Dudas?</h2>"
   ]
  }
 ],
 "metadata": {
  "kernelspec": {
   "display_name": "Python 3",
   "language": "python",
   "name": "python3"
  },
  "language_info": {
   "codemirror_mode": {
    "name": "ipython",
    "version": 3
   },
   "file_extension": ".py",
   "mimetype": "text/x-python",
   "name": "python",
   "nbconvert_exporter": "python",
   "pygments_lexer": "ipython3",
   "version": "3.6.5"
  }
 },
 "nbformat": 4,
 "nbformat_minor": 2
}
